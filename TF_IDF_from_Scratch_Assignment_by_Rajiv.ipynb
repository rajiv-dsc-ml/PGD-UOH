{
  "nbformat": 4,
  "nbformat_minor": 0,
  "metadata": {
    "colab": {
      "name": "TF-IDF from Scratch Assignment.ipynb",
      "provenance": [],
      "collapsed_sections": []
    },
    "kernelspec": {
      "name": "python3",
      "display_name": "Python 3"
    },
    "language_info": {
      "name": "python"
    }
  },
  "cells": [
    {
      "cell_type": "markdown",
      "metadata": {
        "id": "GsnogjXUQu1K"
      },
      "source": [
        "# NOTE:\n",
        "\n",
        "1. Please implement the TFIDf function such that for each word in a sentence, its corresponding tfidf value is assigned. Thus a 4 x 6 sized matrix should be returned where the rows represent sentences and the columns represent words. We wish to keep it simple in the beginning.\n",
        "\n",
        "2. In reality the TFIDF function should return a matrix where the rows represent sentences and the columns represent words (ie: Features). Every sentence vector in this matrix will be 'd' dimensional, where d = number of unique words in the corpus (ie: Vocabulary).\n",
        "Every position/cell in a sentence vector correponds to a particular word in the vocabulary. If the word is not present in the current sentence, we assign a value of 0 to that cell, else we assign the TFIDF value."
      ]
    },
    {
      "cell_type": "markdown",
      "metadata": {
        "id": "0vrZdUum2xPk"
      },
      "source": [
        "# **Implement TF-IDF from scratch**\n",
        "\n",
        "In this assignment, you will implement TF-IDF vectorization of text from scratch using only Python and inbuilt data structures. You will then verify the correctness of the your implementation using a \"grader\" function/cell (provided by us) which will match your implmentation.\n",
        "\n",
        "The grader fucntion would help you validate the correctness of your code. \n",
        "\n",
        "Please submit the final Colab notebook in the classroom ONLY after you have verified your code using the grader function/cell.\n",
        "\n",
        "**(FAQ) Why bother about implementing a function to compute TF-IDF when it is already available in major libraries?**\n",
        "\n",
        "Ans.\n",
        "1. It helps you improve your coding proficiency.\n",
        "2. It helps you obtain a deeper understanding of the concepts and how it works internally. Knowledge of the internals will also help you debug problems better.\n",
        "3. A lot of product based startups and companies do focus on this in thier interviews to gauge your depth and clarity of understanding along with your programming skills. Hence, most top universities have implementations of some ML algorithms/concepts as mandatory assignments.\n",
        "\n",
        "**NOTE: DO NOT change the \"grader\" functions or code snippets written by us.Please add your code in the suggested locations.**\n",
        "\n",
        "Ethics Code:\n",
        "1. You are welcome to read up online resources to implement the code. \n",
        "2. You can also discuss with your classmates on the implmentation over Slack.\n",
        "3. But, the code you wirte and submit should be yours ONLY. Your code will be compared against other stduents' code and online code snippets to check for plagiarism. If your code is found to be plagiarised, you will be awarded zero-marks for all assignments, which have a 10% wieghtage in the final marks for this course."
      ]
    },
    {
      "cell_type": "code",
      "metadata": {
        "id": "ZxSRJ4KT3OMw"
      },
      "source": [
        "# Corpus to be used for this assignment\n",
        "\n",
        "corpus = [\n",
        "     'this is the first document mostly',\n",
        "     'this document is the second document',\n",
        "     'and this is the third one',\n",
        "     'is this the first document here',\n",
        "]"
      ],
      "execution_count": 6,
      "outputs": []
    },
    {
      "cell_type": "code",
      "metadata": {
        "id": "aYoKXNsU3nhO"
      },
      "source": [
        "# Please implement this fucntion and write your code wherever asked. Do NOT change the code snippets provided by us.\n",
        "from math import log\n",
        "def computeTFIDF (corpus):\n",
        "  \"\"\"Given a list of sentences as \"corpus\", return the TF-IDF vectors for all the \n",
        "  sentences in the corpus as a numpy 2D matrix. \n",
        "  \n",
        "  Each row of the 2D matrix must correspond to one sentence \n",
        "  and each column corresponds to a word in the text corpus. \n",
        "  \n",
        "  Please order the rows in the same order as the \n",
        "  sentences in the input \"corpus\". \n",
        "    \n",
        "  Ignore puncutation symbols like comma, fullstop, \n",
        "  exclamation, question-mark etc from the input corpus.\n",
        "  \n",
        "  For e.g, If the corpus contains sentences with these \n",
        "  9 distinct words, ['and', 'document', 'first', 'is', 'one', 'second', 'the', 'third', 'this'], \n",
        "  then the first column of the 2D matrix will correpsond to word \"and\", the second column will \n",
        "  correspond to column \"document\" and so on. \n",
        "  \n",
        "  Write this function using only basic Python code, inbuilt Data Structures and  NumPy ONLY.\n",
        "\n",
        "  Implement the code as optimally as possible using the inbuilt data structures of Python.\n",
        "  \"\"\"\n",
        "\n",
        "  ##############################################################\n",
        "  ####   YOUR CODE BELOW  as per the above instructions #######\n",
        "  ##############################################################\n",
        "  a= corpus\n",
        "  dic = dict()                          #this will contain t-d-f values of each dimension per sentence.\n",
        "  b=[]                                  #empty list which will contain each word in the list a. Repition of words will be there in list b \n",
        "  for i in a:\n",
        "      b.extend(i.split())\n",
        "\n",
        "  b_corpus=set(b)                        #to eliminate repition, so that every word represents a unique dimension\n",
        "  b = list(b_corpus)                     # as set is non-indexable, we take a list represantion of it, so that each dimension has a uniqe idex(identity)\n",
        "  b_corpdic = {b[j]:j for j in range(len(b_corpus))}#saving the indices and corresponding words in a dictionary, so that searching for index will be O(1).\n",
        "  #print(b_corpus)\n",
        "  #print(b_corpdic)\n",
        "  tot_num_doc=len(a)                    #total number of documents\n",
        "  #print('hi',tot_num_doc)\n",
        "  for i,a_lst in enumerate(a):\n",
        "      m = a_lst.split()\n",
        "      k = b_corpus.intersection(m) \n",
        "      if len(k) == len(m):              # we know that a_lst.split() would be subset of b_corpus and if this condn. true, it implies that there is no repeated word in m \n",
        "          #appoint values in dic=dict() corresponding to this sentence\n",
        "          for var in m:\n",
        "              dic[i,b_corpdic.get(var)] = 1/len(m)\n",
        "      else:\n",
        "          for var in m:\n",
        "              if dic.get((i,b_corpdic.get(var))) == None:\n",
        "                  dic[i,b_corpdic.get(var)] = 1/len(m)\n",
        "              else:\n",
        "                  dic[i,b_corpdic.get(var)] += 1 /len(m)\n",
        "\n",
        "  #to see the t-d-f values\n",
        "  print(b_corpdic)\n",
        "\n",
        "\n",
        "  ni_dic = dict()# this dictionary wil contain ni value for a word. i.e number of documents which will contain that word\n",
        "  def ni(avar):\n",
        "      if ni_dic.get(avar)!=None:\n",
        "          return ni_dic.get(avar)\n",
        "      else:\n",
        "          count=0\n",
        "          for i in dic.keys():\n",
        "              if i[1] == avar:\n",
        "                  count+=1\n",
        "          ni_dic[avar]=count\n",
        "          return ni_dic.get(avar)\n",
        "  #implementing idf:\n",
        "  for k,v in dic.items():# here we are modifying dictionary containing tdf values to contain  tf-idf values\n",
        "      say = ni(k[1])\n",
        "      #print(say)\n",
        "      if say!=0:\n",
        "          v = v*log(tot_num_doc/say)#in normal condition, ni(k[1]) cannot be zero\n",
        "          dic[k]=round(v,3)\n",
        "      else:\n",
        "          print(\"some serious error.{either in preprocessing/..}\")\n",
        "  return dic\n",
        "  \n",
        "\n",
        "\n"
      ],
      "execution_count": 20,
      "outputs": []
    },
    {
      "cell_type": "code",
      "metadata": {
        "colab": {
          "base_uri": "https://localhost:8080/",
          "height": 234
        },
        "id": "jqbW-RRiQtp_",
        "outputId": "75863436-647f-4cc5-ebbe-ebb7219b430d"
      },
      "source": [
        "print(computeTFIDF (corpus))\n"
      ],
      "execution_count": 21,
      "outputs": [
        {
          "output_type": "stream",
          "text": [
            "{'second': 0, 'is': 1, 'first': 2, 'document': 3, 'and': 4, 'this': 5, 'third': 6, 'the': 7, 'here': 8, 'one': 9, 'mostly': 10}\n",
            "{(0, 5): 0.0, (0, 1): 0.0, (0, 7): 0.0, (0, 2): 0.116, (0, 3): 0.048, (0, 10): 0.231, (1, 5): 0.0, (1, 3): 0.096, (1, 1): 0.0, (1, 7): 0.0, (1, 0): 0.231, (2, 4): 0.231, (2, 5): 0.0, (2, 1): 0.0, (2, 7): 0.0, (2, 6): 0.231, (2, 9): 0.231, (3, 1): 0.0, (3, 5): 0.0, (3, 7): 0.0, (3, 2): 0.116, (3, 3): 0.048, (3, 8): 0.231}\n"
          ],
          "name": "stdout"
        },
        {
          "output_type": "error",
          "ename": "NameError",
          "evalue": "ignored",
          "traceback": [
            "\u001b[0;31m---------------------------------------------------------------------------\u001b[0m",
            "\u001b[0;31mNameError\u001b[0m                                 Traceback (most recent call last)",
            "\u001b[0;32m<ipython-input-21-7d2cbbfffb82>\u001b[0m in \u001b[0;36m<module>\u001b[0;34m()\u001b[0m\n\u001b[1;32m      1\u001b[0m \u001b[0mprint\u001b[0m\u001b[0;34m(\u001b[0m\u001b[0mcomputeTFIDF\u001b[0m \u001b[0;34m(\u001b[0m\u001b[0mcorpus\u001b[0m\u001b[0;34m)\u001b[0m\u001b[0;34m)\u001b[0m\u001b[0;34m\u001b[0m\u001b[0;34m\u001b[0m\u001b[0m\n\u001b[0;32m----> 2\u001b[0;31m \u001b[0mprint\u001b[0m\u001b[0;34m(\u001b[0m\u001b[0mb_corpdic\u001b[0m\u001b[0;34m)\u001b[0m\u001b[0;34m\u001b[0m\u001b[0;34m\u001b[0m\u001b[0m\n\u001b[0m",
            "\u001b[0;31mNameError\u001b[0m: name 'b_corpdic' is not defined"
          ]
        }
      ]
    },
    {
      "cell_type": "markdown",
      "metadata": {
        "id": "cZ_hmMn92bEe"
      },
      "source": [
        "# Grader Cell\n",
        "Please execute the following Grader cell to verify the correctness of your above implementation. This cell will print \"Success\" if your implmentation of the computeTFIDF() is correct, else, it will print \"Failed\". Make sure you get a \"Success\" before you submit the code in the classroom."
      ]
    },
    {
      "cell_type": "code",
      "metadata": {
        "id": "ZUYmXFjfu53i"
      },
      "source": [
        "###########################################\n",
        "## GRADER CELL: Do NOT Change this.\n",
        "# This cell will print \"Success\" if your implmentation of the computeTFIDF() is correct.\n",
        "# Else, it will print \"Failed\"\n",
        "###########################################\n",
        "import numpy as np\n",
        "\n",
        "# compute TF-IDF using the computeTFIDF() function\n",
        "X_custom = computeTFIDF(corpus)\n",
        "\n",
        "# Reference grader array - DO NOT MODIFY IT\n",
        "X_grader = np.array(\n",
        "    [[0, 0, 0, 0.12, 0.05, 0.23],\n",
        "     [0, 0.1, 0, 0, 0.23, 0.1],\n",
        "     [0.23, 0, 0, 0, 0.23, 0.23],\n",
        "     [0, 0, 0, 0.12, 0.05, 0.23]]\n",
        "     )\n",
        "\n",
        "# compare X_grader and X_custom\n",
        "comparison = ( X_grader == X_custom )\n",
        "isEqual = comparison.all()\n",
        "\n",
        "if isEqual:\n",
        "  print(\"******** Success ********\")\n",
        "else:\n",
        "  print(\"####### Failed #######\")\n",
        "  print(\"\\nX_grader = \\n\\n\", X_grader)\n",
        "  print(\"\\n\",\"*\"*50)\n",
        "  print(\"\\nX_custom = \\n\\n\", X_custom)\n"
      ],
      "execution_count": null,
      "outputs": []
    },
    {
      "cell_type": "code",
      "metadata": {
        "id": "8KnzKuIYeAEJ"
      },
      "source": [
        ""
      ],
      "execution_count": null,
      "outputs": []
    }
  ]
}