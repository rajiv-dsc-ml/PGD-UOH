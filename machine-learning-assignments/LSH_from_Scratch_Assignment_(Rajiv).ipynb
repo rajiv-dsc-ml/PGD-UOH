{
 "cells": [
  {
   "cell_type": "markdown",
   "metadata": {
    "id": "CID_27ISaRpJ"
   },
   "source": [
    "# Implement LSH from scratch\n",
    "\n",
    "In this assignment, you will implement LSH from scratch and predict the labels of the test data. You will then verify the correctness of the your implementation using a \"grader\" function/cell (provided by us) which will match your implmentation.\n",
    "\n",
    "The grader fucntion would help you validate the correctness of your code. \n",
    "\n",
    "Please submit the final Colab notebook in the classroom ONLY after you have verified your code using the grader function/cell.\n",
    "\n",
    "\n",
    "**NOTE: DO NOT change the \"grader\" functions or code snippets written by us.Please add your code in the suggested locations.**\n",
    "\n",
    "Ethics Code:\n",
    "1. You are welcome to read up online resources to implement the code. \n",
    "2. You can also discuss with your classmates on the implmentation over Slack.\n",
    "3. But, the code you write and submit should be yours ONLY. Your code will be compared against other stduents' code and online code snippets to check for plagiarism. If your code is found to be plagiarised, you will be awarded zero-marks for all assignments, which have a 10% weightage in the final marks for this course."
   ]
  },
  {
   "cell_type": "markdown",
   "metadata": {
    "id": "mR49rnr6ibOX"
   },
   "source": [
    "## Reading the data from csv file"
   ]
  },
  {
   "cell_type": "code",
   "execution_count": 81,
   "metadata": {
    "colab": {
     "base_uri": "https://localhost:8080/"
    },
    "id": "gXNLRg93cPJN",
    "outputId": "1c68cb00-729c-436e-e4cb-2b0ca1a83994"
   },
   "outputs": [
    {
     "name": "stdout",
     "output_type": "stream",
     "text": [
      "Drive already mounted at /gdrive; to attempt to forcibly remount, call drive.mount(\"/gdrive\", force_remount=True).\n",
      "/gdrive\n"
     ]
    }
   ],
   "source": [
    "# Code to mount google drive in case you are loading the data from your google drive\n",
    "from google.colab import drive\n",
    "drive.mount('/gdrive')\n",
    "%cd /gdrive"
   ]
  },
  {
   "cell_type": "code",
   "execution_count": 82,
   "metadata": {
    "colab": {
     "base_uri": "https://localhost:8080/",
     "height": 425
    },
    "id": "oA1hSk2odHUy",
    "outputId": "f2688408-f06e-4a2b-b26d-457420a20800"
   },
   "outputs": [
    {
     "ename": "FileNotFoundError",
     "evalue": "ignored",
     "output_type": "error",
     "traceback": [
      "\u001b[0;31m---------------------------------------------------------------------------\u001b[0m",
      "\u001b[0;31mFileNotFoundError\u001b[0m                         Traceback (most recent call last)",
      "\u001b[0;32m<ipython-input-82-7e398477cc74>\u001b[0m in \u001b[0;36m<module>\u001b[0;34m()\u001b[0m\n\u001b[1;32m      3\u001b[0m \u001b[0mdata_path\u001b[0m \u001b[0;34m=\u001b[0m \u001b[0;34m'/gdrive/MyDrive/PGD Assignment Notebooks/lsh_assignment_data.csv'\u001b[0m\u001b[0;34m\u001b[0m\u001b[0;34m\u001b[0m\u001b[0m\n\u001b[1;32m      4\u001b[0m \u001b[0;34m\u001b[0m\u001b[0m\n\u001b[0;32m----> 5\u001b[0;31m \u001b[0mdf\u001b[0m \u001b[0;34m=\u001b[0m \u001b[0mpd\u001b[0m\u001b[0;34m.\u001b[0m\u001b[0mread_csv\u001b[0m\u001b[0;34m(\u001b[0m\u001b[0mdata_path\u001b[0m\u001b[0;34m)\u001b[0m\u001b[0;34m\u001b[0m\u001b[0;34m\u001b[0m\u001b[0m\n\u001b[0m\u001b[1;32m      6\u001b[0m \u001b[0mdf\u001b[0m\u001b[0;34m\u001b[0m\u001b[0;34m\u001b[0m\u001b[0m\n",
      "\u001b[0;32m/usr/local/lib/python3.7/dist-packages/pandas/io/parsers.py\u001b[0m in \u001b[0;36mread_csv\u001b[0;34m(filepath_or_buffer, sep, delimiter, header, names, index_col, usecols, squeeze, prefix, mangle_dupe_cols, dtype, engine, converters, true_values, false_values, skipinitialspace, skiprows, skipfooter, nrows, na_values, keep_default_na, na_filter, verbose, skip_blank_lines, parse_dates, infer_datetime_format, keep_date_col, date_parser, dayfirst, cache_dates, iterator, chunksize, compression, thousands, decimal, lineterminator, quotechar, quoting, doublequote, escapechar, comment, encoding, dialect, error_bad_lines, warn_bad_lines, delim_whitespace, low_memory, memory_map, float_precision)\u001b[0m\n\u001b[1;32m    686\u001b[0m     )\n\u001b[1;32m    687\u001b[0m \u001b[0;34m\u001b[0m\u001b[0m\n\u001b[0;32m--> 688\u001b[0;31m     \u001b[0;32mreturn\u001b[0m \u001b[0m_read\u001b[0m\u001b[0;34m(\u001b[0m\u001b[0mfilepath_or_buffer\u001b[0m\u001b[0;34m,\u001b[0m \u001b[0mkwds\u001b[0m\u001b[0;34m)\u001b[0m\u001b[0;34m\u001b[0m\u001b[0;34m\u001b[0m\u001b[0m\n\u001b[0m\u001b[1;32m    689\u001b[0m \u001b[0;34m\u001b[0m\u001b[0m\n\u001b[1;32m    690\u001b[0m \u001b[0;34m\u001b[0m\u001b[0m\n",
      "\u001b[0;32m/usr/local/lib/python3.7/dist-packages/pandas/io/parsers.py\u001b[0m in \u001b[0;36m_read\u001b[0;34m(filepath_or_buffer, kwds)\u001b[0m\n\u001b[1;32m    452\u001b[0m \u001b[0;34m\u001b[0m\u001b[0m\n\u001b[1;32m    453\u001b[0m     \u001b[0;31m# Create the parser.\u001b[0m\u001b[0;34m\u001b[0m\u001b[0;34m\u001b[0m\u001b[0;34m\u001b[0m\u001b[0m\n\u001b[0;32m--> 454\u001b[0;31m     \u001b[0mparser\u001b[0m \u001b[0;34m=\u001b[0m \u001b[0mTextFileReader\u001b[0m\u001b[0;34m(\u001b[0m\u001b[0mfp_or_buf\u001b[0m\u001b[0;34m,\u001b[0m \u001b[0;34m**\u001b[0m\u001b[0mkwds\u001b[0m\u001b[0;34m)\u001b[0m\u001b[0;34m\u001b[0m\u001b[0;34m\u001b[0m\u001b[0m\n\u001b[0m\u001b[1;32m    455\u001b[0m \u001b[0;34m\u001b[0m\u001b[0m\n\u001b[1;32m    456\u001b[0m     \u001b[0;32mif\u001b[0m \u001b[0mchunksize\u001b[0m \u001b[0;32mor\u001b[0m \u001b[0miterator\u001b[0m\u001b[0;34m:\u001b[0m\u001b[0;34m\u001b[0m\u001b[0;34m\u001b[0m\u001b[0m\n",
      "\u001b[0;32m/usr/local/lib/python3.7/dist-packages/pandas/io/parsers.py\u001b[0m in \u001b[0;36m__init__\u001b[0;34m(self, f, engine, **kwds)\u001b[0m\n\u001b[1;32m    946\u001b[0m             \u001b[0mself\u001b[0m\u001b[0;34m.\u001b[0m\u001b[0moptions\u001b[0m\u001b[0;34m[\u001b[0m\u001b[0;34m\"has_index_names\"\u001b[0m\u001b[0;34m]\u001b[0m \u001b[0;34m=\u001b[0m \u001b[0mkwds\u001b[0m\u001b[0;34m[\u001b[0m\u001b[0;34m\"has_index_names\"\u001b[0m\u001b[0;34m]\u001b[0m\u001b[0;34m\u001b[0m\u001b[0;34m\u001b[0m\u001b[0m\n\u001b[1;32m    947\u001b[0m \u001b[0;34m\u001b[0m\u001b[0m\n\u001b[0;32m--> 948\u001b[0;31m         \u001b[0mself\u001b[0m\u001b[0;34m.\u001b[0m\u001b[0m_make_engine\u001b[0m\u001b[0;34m(\u001b[0m\u001b[0mself\u001b[0m\u001b[0;34m.\u001b[0m\u001b[0mengine\u001b[0m\u001b[0;34m)\u001b[0m\u001b[0;34m\u001b[0m\u001b[0;34m\u001b[0m\u001b[0m\n\u001b[0m\u001b[1;32m    949\u001b[0m \u001b[0;34m\u001b[0m\u001b[0m\n\u001b[1;32m    950\u001b[0m     \u001b[0;32mdef\u001b[0m \u001b[0mclose\u001b[0m\u001b[0;34m(\u001b[0m\u001b[0mself\u001b[0m\u001b[0;34m)\u001b[0m\u001b[0;34m:\u001b[0m\u001b[0;34m\u001b[0m\u001b[0;34m\u001b[0m\u001b[0m\n",
      "\u001b[0;32m/usr/local/lib/python3.7/dist-packages/pandas/io/parsers.py\u001b[0m in \u001b[0;36m_make_engine\u001b[0;34m(self, engine)\u001b[0m\n\u001b[1;32m   1178\u001b[0m     \u001b[0;32mdef\u001b[0m \u001b[0m_make_engine\u001b[0m\u001b[0;34m(\u001b[0m\u001b[0mself\u001b[0m\u001b[0;34m,\u001b[0m \u001b[0mengine\u001b[0m\u001b[0;34m=\u001b[0m\u001b[0;34m\"c\"\u001b[0m\u001b[0;34m)\u001b[0m\u001b[0;34m:\u001b[0m\u001b[0;34m\u001b[0m\u001b[0;34m\u001b[0m\u001b[0m\n\u001b[1;32m   1179\u001b[0m         \u001b[0;32mif\u001b[0m \u001b[0mengine\u001b[0m \u001b[0;34m==\u001b[0m \u001b[0;34m\"c\"\u001b[0m\u001b[0;34m:\u001b[0m\u001b[0;34m\u001b[0m\u001b[0;34m\u001b[0m\u001b[0m\n\u001b[0;32m-> 1180\u001b[0;31m             \u001b[0mself\u001b[0m\u001b[0;34m.\u001b[0m\u001b[0m_engine\u001b[0m \u001b[0;34m=\u001b[0m \u001b[0mCParserWrapper\u001b[0m\u001b[0;34m(\u001b[0m\u001b[0mself\u001b[0m\u001b[0;34m.\u001b[0m\u001b[0mf\u001b[0m\u001b[0;34m,\u001b[0m \u001b[0;34m**\u001b[0m\u001b[0mself\u001b[0m\u001b[0;34m.\u001b[0m\u001b[0moptions\u001b[0m\u001b[0;34m)\u001b[0m\u001b[0;34m\u001b[0m\u001b[0;34m\u001b[0m\u001b[0m\n\u001b[0m\u001b[1;32m   1181\u001b[0m         \u001b[0;32melse\u001b[0m\u001b[0;34m:\u001b[0m\u001b[0;34m\u001b[0m\u001b[0;34m\u001b[0m\u001b[0m\n\u001b[1;32m   1182\u001b[0m             \u001b[0;32mif\u001b[0m \u001b[0mengine\u001b[0m \u001b[0;34m==\u001b[0m \u001b[0;34m\"python\"\u001b[0m\u001b[0;34m:\u001b[0m\u001b[0;34m\u001b[0m\u001b[0;34m\u001b[0m\u001b[0m\n",
      "\u001b[0;32m/usr/local/lib/python3.7/dist-packages/pandas/io/parsers.py\u001b[0m in \u001b[0;36m__init__\u001b[0;34m(self, src, **kwds)\u001b[0m\n\u001b[1;32m   2008\u001b[0m         \u001b[0mkwds\u001b[0m\u001b[0;34m[\u001b[0m\u001b[0;34m\"usecols\"\u001b[0m\u001b[0;34m]\u001b[0m \u001b[0;34m=\u001b[0m \u001b[0mself\u001b[0m\u001b[0;34m.\u001b[0m\u001b[0musecols\u001b[0m\u001b[0;34m\u001b[0m\u001b[0;34m\u001b[0m\u001b[0m\n\u001b[1;32m   2009\u001b[0m \u001b[0;34m\u001b[0m\u001b[0m\n\u001b[0;32m-> 2010\u001b[0;31m         \u001b[0mself\u001b[0m\u001b[0;34m.\u001b[0m\u001b[0m_reader\u001b[0m \u001b[0;34m=\u001b[0m \u001b[0mparsers\u001b[0m\u001b[0;34m.\u001b[0m\u001b[0mTextReader\u001b[0m\u001b[0;34m(\u001b[0m\u001b[0msrc\u001b[0m\u001b[0;34m,\u001b[0m \u001b[0;34m**\u001b[0m\u001b[0mkwds\u001b[0m\u001b[0;34m)\u001b[0m\u001b[0;34m\u001b[0m\u001b[0;34m\u001b[0m\u001b[0m\n\u001b[0m\u001b[1;32m   2011\u001b[0m         \u001b[0mself\u001b[0m\u001b[0;34m.\u001b[0m\u001b[0munnamed_cols\u001b[0m \u001b[0;34m=\u001b[0m \u001b[0mself\u001b[0m\u001b[0;34m.\u001b[0m\u001b[0m_reader\u001b[0m\u001b[0;34m.\u001b[0m\u001b[0munnamed_cols\u001b[0m\u001b[0;34m\u001b[0m\u001b[0;34m\u001b[0m\u001b[0m\n\u001b[1;32m   2012\u001b[0m \u001b[0;34m\u001b[0m\u001b[0m\n",
      "\u001b[0;32mpandas/_libs/parsers.pyx\u001b[0m in \u001b[0;36mpandas._libs.parsers.TextReader.__cinit__\u001b[0;34m()\u001b[0m\n",
      "\u001b[0;32mpandas/_libs/parsers.pyx\u001b[0m in \u001b[0;36mpandas._libs.parsers.TextReader._setup_parser_source\u001b[0;34m()\u001b[0m\n",
      "\u001b[0;31mFileNotFoundError\u001b[0m: [Errno 2] No such file or directory: '/gdrive/MyDrive/PGD Assignment Notebooks/lsh_assignment_data.csv'"
     ]
    }
   ],
   "source": [
    "# Loading data from csv file\n",
    "import pandas as pd\n",
    "data_path = '/gdrive/MyDrive/PGD Assignment Notebooks/lsh_assignment_data.csv'\n",
    "\n",
    "df = pd.read_csv(data_path)\n",
    "df"
   ]
  },
  {
   "cell_type": "code",
   "execution_count": 64,
   "metadata": {
    "colab": {
     "base_uri": "https://localhost:8080/"
    },
    "id": "cKHb7v5edUiU",
    "outputId": "b6a9b9c8-4599-47d7-cf7e-52ae2a79af98"
   },
   "outputs": [
    {
     "data": {
      "text/plain": [
       "sport            509\n",
       "business         508\n",
       "politics         415\n",
       "tech             399\n",
       "entertainment    384\n",
       "Name: category, dtype: int64"
      ]
     },
     "execution_count": 64,
     "metadata": {
      "tags": []
     },
     "output_type": "execute_result"
    }
   ],
   "source": [
    "# Data Overiview\n",
    "df['category'].value_counts()"
   ]
  },
  {
   "cell_type": "markdown",
   "metadata": {
    "id": "Mcpy_Nrnig9V"
   },
   "source": [
    "### Creating Train and Test Datasets\n",
    "\n",
    "Note that the labels for test data will not be present in the dataset and hence they are mentioned as NaN."
   ]
  },
  {
   "cell_type": "code",
   "execution_count": 65,
   "metadata": {
    "id": "ncAK-oHFeKbS"
   },
   "outputs": [],
   "source": [
    "# The last 10 rows in the csv file are query points, so loading them into test data.\n",
    "# And loading the reamining points to train_data for which labels are given.\n",
    "\n",
    "train_data = df.iloc[:-10,:]\n",
    "test_data = df.iloc[-10:,:]"
   ]
  },
  {
   "cell_type": "code",
   "execution_count": 66,
   "metadata": {
    "colab": {
     "base_uri": "https://localhost:8080/",
     "height": 419
    },
    "id": "bs7uYx-1fh66",
    "outputId": "9ab841aa-5d74-4743-dae4-19d6bdf8a0a1"
   },
   "outputs": [
    {
     "data": {
      "text/html": [
       "<div>\n",
       "<style scoped>\n",
       "    .dataframe tbody tr th:only-of-type {\n",
       "        vertical-align: middle;\n",
       "    }\n",
       "\n",
       "    .dataframe tbody tr th {\n",
       "        vertical-align: top;\n",
       "    }\n",
       "\n",
       "    .dataframe thead th {\n",
       "        text-align: right;\n",
       "    }\n",
       "</style>\n",
       "<table border=\"1\" class=\"dataframe\">\n",
       "  <thead>\n",
       "    <tr style=\"text-align: right;\">\n",
       "      <th></th>\n",
       "      <th>category</th>\n",
       "      <th>text</th>\n",
       "    </tr>\n",
       "  </thead>\n",
       "  <tbody>\n",
       "    <tr>\n",
       "      <th>0</th>\n",
       "      <td>tech</td>\n",
       "      <td>tv future in the hands of viewers with home th...</td>\n",
       "    </tr>\n",
       "    <tr>\n",
       "      <th>1</th>\n",
       "      <td>business</td>\n",
       "      <td>worldcom boss  left books alone  former worldc...</td>\n",
       "    </tr>\n",
       "    <tr>\n",
       "      <th>2</th>\n",
       "      <td>sport</td>\n",
       "      <td>tigers wary of farrell  gamble  leicester say ...</td>\n",
       "    </tr>\n",
       "    <tr>\n",
       "      <th>3</th>\n",
       "      <td>sport</td>\n",
       "      <td>yeading face newcastle in fa cup premiership s...</td>\n",
       "    </tr>\n",
       "    <tr>\n",
       "      <th>4</th>\n",
       "      <td>entertainment</td>\n",
       "      <td>ocean s twelve raids box office ocean s twelve...</td>\n",
       "    </tr>\n",
       "    <tr>\n",
       "      <th>...</th>\n",
       "      <td>...</td>\n",
       "      <td>...</td>\n",
       "    </tr>\n",
       "    <tr>\n",
       "      <th>2210</th>\n",
       "      <td>politics</td>\n",
       "      <td>teens  know little  of politics teenagers ques...</td>\n",
       "    </tr>\n",
       "    <tr>\n",
       "      <th>2211</th>\n",
       "      <td>entertainment</td>\n",
       "      <td>lopez misses uk charity premiere jennifer lope...</td>\n",
       "    </tr>\n",
       "    <tr>\n",
       "      <th>2212</th>\n",
       "      <td>business</td>\n",
       "      <td>christmas shoppers flock to tills shops all ov...</td>\n",
       "    </tr>\n",
       "    <tr>\n",
       "      <th>2213</th>\n",
       "      <td>tech</td>\n",
       "      <td>progress on new internet domains by early 2005...</td>\n",
       "    </tr>\n",
       "    <tr>\n",
       "      <th>2214</th>\n",
       "      <td>business</td>\n",
       "      <td>bush budget seeks deep cutbacks president bush...</td>\n",
       "    </tr>\n",
       "  </tbody>\n",
       "</table>\n",
       "<p>2215 rows × 2 columns</p>\n",
       "</div>"
      ],
      "text/plain": [
       "           category                                               text\n",
       "0              tech  tv future in the hands of viewers with home th...\n",
       "1          business  worldcom boss  left books alone  former worldc...\n",
       "2             sport  tigers wary of farrell  gamble  leicester say ...\n",
       "3             sport  yeading face newcastle in fa cup premiership s...\n",
       "4     entertainment  ocean s twelve raids box office ocean s twelve...\n",
       "...             ...                                                ...\n",
       "2210       politics  teens  know little  of politics teenagers ques...\n",
       "2211  entertainment  lopez misses uk charity premiere jennifer lope...\n",
       "2212       business  christmas shoppers flock to tills shops all ov...\n",
       "2213           tech  progress on new internet domains by early 2005...\n",
       "2214       business  bush budget seeks deep cutbacks president bush...\n",
       "\n",
       "[2215 rows x 2 columns]"
      ]
     },
     "execution_count": 66,
     "metadata": {
      "tags": []
     },
     "output_type": "execute_result"
    }
   ],
   "source": [
    "# For train_data here the labels are in the column named \"category\".\n",
    "train_data"
   ]
  },
  {
   "cell_type": "code",
   "execution_count": 67,
   "metadata": {
    "colab": {
     "base_uri": "https://localhost:8080/",
     "height": 359
    },
    "id": "fc-SORtAfgqI",
    "outputId": "69e3d8dd-131a-4e5d-e70e-c092bbf20095"
   },
   "outputs": [
    {
     "data": {
      "text/html": [
       "<div>\n",
       "<style scoped>\n",
       "    .dataframe tbody tr th:only-of-type {\n",
       "        vertical-align: middle;\n",
       "    }\n",
       "\n",
       "    .dataframe tbody tr th {\n",
       "        vertical-align: top;\n",
       "    }\n",
       "\n",
       "    .dataframe thead th {\n",
       "        text-align: right;\n",
       "    }\n",
       "</style>\n",
       "<table border=\"1\" class=\"dataframe\">\n",
       "  <thead>\n",
       "    <tr style=\"text-align: right;\">\n",
       "      <th></th>\n",
       "      <th>category</th>\n",
       "      <th>text</th>\n",
       "    </tr>\n",
       "  </thead>\n",
       "  <tbody>\n",
       "    <tr>\n",
       "      <th>2215</th>\n",
       "      <td>NaN</td>\n",
       "      <td>junk e-mails on relentless rise spam traffic i...</td>\n",
       "    </tr>\n",
       "    <tr>\n",
       "      <th>2216</th>\n",
       "      <td>NaN</td>\n",
       "      <td>top stars join us tsunami tv show brad pitt  r...</td>\n",
       "    </tr>\n",
       "    <tr>\n",
       "      <th>2217</th>\n",
       "      <td>NaN</td>\n",
       "      <td>rings of steel combat net attacks gambling is ...</td>\n",
       "    </tr>\n",
       "    <tr>\n",
       "      <th>2218</th>\n",
       "      <td>NaN</td>\n",
       "      <td>davies favours gloucester future wales hooker ...</td>\n",
       "    </tr>\n",
       "    <tr>\n",
       "      <th>2219</th>\n",
       "      <td>NaN</td>\n",
       "      <td>beijingers fume over parking fees choking traf...</td>\n",
       "    </tr>\n",
       "    <tr>\n",
       "      <th>2220</th>\n",
       "      <td>NaN</td>\n",
       "      <td>cars pull down us retail figures us retail sal...</td>\n",
       "    </tr>\n",
       "    <tr>\n",
       "      <th>2221</th>\n",
       "      <td>NaN</td>\n",
       "      <td>kilroy unveils immigration policy ex-chatshow ...</td>\n",
       "    </tr>\n",
       "    <tr>\n",
       "      <th>2222</th>\n",
       "      <td>NaN</td>\n",
       "      <td>rem announce new glasgow concert us band rem h...</td>\n",
       "    </tr>\n",
       "    <tr>\n",
       "      <th>2223</th>\n",
       "      <td>NaN</td>\n",
       "      <td>how political squabbles snowball it s become c...</td>\n",
       "    </tr>\n",
       "    <tr>\n",
       "      <th>2224</th>\n",
       "      <td>NaN</td>\n",
       "      <td>souness delight at euro progress boss graeme s...</td>\n",
       "    </tr>\n",
       "  </tbody>\n",
       "</table>\n",
       "</div>"
      ],
      "text/plain": [
       "     category                                               text\n",
       "2215      NaN  junk e-mails on relentless rise spam traffic i...\n",
       "2216      NaN  top stars join us tsunami tv show brad pitt  r...\n",
       "2217      NaN  rings of steel combat net attacks gambling is ...\n",
       "2218      NaN  davies favours gloucester future wales hooker ...\n",
       "2219      NaN  beijingers fume over parking fees choking traf...\n",
       "2220      NaN  cars pull down us retail figures us retail sal...\n",
       "2221      NaN  kilroy unveils immigration policy ex-chatshow ...\n",
       "2222      NaN  rem announce new glasgow concert us band rem h...\n",
       "2223      NaN  how political squabbles snowball it s become c...\n",
       "2224      NaN  souness delight at euro progress boss graeme s..."
      ]
     },
     "execution_count": 67,
     "metadata": {
      "tags": []
     },
     "output_type": "execute_result"
    }
   ],
   "source": [
    "test_data"
   ]
  },
  {
   "cell_type": "markdown",
   "metadata": {
    "id": "5Fjey06ib1wf"
   },
   "source": [
    "<h1>Points that the student has used:</h1>\n",
    "<b>a. </b><l>The student has used what previously has been taught,i.e, to pre-process and clean the data, as has been taught earlier in Amazon Food Reviews' Data Cleaning Chapter. Due to cleaning data, the number of dimensions has gone down to 1783 , even after allowing max_feautures = 4000 in TfidfVectorizer(max_features=4000, min_df=10,ngram_range=(2,3)). </l><br>\n",
    "<b>b. </b><l>The student at first implemented the LSH using 5 random planes(with dim = dim of words) and then according to the lectures, extended it to use 5 groups of planes , with each group consisting its own 5 random planes.</l><br>\n",
    "<b>c. </b><l>The student has modified last step of getting 11 nearest neighbors,a little. In this step, when we take cosine similarity with the query point's neighbours, the one which has less value should be less preferred in voting and the one which has higher value of cosine similarity with the query point should be preferred. To achieve this, the student has modified the step of counting 11 nearest neighbors to counting the most similar neighbours with weights proportional to their similarity. </l><br>\n",
    "<small> To facilitate using this weight, a constant is introduced while taking the cosine similarities of a query point to all the possible neighbors in a region <br> The student acknowledge that this introduction of constant is dependent on the decimal places of cosine values, which will depend on nature of data.This constant's function is to take a particular digit place to act as the weight.<br> In this example, this constant is equal to 10, which gives 90 percent acc and if the constant is changed to 100, the accuracy becomes 100. This is happening because for constant 10 the neighbors which had cosine values with the query point, similar as 0.09 and 0.02 are assigned weight 0 while the neighbor which has cosine 0.19 is assigned weight 1 . </small>\n",
    "\n",
    "\n",
    "\n"
   ]
  },
  {
   "cell_type": "code",
   "execution_count": 68,
   "metadata": {
    "id": "KivUSaLNbz78"
   },
   "outputs": [],
   "source": [
    "#@title for cleaning\n",
    "from tqdm import tqdm\n",
    "from collections import defaultdict\n",
    "from bs4 import BeautifulSoup\n",
    "import numpy as np"
   ]
  },
  {
   "cell_type": "code",
   "execution_count": 69,
   "metadata": {
    "id": "DO6QF51xjOlq"
   },
   "outputs": [],
   "source": [
    "#@title cleaning\n",
    "import re\n",
    "\n",
    "def decontracted(phrase):\n",
    "    \n",
    "    phrase = re.sub(r\"won't\", \"will not\", phrase)\n",
    "    phrase = re.sub(r\"can\\'t\", \"can not\", phrase)\n",
    "    phrase = re.sub(r\"n\\'t\", \" not\", phrase)\n",
    "    phrase = re.sub(r\"\\'re\", \" are\", phrase)\n",
    "    phrase = re.sub(r\"\\'s\", \" is\", phrase)\n",
    "    phrase = re.sub(r\"\\'d\", \" would\", phrase)\n",
    "    phrase = re.sub(r\"\\'ll\", \" will\", phrase)\n",
    "    phrase = re.sub(r\"\\'t\", \" not\", phrase)\n",
    "    phrase = re.sub(r\"\\'ve\", \" have\", phrase)\n",
    "    phrase = re.sub(r\"\\'m\", \" am\", phrase)\n",
    "    \n",
    "    \n",
    "    return phrase"
   ]
  },
  {
   "cell_type": "code",
   "execution_count": 70,
   "metadata": {
    "id": "tKqEfFv-jXX9"
   },
   "outputs": [],
   "source": [
    "stopwords= set(['br', 'the', 'i', 'me', 'my', 'myself', 'we', 'our', 'ours', 'ourselves', 'you', \"you're\", \"you've\",\\\n",
    "            \"you'll\", \"you'd\", 'your', 'yours', 'yourself', 'yourselves', 'he', 'him', 'his', 'himself', \\\n",
    "            'she', \"she's\", 'her', 'hers', 'herself', 'it', \"it's\", 'its', 'itself', 'they', 'them', 'their',\\\n",
    "            'theirs', 'themselves', 'what', 'which', 'who', 'whom', 'this', 'that', \"that'll\", 'these', 'those', \\\n",
    "            'am', 'is', 'are', 'was', 'were', 'be', 'been', 'being', 'have', 'has', 'had', 'having', 'do', 'does', \\\n",
    "            'did', 'doing', 'a', 'an', 'the', 'and', 'but', 'if', 'or', 'because', 'as', 'until', 'while', 'of', \\\n",
    "            'at', 'by', 'for', 'with', 'about', 'against', 'between', 'into', 'through', 'during', 'before', 'after',\\\n",
    "            'above', 'below', 'to', 'from', 'up', 'down', 'in', 'out', 'on', 'off', 'over', 'under', 'again', 'further',\\\n",
    "            'then', 'once', 'here', 'there', 'when', 'where', 'why', 'how', 'all', 'any', 'both', 'each', 'few', 'more',\\\n",
    "            'most', 'other', 'some', 'such', 'only', 'own', 'same', 'so', 'than', 'too', 'very', \\\n",
    "            's', 't', 'can', 'will', 'just', 'don', \"don't\", 'should', \"should've\", 'now', 'd', 'll', 'm', 'o', 're', \\\n",
    "            've', 'y', 'ain', 'aren', \"aren't\", 'couldn', \"couldn't\", 'didn', \"didn't\", 'doesn', \"doesn't\", 'hadn',\\\n",
    "            \"hadn't\", 'hasn', \"hasn't\", 'haven', \"haven't\", 'isn', \"isn't\", 'ma', 'mightn', \"mightn't\", 'mustn',\\\n",
    "            \"mustn't\", 'needn', \"needn't\", 'shan', \"shan't\", 'shouldn', \"shouldn't\", 'wasn', \"wasn't\", 'weren', \"weren't\", \\\n",
    "            'won', \"won't\", 'wouldn', \"wouldn't\"])"
   ]
  },
  {
   "cell_type": "code",
   "execution_count": 71,
   "metadata": {
    "cellView": "code",
    "id": "lOp35T7IjeWW"
   },
   "outputs": [],
   "source": [
    "#@title cleaning_training_data\n",
    "from tqdm import tqdm\n",
    "def text_cleaner(ser):\n",
    "  cleaned_reviews = []\n",
    "  for sentance in tqdm(ser.values):\n",
    "      sentance = re.sub(r\"http\\S+\", \"\", sentance)\n",
    "      sentance = BeautifulSoup(sentance, 'lxml').get_text()\n",
    "      sentance = decontracted(sentance)\n",
    "      sentance = re.sub(\"\\S*\\d\\S*\", \"\", sentance).strip()\n",
    "      sentance = re.sub('[^A-Za-z]+', ' ', sentance)\n",
    "      sentance = ' '.join(e.lower() for e in sentance.split() if e.lower() not in stopwords)\n",
    "      cleaned_reviews.append(sentance.strip())\n",
    "  return cleaned_reviews\n",
    "\n"
   ]
  },
  {
   "cell_type": "code",
   "execution_count": 72,
   "metadata": {
    "colab": {
     "base_uri": "https://localhost:8080/"
    },
    "id": "vE9sotBctIrl",
    "outputId": "bd7c2fca-8258-469f-9a75-29dd1674c67a"
   },
   "outputs": [
    {
     "name": "stderr",
     "output_type": "stream",
     "text": [
      "100%|██████████| 2215/2215 [00:01<00:00, 1134.50it/s]\n"
     ]
    }
   ],
   "source": [
    "clean_train_data=text_cleaner(train_data.text)"
   ]
  },
  {
   "cell_type": "markdown",
   "metadata": {
    "id": "NQxHocer1RjU"
   },
   "source": [
    "<h3>Vector Representation of train_data :</h3>"
   ]
  },
  {
   "cell_type": "code",
   "execution_count": 73,
   "metadata": {
    "cellView": "code",
    "id": "CEb8U6fSLS20"
   },
   "outputs": [],
   "source": [
    "#@title for vectorization of train_data\n",
    "from sklearn.feature_extraction.text import TfidfVectorizer\n",
    "import math\n",
    "import numpy as np\n",
    "np.random.seed(0)"
   ]
  },
  {
   "cell_type": "code",
   "execution_count": 74,
   "metadata": {
    "id": "w3Cj3EeoqNPr"
   },
   "outputs": [],
   "source": [
    "tf_idf_vect2 = TfidfVectorizer(max_features=4000, min_df=10,ngram_range=(2,3))\n",
    "tf_idf_fit2 = tf_idf_vect2.fit(clean_train_data)\n",
    "tf_idf_transform2 = tf_idf_fit2.transform(clean_train_data)\n",
    "#tf_idf_transform2.shape\n",
    "\n",
    "\n",
    "\n",
    "\n",
    "\n"
   ]
  },
  {
   "cell_type": "markdown",
   "metadata": {
    "id": "RdLycswj1pli"
   },
   "source": [
    "<h3>Creating Hash Table</h3>\n",
    "<h4>Here, Hash table is a dictionary which contains 5 sub-dictionaries </h4>\n",
    "<h5>What does a sub-dictionary hold? <br> Answer: keys representing 32 regions made by 5 random h-planes</h5>\n"
   ]
  },
  {
   "cell_type": "code",
   "execution_count": 75,
   "metadata": {
    "cellView": "code",
    "id": "q2-SmPsGHO-_"
   },
   "outputs": [],
   "source": [
    "#@title Five groups of Five Random hyper-planes each\n",
    "#hash_tab1 is a group of 5 random hplanes and likewise hash_tab2 and so is hash_tab3 and others.\n",
    "#each hash_tab consists 32 regions made by 5 random h-planes. \n",
    "range_all = list()\n",
    "\n",
    "for i in range(32):       #a simple hack to generate 32 distinct keys for each hash_tab, which will represent 32 regions created by a group of 5 random h-planes\n",
    "  n = bin(i)[2:].zfill(5)\n",
    "  k = tuple(int(i) for i in n)\n",
    "  range_all.append(k)\n",
    "hash_tab1={k:[] for k in range_all}\n",
    "hash_tab2 = {k:[] for k in range_all}\n",
    "hash_tab3 = {k:[] for k in range_all}\n",
    "hash_tab4 = {k:[] for k in range_all}\n",
    "hash_tab5 = {k:[] for k in range_all}\n"
   ]
  },
  {
   "cell_type": "markdown",
   "metadata": {
    "id": "gUOKnumK3jXD"
   },
   "source": [
    "<h2>Training the model on vectorised taining_data</h2>\n",
    "<h4>Basic method of this training?</h4>\n",
    "<h5>using dot pdt of train_data(2215,1783) and transpose of 5planes(1783,5)</h5>\n",
    "<h6>What is the meaning of this dot product?</h6>\n",
    "<h>Dot pdt of a given data point with a generated h-plane, signifies the signed distance of that point from that h-plane<br> In a nutshell, </h7>\n",
    "<small><b>we are getting signed distance from each of the 5 planes for each point. </b></small>\n",
    "<small><i>above process is repeated 5 times,as I am making 5 groups of 5 random h-planes</i><small>"
   ]
  },
  {
   "cell_type": "code",
   "execution_count": 76,
   "metadata": {
    "id": "m2mlfr7uL0sM"
   },
   "outputs": [],
   "source": [
    "pdt_group = []\n",
    "group_of_planes = []\n",
    "\n",
    "\n",
    "hash_group = {'hash_tab1':hash_tab1,'hash_tab2':hash_tab2,'hash_tab3':hash_tab3,'hash_tab4':hash_tab4,'hash_tab5':hash_tab5}\n",
    "#\n",
    "for i in range(5):\n",
    "    five_planes = np.array([[i for i in np.random.normal(0,1,1783)] for j in range(5)])#1783 instead of 4000? Because of cleaning, train_data has reduced its feautures ans so to maintain consistency.\n",
    "    group_of_planes.append(five_planes)\n",
    "    pdt=tf_idf_transform2.dot(five_planes.T)\n",
    "    pdt = np.where(pdt>=0,1,0)\n",
    "    pdt_group.append(pdt)\n",
    "    #print(pdt.shape)\n",
    "#print(np.array(pdt_group).shape)\n",
    "pdt_group = np.array(pdt_group)\n",
    "group_of_planes = np.array(group_of_planes)\n",
    "for i,k in zip(pdt_group,hash_group.keys()):\n",
    "    #lst=[]\n",
    "    for j,j_ele in enumerate(i):\n",
    "        hash_group[k][tuple(j_ele)].append(j) \n"
   ]
  },
  {
   "cell_type": "markdown",
   "metadata": {
    "id": "bdZ-BZ4J21hf"
   },
   "source": [
    "<h3>The following two cells will be used for test_data,later:</h3>"
   ]
  },
  {
   "cell_type": "code",
   "execution_count": 77,
   "metadata": {
    "cellView": "code",
    "id": "nINDqC86V0F4"
   },
   "outputs": [],
   "source": [
    "#@title multiplying test_data with the group of planes\n",
    "def hash_new(text):\n",
    "    lst_arr=np.array([text.dot(i.T) for i in group_of_planes])\n",
    "    return lst_arr"
   ]
  },
  {
   "cell_type": "code",
   "execution_count": 78,
   "metadata": {
    "id": "pFBYu95ddxHs"
   },
   "outputs": [],
   "source": [
    "def nearest_nbrs(transform_sample,ala):\n",
    "      nbr_arr=((transform_sample.dot(tf_idf_transform2[ala].T))*10) \n",
    "      return nbr_arr\n"
   ]
  },
  {
   "cell_type": "markdown",
   "metadata": {
    "id": "THwTMvVU9j-8"
   },
   "source": [
    "<b>In above cell:multiplication of 10 is there to facilitate using weight of the neighbouring point in voting<br>weight has been tried to be kept proportional to the magnitude of cosine sim<br></b>\n",
    "<small>multiplication with 10 to obtain the significant digit <br>\n",
    "and this digit is treated as its weight.If this digit is 100, accuracy increases<br>\n",
    " to 100% as in case all the cosine multiplication of a text with a plane<br>\n",
    "gives 0.00something.multiplication of 10 will not be a proper choice <br>\n",
    " this constant will depend on data, and might be a drawback[not often].</small>"
   ]
  },
  {
   "cell_type": "markdown",
   "metadata": {
    "id": "U1jeyM0emKOw"
   },
   "source": [
    "## Custom Implementation"
   ]
  },
  {
   "cell_type": "code",
   "execution_count": 79,
   "metadata": {
    "id": "YECivOCWfvGn"
   },
   "outputs": [],
   "source": [
    "# Please implement this fucntion and write your code wherever asked. Do NOT change the code snippets provided by us.\n",
    "\n",
    "import numpy as np\n",
    "\n",
    "def predictLabels (test_data):\n",
    "  \"\"\"\n",
    "  Given the test_data, return the labels for all the rows in the test data.\n",
    "  Follow the step by step instructions mentioned above.\n",
    "  \"\"\"\n",
    "\n",
    "  np.random.seed(0)\n",
    "\n",
    "  ##############################################################\n",
    "  ####  Write YOUR CODE BELOW  as per the above instructions ###\n",
    "  ##############################################################\n",
    "  \n",
    "  \n",
    "  \n",
    "  result = []\n",
    "\n",
    "  \n",
    "  for i in range(test_data.shape[0]):  \n",
    "      test_text = test_data['text'].iloc[[i]].tolist()\n",
    "      transform_sample=tf_idf_fit2.transform(test_text)\n",
    "      sample_tes=hash_new(transform_sample)   \n",
    "      sample_tes = np.where(sample_tes>=0,1,0)\n",
    "      new_lst1 = [np.array(hash_group['hash_tab1'][tuple(sample_tes[0][0])]),\n",
    "                  np.array(hash_group['hash_tab2'][tuple(sample_tes[1][0])]),\n",
    "                  np.array(hash_group['hash_tab3'][tuple(sample_tes[2][0])]),\n",
    "                  np.array(hash_group['hash_tab4'][tuple(sample_tes[3][0])]),\n",
    "                  np.array(hash_group['hash_tab5'][tuple(sample_tes[4][0])])\n",
    "                ]\n",
    "      each_res_avg = []                                    \n",
    "      for i,it in enumerate(new_lst1):\n",
    "          my_nbr = nearest_nbrs(transform_sample,it)\n",
    "          index = my_nbr.nonzero()[1]\n",
    "          weight = [math.floor(my_nbr[(0,i)]) for i in index]\n",
    "          index = np.repeat(index,weight)                  #this is done so that the index which has higher cosine similar value are repeated accordingly,to ensure a fairer voting to an extent                                                 \n",
    "          if index.size != 0:\n",
    "              ser_nbrs=df.category[it[index]].value_counts()\n",
    "              every_res=ser_nbrs[ser_nbrs==ser_nbrs.max()].sort_index().index[0]\n",
    "              each_res_avg.append(every_res)\n",
    "          else:\n",
    "              pass\n",
    "      d = defaultdict(int)\n",
    "      for i in each_res_avg:\n",
    "          d[i] += 1\n",
    "      #print(d)\n",
    "      ser= pd.Series(d)\n",
    "      #print(ser)\n",
    "      every=ser[ser==ser.max()].sort_index().index[0]\n",
    "      \n",
    "      result.append(every)\n",
    "      \n",
    "      \n",
    "\n",
    "\n",
    "  return result\n",
    "        \n",
    "\n"
   ]
  },
  {
   "cell_type": "markdown",
   "metadata": {
    "id": "2ENaFJcoqXsv"
   },
   "source": []
  },
  {
   "cell_type": "markdown",
   "metadata": {
    "id": "AU6mt5wq3Oyg"
   },
   "source": [
    "### Instructions:\n",
    "\n",
    "  1. Read in the train_data.\n",
    "  2. Vectorize train_data using sklearns built in tfidf vectorizer.\n",
    "  3. Ignore unigrams and make use of both **bigrams & trigrams** and also limit the **max features** to **4000** and **minimum document frequency** to **10**.\n",
    "  4. After the tfidf vectors are generated as mentioned above, next task is to generate random hyperplanes.\n",
    "  5. Generate **5 random hyperplanes**. And generate the hyperplanes using a random normal distribution with **mean zero and variance 1**. \n",
    "  6. We have set the **numpy random seed to zero**, please do not change it. And then you can make use of **np.random.normal** to generate the vectors for hyperplanes.\n",
    "  7. As mentioned in the course videos, compute the hash function and also the corresponding hash table for it.\n",
    "  8. Once the hash table is generated now take in each of the query points from the test data.\n",
    "  9. Vectorize those query points using the same tfidf vectorizer as mentioned above.\n",
    "  10. Now use the hash function on this query point and fetch all the similar data points from the hashtable.\n",
    "  11. Use cosine similarity to compute **11-Nearest Neighbours** from the list of data points obtained in the above step.\n",
    "  12. Take a majority vote among the 11-Nearest Neighbours and predict the class label for the query point in the test data.\n",
    "  13. **In case of a tie** in the obtained labels from nearest neighbours, you can pick a label after sorting all the labels **alphabetically**(A-Z), i.e. for example labels starting with A would get more preference than labels starting with Z.\n",
    "  14. Repeat steps 9 to 13 for all the points in the test data and then finally return a list with all the predicted labels.\n",
    "  15. Note that there are a total of 10 data points in the test data so the final list you return should be of length 10.\n",
    "  16. Also note that the cosine similarity function should be written from scratch, you should not directly make use of existing libraries.\n",
    "  17. Please use the formula of cosine similarity as explained in the course videos, you can make use of numpy or scipy to calculate dot or norm or transpose."
   ]
  },
  {
   "cell_type": "markdown",
   "metadata": {
    "id": "rhnngvQkrnBB"
   },
   "source": [
    "## Grader Cell\n",
    "\n",
    "Please execute the following Grader cell to verify the correctness of your above implementation. This cell will print \"Success\" if your implmentation of the predictLabels() is correct, else, it will print \"Failed\". Make sure you get a \"Success\" before you submit the code in the classroom."
   ]
  },
  {
   "cell_type": "code",
   "execution_count": 80,
   "metadata": {
    "colab": {
     "base_uri": "https://localhost:8080/"
    },
    "id": "GX1sji2XrtmX",
    "outputId": "85942257-a4f3-4ade-bdd7-d485dc929197"
   },
   "outputs": [
    {
     "name": "stdout",
     "output_type": "stream",
     "text": [
      "******** Success ******** Accuracy Achieved =  90 %\n"
     ]
    }
   ],
   "source": [
    "###########################################\n",
    "## GRADER CELL: Do NOT Change this.\n",
    "# This cell will print \"Success\" if your implmentation of the predictLabels() is correct and the accuracy obtained is above 80%.\n",
    "# Else, it will print \"Failed\"\n",
    "###########################################\n",
    "import numpy as np\n",
    "\n",
    "# Predict the labels using the predictLabels() function\n",
    "Y_custom = np.array(predictLabels(test_data))\n",
    "\n",
    "# Reference grader array - DO NOT MODIFY IT\n",
    "Y_grader = np.array(['tech', 'entertainment', 'tech', 'sport', 'business', 'business', 'politics', 'entertainment', 'politics', 'sport'])\n",
    "\n",
    "# Calculating accuracy by comparing Y_grader and Y_custom\n",
    "accuracy = np.sum(Y_grader==Y_custom) * 10\n",
    "\n",
    "if accuracy >= 80:\n",
    "  print(\"******** Success ********\",\"Accuracy Achieved = \", accuracy,'%')\n",
    "else:\n",
    "  print(\"####### Failed #######\",\"Accuracy Achieved = \", accuracy,'%')\n",
    "  print(\"\\nY_grader = \\n\\n\", Y_grader)\n",
    "  print(\"\\n\",\"*\"*50)\n",
    "  print(\"\\nY_custom = \\n\\n\", Y_custom)\n"
   ]
  }
 ],
 "metadata": {
  "colab": {
   "collapsed_sections": [],
   "name": "Copy of LSH from Scratch Assignment.ipynb",
   "provenance": []
  },
  "kernelspec": {
   "display_name": "Python 3",
   "language": "python",
   "name": "python3"
  },
  "language_info": {
   "codemirror_mode": {
    "name": "ipython",
    "version": 3
   },
   "file_extension": ".py",
   "mimetype": "text/x-python",
   "name": "python",
   "nbconvert_exporter": "python",
   "pygments_lexer": "ipython3",
   "version": "3.8.8"
  }
 },
 "nbformat": 4,
 "nbformat_minor": 1
}
