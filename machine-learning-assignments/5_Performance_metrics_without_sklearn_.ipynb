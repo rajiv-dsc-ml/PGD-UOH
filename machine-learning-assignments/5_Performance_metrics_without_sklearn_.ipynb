{
  "nbformat": 4,
  "nbformat_minor": 0,
  "metadata": {
    "colab": {
      "name": "5_Performance_metrics_without sklearn .ipynb",
      "provenance": [],
      "collapsed_sections": []
    },
    "language_info": {
      "codemirror_mode": {
        "name": "ipython",
        "version": 3
      },
      "file_extension": ".py",
      "mimetype": "text/x-python",
      "name": "python",
      "nbconvert_exporter": "python",
      "pygments_lexer": "ipython3",
      "version": "3.6.8"
    },
    "kernelspec": {
      "display_name": "Python 3",
      "language": "python",
      "name": "python3"
    }
  },
  "cells": [
    {
      "cell_type": "markdown",
      "metadata": {
        "id": "s0Ej_bXyQvnV"
      },
      "source": [
        "# Compute performance metrics for the given Y and Y_score without sklearn"
      ]
    },
    {
      "cell_type": "code",
      "metadata": {
        "id": "4CHb6NE7Qvnc"
      },
      "source": [
        "import numpy as np\n",
        "import pandas as pd\n",
        "# other than these two you should not import any other packages\n",
        "import gdown"
      ],
      "execution_count": null,
      "outputs": []
    },
    {
      "cell_type": "markdown",
      "metadata": {
        "id": "KbsWXuDaQvnq"
      },
      "source": [
        "<pre>\n",
        "<font color='red'><b>A.</b></font> Compute performance metrics for the given data <strong>5_a.csv</strong>\n",
        "   <b>Note 1:</b> in this data you can see number of positive points >> number of negatives points\n",
        "   <b>Note 2:</b> use pandas or numpy to read the data from <b>5_a.csv</b>\n",
        "   <b>Note 3:</b> you need to derive the class labels from given score</pre> $y^{pred}= \\text{[0 if y_score < 0.5 else 1]}$\n",
        "\n",
        "<pre>\n",
        "<ol>\n",
        "<li> Compute Confusion Matrix </li>\n",
        "<li> Compute F1 Score </li>\n",
        "<li> Compute AUC Score, you need to compute different thresholds and for each threshold compute tpr,fpr and then use               numpy.trapz(tpr_array, fpr_array) <a href='https://stackoverflow.com/q/53603376/4084039'>https://stackoverflow.com/q/53603376/4084039</a>, <a href='https://stackoverflow.com/a/39678975/4084039'>https://stackoverflow.com/a/39678975/4084039</a> Note: it should be numpy.trapz(tpr_array, fpr_array) not numpy.trapz(fpr_array, tpr_array)</li>\n",
        "<li> Compute Accuracy Score </li>\n",
        "</ol>\n",
        "</pre>"
      ]
    },
    {
      "cell_type": "code",
      "metadata": {
        "id": "jaRQuOd1ugRf",
        "colab": {
          "base_uri": "https://localhost:8080/"
        },
        "outputId": "63458d20-6ad1-413e-eefd-5f2ab4c5e2c9"
      },
      "source": [
        "data = pd.read_csv('/content/5_a.csv')#,delim_whitespace=True, header=None)\n",
        "data.info()"
      ],
      "execution_count": null,
      "outputs": [
        {
          "output_type": "stream",
          "name": "stdout",
          "text": [
            "<class 'pandas.core.frame.DataFrame'>\n",
            "RangeIndex: 10100 entries, 0 to 10099\n",
            "Data columns (total 2 columns):\n",
            " #   Column  Non-Null Count  Dtype  \n",
            "---  ------  --------------  -----  \n",
            " 0   y       10100 non-null  float64\n",
            " 1   proba   10100 non-null  float64\n",
            "dtypes: float64(2)\n",
            "memory usage: 157.9 KB\n"
          ]
        }
      ]
    },
    {
      "cell_type": "code",
      "metadata": {
        "id": "SxmLXtsk5Buk",
        "colab": {
          "base_uri": "https://localhost:8080/",
          "height": 284
        },
        "outputId": "b39fe5df-8784-4a83-ae98-1b5ef78f39cf"
      },
      "source": [
        "data.plot.hist( )"
      ],
      "execution_count": null,
      "outputs": [
        {
          "output_type": "execute_result",
          "data": {
            "text/plain": [
              "<matplotlib.axes._subplots.AxesSubplot at 0x7fc93d709e10>"
            ]
          },
          "metadata": {},
          "execution_count": 6
        },
        {
          "output_type": "display_data",
          "data": {
            "image/png": "[encoded data removed]",
            "text/plain": [
              "<Figure size 432x288 with 1 Axes>"
            ]
          },
          "metadata": {
            "needs_background": "light"
          }
        }
      ]
    },
    {
      "cell_type": "code",
      "metadata": {
        "id": "x0KToKFH3T_W"
      },
      "source": [
        "g_truths = data.y.values"
      ],
      "execution_count": null,
      "outputs": []
    },
    {
      "cell_type": "code",
      "metadata": {
        "id": "G7TtXB-73xPs"
      },
      "source": [
        "probs = data.proba.values\n",
        "preds = np.where(probs<0.5 , 0,1)\n"
      ],
      "execution_count": null,
      "outputs": []
    },
    {
      "cell_type": "code",
      "metadata": {
        "id": "1I3sdTWf6RkN"
      },
      "source": [
        "def confusion_matrix(truths, preds, n_classes = 2):\n",
        "  array = np.zeros((n_classes,n_classes))\n",
        "  #[(0,0):'tn',(0,1):'fn', (1,0) : 'fp', (1,2):'tp']\n",
        "  k = preds + truths\n",
        "  p = preds - truths\n",
        "  tn = len(truths) - np.count_nonzero(k)\n",
        "  fn = np.count_nonzero(np.where(p<0, 1, 0))\n",
        "  fp = np.count_nonzero(np.where(p==1,1,0))\n",
        "  tp = np.count_nonzero(np.where(k==2, 1, 0))\n",
        "  pion = 0 \n",
        "  rcall = 0\n",
        "  f1 =0\n",
        "  try:  \n",
        "    pion = tp/(tp+fp)\n",
        "    rcall = tp/(tp+fn)\n",
        "  except ZeroDivisionError:\n",
        "    pion = 'all the predicted pts are non_zero'\n",
        "    f1 = 'all the predicted pts are non_zero'\n",
        "  else:\n",
        "    f1 = 2*pion*rcall/(pion+rcall)\n",
        "\n",
        "  accuracy = (tp+tn)/len(truths)\n",
        "\n",
        "  array[0,0] = tn\n",
        "  array[0,1] = fn\n",
        "  array[1,0] = fp\n",
        "  array[1,1] = tp\n",
        "\n",
        "  return array, pion, rcall, f1, accuracy\n",
        "\n",
        "\n",
        "def tpr_fpr(truths,preds):\n",
        "  k = preds + truths\n",
        "  p = preds - truths\n",
        "  tn = len(truths) - np.count_nonzero(k)\n",
        "  fn = np.count_nonzero(np.where(p<0, 1, 0))\n",
        "  fp = np.count_nonzero(np.where(p==1,1,0))\n",
        "  tp = np.count_nonzero(np.where(k==2, 1, 0))\n",
        "\n",
        "  tpr = tp/(tp+fn)\n",
        "  fpr = fp/(fp + tn)\n",
        "\n",
        "  return tpr, fpr\n"
      ],
      "execution_count": null,
      "outputs": []
    },
    {
      "cell_type": "code",
      "metadata": {
        "id": "-6B5Bu1XBsuL"
      },
      "source": [
        "a = confusion_matrix(truths = g_truths, preds = preds)"
      ],
      "execution_count": null,
      "outputs": []
    },
    {
      "cell_type": "code",
      "metadata": {
        "id": "h-E2QAAUCPpC",
        "colab": {
          "base_uri": "https://localhost:8080/"
        },
        "outputId": "0aa08e55-c5c9-46ee-cd8e-d7588bc6e3e8"
      },
      "source": [
        "print(\"confusion matrix regarding 5_a is : \", a[0])\n",
        "print(\"precison regarding 5_a is: \", a[1])\n",
        "print(\"recall regarding 5_a is : \", a[2])\n",
        "print(\"f1 score regarding 5_a is : \", a[3])\n",
        "print(\"accuracy regarding 5a is : \", a[4])\n",
        "\n",
        "#note the cases in imbalanced data"
      ],
      "execution_count": null,
      "outputs": [
        {
          "output_type": "stream",
          "name": "stdout",
          "text": [
            "confusion matrix regarding 5_a is :  [[    0.     0.]\n",
            " [  100. 10000.]]\n",
            "precison regarding 5_a is:  0.9900990099009901\n",
            "recall regarding 5_a is :  1.0\n",
            "f1 score regarding 5_a is :  0.9950248756218906\n",
            "accuracy regarding 5a is :  0.9900990099009901\n"
          ]
        }
      ]
    },
    {
      "cell_type": "code",
      "metadata": {
        "id": "6wQmFFOVQX4d"
      },
      "source": [
        "def auc_cal(truths, probs):\n",
        "  set_probs = set(probs)\n",
        "  set_probs = list(set_probs)\n",
        "  set_probs = np.sort(set_probs)\n",
        "  \n",
        "  tpr_lst = []\n",
        "  fpr_lst = []\n",
        "\n",
        "  for prob in set_probs:\n",
        "    thres = prob\n",
        "    preds = np.where(probs <= thres, 0, 1 )\n",
        "    tpr_fpr_tuple = tpr_fpr(truths, preds)\n",
        "    tpr_lst.append(tpr_fpr_tuple[0])\n",
        "    fpr_lst.append(tpr_fpr_tuple[1])\n",
        "\n",
        "  auc = np.trapz(sorted(tpr_lst), sorted(fpr_lst))\n",
        "\n",
        "  return auc\n",
        "\n",
        "\n"
      ],
      "execution_count": null,
      "outputs": []
    },
    {
      "cell_type": "code",
      "metadata": {
        "id": "4_ytfgSzU_wJ",
        "colab": {
          "base_uri": "https://localhost:8080/"
        },
        "outputId": "0df94cd3-636a-4aa7-dfba-25a1e7c3b80d"
      },
      "source": [
        "print(\"AUC regarding 5_a is :\",auc_cal(g_truths,probs))"
      ],
      "execution_count": null,
      "outputs": [
        {
          "output_type": "stream",
          "name": "stdout",
          "text": [
            "AUC regarding 5_a is : 0.48829900000000004\n"
          ]
        }
      ]
    },
    {
      "cell_type": "markdown",
      "metadata": {
        "id": "V5KZem1BQvn2"
      },
      "source": [
        "<pre>\n",
        "<font color='red'><b>B.</b></font> Compute performance metrics for the given data <strong>5_b.csv</strong>\n",
        "   <b>Note 1:</b> in this data you can see number of positive points << number of negatives points\n",
        "   <b>Note 2:</b> use pandas or numpy to read the data from <b>5_b.csv</b>\n",
        "   <b>Note 3:</b> you need to derive the class labels from given score</pre> $y^{pred}= \\text{[0 if y_score < 0.5 else 1]}$\n",
        "\n",
        "<pre>\n",
        "<ol>\n",
        "<li> Compute Confusion Matrix </li>\n",
        "<li> Compute F1 Score </li>\n",
        "<li> Compute AUC Score, you need to compute different thresholds and for each threshold compute tpr,fpr and then use               numpy.trapz(tpr_array, fpr_array) <a href='https://stackoverflow.com/q/53603376/4084039'>https://stackoverflow.com/q/53603376/4084039</a>, <a href='https://stackoverflow.com/a/39678975/4084039'>https://stackoverflow.com/a/39678975/4084039</a></li>\n",
        "<li> Compute Accuracy Score </li>\n",
        "</ol>\n",
        "</pre>"
      ]
    },
    {
      "cell_type": "code",
      "metadata": {
        "id": "U2sKlq0YQvn5",
        "colab": {
          "base_uri": "https://localhost:8080/"
        },
        "outputId": "0f02189e-61b4-493f-b824-be9084abc928"
      },
      "source": [
        "# write your code\n",
        "data_b =pd.read_csv('/content/5_b.csv')\n",
        "data_b.head()\n",
        "\n",
        "probs_b = data_b.proba.values\n",
        "preds_b = np.where(probs_b<0.5 , 0,1)\n",
        "\n",
        "(array, pion, recall,f1, accuracy) = confusion_matrix(truths=data_b.y.values, preds=preds_b)#[array,pion,recall,f1,accuracy]\n",
        "print(\"confusion_matrix regards to 5_b.csv is \", array)\n",
        "print(\"precision regarding 5_b is \",pion)\n",
        "print(\"recall regarding 5_b is \",recall)\n",
        "print(\"f1_score regarding 5_b is \",f1)\n",
        "print(\"accuracy regarding 5_b is \",accuracy)\n",
        "\n",
        "\n",
        "auc_b = auc_cal(truths= data_b.y.values, probs= data_b.proba.values)\n",
        "print(\"auc regarding 5_b is \",auc_b)"
      ],
      "execution_count": null,
      "outputs": [
        {
          "output_type": "stream",
          "name": "stdout",
          "text": [
            "confusion_matrix regards to 5_b.csv is  [[9761.   45.]\n",
            " [ 239.   55.]]\n",
            "precision regarding 5_b is  0.1870748299319728\n",
            "recall regarding 5_b is  0.55\n",
            "f1_score regarding 5_b is  0.2791878172588833\n",
            "accuracy regarding 5_b is  0.9718811881188119\n",
            "auc regarding 5_b is  0.9376570000000001\n"
          ]
        }
      ]
    },
    {
      "cell_type": "code",
      "metadata": {
        "colab": {
          "base_uri": "https://localhost:8080/",
          "height": 284
        },
        "id": "Yf093oUTQ5gp",
        "outputId": "7543605b-30d7-4363-df41-08fac7afcfbf"
      },
      "source": [
        "#why such result, that precision and recall are so less and still accurac and auc are so high?\n",
        "data_b.y.plot.hist()\n",
        "#observation == we notice that the ground_truths are so disproportionate. imbalanced hugely towards zero class\n"
      ],
      "execution_count": null,
      "outputs": [
        {
          "output_type": "execute_result",
          "data": {
            "text/plain": [
              "<matplotlib.axes._subplots.AxesSubplot at 0x7fc93d13df50>"
            ]
          },
          "metadata": {},
          "execution_count": 15
        },
        {
          "output_type": "display_data",
          "data": {
            "image/png": "[encoded data removed]",
            "text/plain": [
              "<Figure size 432x288 with 1 Axes>"
            ]
          },
          "metadata": {
            "needs_background": "light"
          }
        }
      ]
    },
    {
      "cell_type": "markdown",
      "metadata": {
        "id": "GiPGonTzQvoB"
      },
      "source": [
        "<font color='red'><b>C.</b></font> Compute the best threshold (similarly to ROC curve computation) of probability which gives lowest values of metric <b>A</b> for the given data <strong>5_c.csv</strong>\n",
        "<br>\n",
        "\n",
        "you will be predicting label of a data points like this: $y^{pred}= \\text{[0 if y_score < threshold  else 1]}$\n",
        "\n",
        "$ A = 500 \\times \\text{number of false negative} + 100 \\times \\text{numebr of false positive}$\n",
        "\n",
        "<pre>\n",
        "   <b>Note 1:</b> in this data you can see number of negative points > number of positive points\n",
        "   <b>Note 2:</b> use pandas or numpy to read the data from <b>5_c.csv</b>\n",
        "</pre>"
      ]
    },
    {
      "cell_type": "code",
      "metadata": {
        "id": "x5HIJzq1QvoE",
        "colab": {
          "base_uri": "https://localhost:8080/",
          "height": 447
        },
        "outputId": "39221ce7-b40c-4f72-b613-c82c47a2a97a"
      },
      "source": [
        " # write your code\n",
        " df = pd.read_csv(\"5_c.csv\")\n",
        " df.info()\n",
        " df['prob'].plot.hist()"
      ],
      "execution_count": null,
      "outputs": [
        {
          "output_type": "stream",
          "name": "stdout",
          "text": [
            "<class 'pandas.core.frame.DataFrame'>\n",
            "RangeIndex: 2852 entries, 0 to 2851\n",
            "Data columns (total 2 columns):\n",
            " #   Column  Non-Null Count  Dtype  \n",
            "---  ------  --------------  -----  \n",
            " 0   y       2852 non-null   int64  \n",
            " 1   prob    2852 non-null   float64\n",
            "dtypes: float64(1), int64(1)\n",
            "memory usage: 44.7 KB\n"
          ]
        },
        {
          "output_type": "execute_result",
          "data": {
            "text/plain": [
              "<matplotlib.axes._subplots.AxesSubplot at 0x7fc93d060110>"
            ]
          },
          "metadata": {},
          "execution_count": 16
        },
        {
          "output_type": "display_data",
          "data": {
            "image/png": "[encoded data removed]",
            "text/plain": [
              "<Figure size 432x288 with 1 Axes>"
            ]
          },
          "metadata": {
            "needs_background": "light"
          }
        }
      ]
    },
    {
      "cell_type": "code",
      "metadata": {
        "id": "SpA3lIA8gtYE",
        "colab": {
          "base_uri": "https://localhost:8080/",
          "height": 338
        },
        "outputId": "c689ed38-a5f1-4702-d295-6e136573609f"
      },
      "source": [
        "df.y.plot.hist()\n",
        "print(df.groupby('y').count())\n",
        "\n",
        "#print(df.y.value_counts())"
      ],
      "execution_count": null,
      "outputs": [
        {
          "output_type": "stream",
          "name": "stdout",
          "text": [
            "   prob\n",
            "y      \n",
            "0  1805\n",
            "1  1047\n"
          ]
        },
        {
          "output_type": "display_data",
          "data": {
            "image/png": "[encoded data removed]",
            "text/plain": [
              "<Figure size 432x288 with 1 Axes>"
            ]
          },
          "metadata": {
            "needs_background": "light"
          }
        }
      ]
    },
    {
      "cell_type": "code",
      "metadata": {
        "id": "BX3r867miyC9"
      },
      "source": [
        "def cal_A(truths,preds):\n",
        "  #k = preds + truths\n",
        "  p = preds - truths\n",
        "  #tn = len(truths) - np.count_nonzero(k)\n",
        "  fn = np.count_nonzero(np.where(p==-1, 1, 0))\n",
        "  fp = np.count_nonzero(np.where(p==1,1,0))\n",
        "  #tp = np.count_nonzero(np.where(k==2, 1, 0))\n",
        "\n",
        "  #tpr = tp/(tp+fn)\n",
        "  #fpr = fp/(fp + tn)\n",
        "  A = 500*fn + 100*fp\n",
        "  return A\n"
      ],
      "execution_count": null,
      "outputs": []
    },
    {
      "cell_type": "code",
      "metadata": {
        "id": "aQtJcptiglDG"
      },
      "source": [
        "def threshold(truths, probs):\n",
        "  set_probs = set(probs)\n",
        "  set_probs = list(set_probs)\n",
        "  set_probs = np.sort(set_probs)\n",
        "  \n",
        "  A_lst = []\n",
        "  \n",
        "  for prob in set_probs:\n",
        "    thres = prob\n",
        "    preds = np.where(probs <= thres, 0, 1 )\n",
        "    a_val = cal_A(truths, preds)\n",
        "    A_lst.append(a_val)\n",
        "    \n",
        "  k = np.argmin(A_lst)\n",
        "  threshold = set_probs[k]\n",
        "\n",
        "  return threshold, A_lst, set_probs"
      ],
      "execution_count": null,
      "outputs": []
    },
    {
      "cell_type": "code",
      "metadata": {
        "id": "AAIeIyL7ktcG",
        "colab": {
          "base_uri": "https://localhost:8080/"
        },
        "outputId": "f1e9f745-7f4c-4616-a65a-bc0cf20984a5"
      },
      "source": [
        "(thresold, A_list, set_probs) = threshold(df.y.values, df.prob.values)\n",
        "print(\"threshold regarding 5_c, where A(our error measure) is minimum is \",thresold)\n",
        "\n",
        "A_lst = A_list\n",
        "probabs = set_probs\n",
        "# using A_lst and probabs, we can plot and see that the threshold makes sense"
      ],
      "execution_count": null,
      "outputs": [
        {
          "output_type": "stream",
          "name": "stdout",
          "text": [
            "threshold regarding 5_c, where A(our error measure) is minimum is  0.22987164436159915\n"
          ]
        }
      ]
    },
    {
      "cell_type": "markdown",
      "metadata": {
        "id": "sD4CcgjXQvoL"
      },
      "source": [
        "<pre>\n",
        "<font color='red'><b>D.</b></font> Compute performance metrics(for regression) for the given data <strong>5_d.csv</strong>\n",
        "    <b>Note 2:</b> use pandas or numpy to read the data from <b>5_d.csv</b>\n",
        "    <b>Note 1:</b> <b>5_d.csv</b> will having two columns Y and predicted_Y both are real valued features\n",
        "<ol>\n",
        "<li> Compute Mean Square Error </li>\n",
        "<li> Compute MAPE: https://www.youtube.com/watch?v=ly6ztgIkUxk</li>\n",
        "<li> Compute R^2 error: https://en.wikipedia.org/wiki/Coefficient_of_determination#Definitions </li>\n",
        "</ol>\n",
        "</pre>"
      ]
    },
    {
      "cell_type": "code",
      "metadata": {
        "id": "HHur3EionpkT",
        "colab": {
          "base_uri": "https://localhost:8080/"
        },
        "outputId": "7a5efe3e-6006-4dce-d967-dfcec0e9ba96"
      },
      "source": [
        "my_df = pd.read_csv('5_d.csv')\n",
        "my_df.info()\n",
        "\n"
      ],
      "execution_count": null,
      "outputs": [
        {
          "output_type": "stream",
          "name": "stdout",
          "text": [
            "<class 'pandas.core.frame.DataFrame'>\n",
            "RangeIndex: 157200 entries, 0 to 157199\n",
            "Data columns (total 2 columns):\n",
            " #   Column  Non-Null Count   Dtype  \n",
            "---  ------  --------------   -----  \n",
            " 0   y       157200 non-null  float64\n",
            " 1   pred    157200 non-null  float64\n",
            "dtypes: float64(2)\n",
            "memory usage: 2.4 MB\n"
          ]
        }
      ]
    },
    {
      "cell_type": "code",
      "metadata": {
        "id": "XXnmyv2moX3m",
        "colab": {
          "base_uri": "https://localhost:8080/",
          "height": 297
        },
        "outputId": "f5700590-3aeb-4d50-80f5-e7c369dd95e5"
      },
      "source": [
        "my_df.plot.scatter(x='y', y ='pred')"
      ],
      "execution_count": null,
      "outputs": [
        {
          "output_type": "execute_result",
          "data": {
            "text/plain": [
              "<matplotlib.axes._subplots.AxesSubplot at 0x7fc93cfba250>"
            ]
          },
          "metadata": {},
          "execution_count": 22
        },
        {
          "output_type": "display_data",
          "data": {
            "image/png": "[encoded data removed]",
            "text/plain": [
              "<Figure size 432x288 with 1 Axes>"
            ]
          },
          "metadata": {
            "needs_background": "light"
          }
        }
      ]
    },
    {
      "cell_type": "code",
      "metadata": {
        "id": "6sV_ni7ps0Q8"
      },
      "source": [
        "def mse_mape(truths, preds):\n",
        "  #n = len(truths)\n",
        "  tot = preds - truths.mean()\n",
        "  tot = tot**2\n",
        "  k = np.abs(preds - truths)\n",
        "  mse_comp = k**2\n",
        "  mse = mse_comp.mean()\n",
        "\n",
        "  mape = k.sum()/preds.sum()\n",
        "\n",
        "  ss_res = mse_comp.sum()\n",
        "  ss_tot = tot.sum()\n",
        "\n",
        "  r_sq = 1 - (ss_res/ss_tot)\n",
        "\n",
        "  return mse, mape, r_sq\n",
        "\n",
        "\n",
        "\n",
        "\n"
      ],
      "execution_count": null,
      "outputs": []
    },
    {
      "cell_type": "code",
      "metadata": {
        "id": "OXCitHiXvZB6",
        "colab": {
          "base_uri": "https://localhost:8080/"
        },
        "outputId": "20795b8c-2c6d-4d1f-b01f-33582afd730c"
      },
      "source": [
        "(mse, mape, r_sq) = mse_mape(my_df.y.values, my_df.pred.values)\n",
        "\n",
        "print(\"mean sq error regarding 5_d is \",mse)\n",
        "print(\"modified mean abs percentage error regarding 5_d is \",mape)\n",
        "print(\"R^2 regarding 5_d is \",r_sq)"
      ],
      "execution_count": null,
      "outputs": [
        {
          "output_type": "stream",
          "name": "stdout",
          "text": [
            "mean sq error regarding 5_d is  177.16569974554707\n",
            "modified mean abs percentage error regarding 5_d is  0.12927250737711507\n",
            "R^2 regarding 5_d is  0.9544134826849549\n"
          ]
        }
      ]
    }
  ]
}