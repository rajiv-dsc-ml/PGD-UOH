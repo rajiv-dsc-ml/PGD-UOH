{
  "nbformat": 4,
  "nbformat_minor": 0,
  "metadata": {
    "kernelspec": {
      "display_name": "Python 3",
      "language": "python",
      "name": "python3"
    },
    "language_info": {
      "codemirror_mode": {
        "name": "ipython",
        "version": 3
      },
      "file_extension": ".py",
      "mimetype": "text/x-python",
      "name": "python",
      "nbconvert_exporter": "python",
      "pygments_lexer": "ipython3",
      "version": "3.6.8"
    },
    "colab": {
      "name": "Copy of 8B_LR_SVM.ipynb",
      "provenance": [],
      "collapsed_sections": []
    }
  },
  "cells": [
    {
      "cell_type": "code",
      "metadata": {
        "id": "8ArWK463kbhL",
        "colab": {
          "base_uri": "https://localhost:8080/",
          "height": 17
        },
        "outputId": "3bb44a1a-0337-43ac-a76c-71a43747d267"
      },
      "source": [
        "import numpy as np\n",
        "import pandas as pd\n",
        "import plotly\n",
        "import plotly.figure_factory as ff\n",
        "import plotly.graph_objs as go\n",
        "from sklearn.linear_model import LogisticRegression\n",
        "from sklearn.preprocessing import StandardScaler\n",
        "from sklearn.preprocessing import MinMaxScaler\n",
        "from plotly.offline import download_plotlyjs, init_notebook_mode, plot, iplot\n",
        "init_notebook_mode(connected=True)"
      ],
      "execution_count": null,
      "outputs": [
        {
          "output_type": "display_data",
          "data": {
            "text/html": [
              "        <script type=\"text/javascript\">\n",
              "        window.PlotlyConfig = {MathJaxConfig: 'local'};\n",
              "        if (window.MathJax) {MathJax.Hub.Config({SVG: {font: \"STIX-Web\"}});}\n",
              "        if (typeof require !== 'undefined') {\n",
              "        require.undef(\"plotly\");\n",
              "        requirejs.config({\n",
              "            paths: {\n",
              "                'plotly': ['https://cdn.plot.ly/plotly-latest.min']\n",
              "            }\n",
              "        });\n",
              "        require(['plotly'], function(Plotly) {\n",
              "            window._Plotly = Plotly;\n",
              "        });\n",
              "        }\n",
              "        </script>\n",
              "        "
            ]
          },
          "metadata": {}
        }
      ]
    },
    {
      "cell_type": "code",
      "metadata": {
        "id": "HyJx3HJueFbo",
        "colab": {
          "base_uri": "https://localhost:8080/"
        },
        "outputId": "92f4f2b7-f9c9-461d-e92a-195e256f40e9"
      },
      "source": [
        "from google.colab import drive\n",
        "\n",
        "drive.mount('/content/drive')"
      ],
      "execution_count": null,
      "outputs": [
        {
          "output_type": "stream",
          "name": "stdout",
          "text": [
            "Drive already mounted at /content/drive; to attempt to forcibly remount, call drive.mount(\"/content/drive\", force_remount=True).\n"
          ]
        }
      ]
    },
    {
      "cell_type": "code",
      "metadata": {
        "id": "SOZbGw0OhJpX"
      },
      "source": [
        "from sklearn.linear_model import SGDClassifier\n",
        "from sklearn.pipeline import Pipeline"
      ],
      "execution_count": null,
      "outputs": []
    },
    {
      "cell_type": "code",
      "metadata": {
        "colab": {
          "base_uri": "https://localhost:8080/"
        },
        "id": "2IIiiEx-xOGC",
        "outputId": "c42bb785-0cc6-453e-cbc0-27879ff1af11"
      },
      "source": [
        "!curl --header \"Host: doc-0c-as-docs.googleusercontent.com\" --header \"User-Agent: Mozilla/5.0 (Windows NT 10.0; Win64; x64) AppleWebKit/537.36 (KHTML, like Gecko) Chrome/95.0.4638.54 Safari/537.36\" --header \"Accept: text/html,application/xhtml+xml,application/xml;q=0.9,image/avif,image/webp,image/apng,*/*;q=0.8,application/signed-exchange;v=b3;q=0.9\" --header \"Accept-Language: en-US,en;q=0.9\" --header \"Cookie: AUTH_6d57tlmd151rhrgo8ik3ogr8o2g7q8kk_nonce=irs6vfvgpqfqc\" --header \"Connection: keep-alive\" \"https://doc-0c-as-docs.googleusercontent.com/docs/securesc/fev9g1e953f8o51km3me7sgfgsd0sbe5/jmuf48pjf3ekr8etifki4hbjltqr6t48/1636680975000/00484516897554883881/10673234880569198624/1C-SWfumjJYqXJ1_8WzxUQ-pMsXdBLX9P?e=download&authuser=0&nonce=irs6vfvgpqfqc&user=10673234880569198624&hash=974r9sr0c0bqt12dhkrg74paf67hlgfr\" -L -o \"task_b.csv\""
      ],
      "execution_count": null,
      "outputs": [
        {
          "output_type": "stream",
          "name": "stdout",
          "text": [
            "  % Total    % Received % Xferd  Average Speed   Time    Time     Time  Current\n",
            "                                 Dload  Upload   Total   Spent    Left  Speed\n",
            "100 12874  100 12874    0     0  48581      0 --:--:-- --:--:-- --:--:-- 48581\n"
          ]
        }
      ]
    },
    {
      "cell_type": "code",
      "metadata": {
        "id": "5mldzJdakbhS"
      },
      "source": [
        "data = pd.read_csv('task_b.csv')\n",
        "data=data.iloc[:,1:]"
      ],
      "execution_count": null,
      "outputs": []
    },
    {
      "cell_type": "code",
      "metadata": {
        "scrolled": true,
        "id": "rsCrC2wckbhV",
        "colab": {
          "base_uri": "https://localhost:8080/",
          "height": 205
        },
        "outputId": "14bc9741-bee9-4742-f052-89cb09030e49"
      },
      "source": [
        "data.head()"
      ],
      "execution_count": null,
      "outputs": [
        {
          "output_type": "execute_result",
          "data": {
            "text/html": [
              "<div>\n",
              "<style scoped>\n",
              "    .dataframe tbody tr th:only-of-type {\n",
              "        vertical-align: middle;\n",
              "    }\n",
              "\n",
              "    .dataframe tbody tr th {\n",
              "        vertical-align: top;\n",
              "    }\n",
              "\n",
              "    .dataframe thead th {\n",
              "        text-align: right;\n",
              "    }\n",
              "</style>\n",
              "<table border=\"1\" class=\"dataframe\">\n",
              "  <thead>\n",
              "    <tr style=\"text-align: right;\">\n",
              "      <th></th>\n",
              "      <th>f1</th>\n",
              "      <th>f2</th>\n",
              "      <th>f3</th>\n",
              "      <th>y</th>\n",
              "    </tr>\n",
              "  </thead>\n",
              "  <tbody>\n",
              "    <tr>\n",
              "      <th>0</th>\n",
              "      <td>-195.871045</td>\n",
              "      <td>-14843.084171</td>\n",
              "      <td>5.532140</td>\n",
              "      <td>1.0</td>\n",
              "    </tr>\n",
              "    <tr>\n",
              "      <th>1</th>\n",
              "      <td>-1217.183964</td>\n",
              "      <td>-4068.124621</td>\n",
              "      <td>4.416082</td>\n",
              "      <td>1.0</td>\n",
              "    </tr>\n",
              "    <tr>\n",
              "      <th>2</th>\n",
              "      <td>9.138451</td>\n",
              "      <td>4413.412028</td>\n",
              "      <td>0.425317</td>\n",
              "      <td>0.0</td>\n",
              "    </tr>\n",
              "    <tr>\n",
              "      <th>3</th>\n",
              "      <td>363.824242</td>\n",
              "      <td>15474.760647</td>\n",
              "      <td>1.094119</td>\n",
              "      <td>0.0</td>\n",
              "    </tr>\n",
              "    <tr>\n",
              "      <th>4</th>\n",
              "      <td>-768.812047</td>\n",
              "      <td>-7963.932192</td>\n",
              "      <td>1.870536</td>\n",
              "      <td>0.0</td>\n",
              "    </tr>\n",
              "  </tbody>\n",
              "</table>\n",
              "</div>"
            ],
            "text/plain": [
              "            f1            f2        f3    y\n",
              "0  -195.871045 -14843.084171  5.532140  1.0\n",
              "1 -1217.183964  -4068.124621  4.416082  1.0\n",
              "2     9.138451   4413.412028  0.425317  0.0\n",
              "3   363.824242  15474.760647  1.094119  0.0\n",
              "4  -768.812047  -7963.932192  1.870536  0.0"
            ]
          },
          "metadata": {},
          "execution_count": 9
        }
      ]
    },
    {
      "cell_type": "code",
      "metadata": {
        "id": "FI18joJ_kbhZ",
        "colab": {
          "base_uri": "https://localhost:8080/"
        },
        "outputId": "44259ed7-29de-4d4a-ed60-a8117c730c1a"
      },
      "source": [
        "data.corr()['y']"
      ],
      "execution_count": null,
      "outputs": [
        {
          "output_type": "execute_result",
          "data": {
            "text/plain": [
              "f1    0.067172\n",
              "f2   -0.017944\n",
              "f3    0.839060\n",
              "y     1.000000\n",
              "Name: y, dtype: float64"
            ]
          },
          "metadata": {},
          "execution_count": 35
        }
      ]
    },
    {
      "cell_type": "code",
      "metadata": {
        "id": "Q3FunXZ-xURo"
      },
      "source": [
        "import seaborn as sns\n",
        "sns.set_style(style =\"whitegrid\")"
      ],
      "execution_count": null,
      "outputs": []
    },
    {
      "cell_type": "code",
      "metadata": {
        "colab": {
          "base_uri": "https://localhost:8080/",
          "height": 568
        },
        "id": "1y7rPswSyF05",
        "outputId": "de7c252c-08bb-4726-8fd7-4655874c0d79"
      },
      "source": [
        "sns.pairplot(data= data, hue = \"y\")"
      ],
      "execution_count": null,
      "outputs": [
        {
          "output_type": "execute_result",
          "data": {
            "text/plain": [
              "<seaborn.axisgrid.PairGrid at 0x7fb11d033e10>"
            ]
          },
          "metadata": {},
          "execution_count": 36
        },
        {
          "output_type": "display_data",
          "data": {
            "image/png": "[encoded data removed]",
            "text/plain": [
              "<Figure size 591.875x540 with 12 Axes>"
            ]
          },
          "metadata": {
            "needs_background": "light"
          }
        }
      ]
    },
    {
      "cell_type": "code",
      "metadata": {
        "id": "Xqia2pn727y3"
      },
      "source": [
        "import plotly.express as px"
      ],
      "execution_count": null,
      "outputs": []
    },
    {
      "cell_type": "code",
      "metadata": {
        "colab": {
          "base_uri": "https://localhost:8080/"
        },
        "id": "uhKcDzAf32lV",
        "outputId": "ef5169fb-5ba2-4a7b-f527-817a6a419cdc"
      },
      "source": [
        "data.std()"
      ],
      "execution_count": null,
      "outputs": [
        {
          "output_type": "execute_result",
          "data": {
            "text/plain": [
              "f1      488.195035\n",
              "f2    10403.417325\n",
              "f3        2.926662\n",
              "y         0.501255\n",
              "dtype: float64"
            ]
          },
          "metadata": {},
          "execution_count": 46
        }
      ]
    },
    {
      "cell_type": "code",
      "metadata": {
        "id": "cFGlBXPH6T3m"
      },
      "source": [
        "import matplotlib.pyplot as plt\n",
        "%matplotlib inline\n",
        "plt.close('all')"
      ],
      "execution_count": null,
      "outputs": []
    },
    {
      "cell_type": "code",
      "metadata": {
        "colab": {
          "base_uri": "https://localhost:8080/",
          "height": 542
        },
        "id": "g5Pp7W0m5fhv",
        "outputId": "727ec071-699f-4bc0-8b66-cb3c14dac42e"
      },
      "source": [
        "import plotly.graph_objects as go\n",
        "import numpy as np\n",
        "\n",
        "x = np.outer(np.linspace(-2, 2, 30), np.ones(30))\n",
        "\n",
        "# transpose\n",
        "y = x.copy().T\n",
        "z = np.cos(x ** 2 + y ** 2)\n",
        "\n",
        "fig = go.Figure(data=[go.Surface(x=x, y=y, z=z)])\n",
        "\n",
        "fig.update_traces(contours_z=dict(\n",
        "\tshow=True, usecolormap=True,\n",
        "\thighlightcolor=\"limegreen\",\n",
        "\tproject_z=True))\n",
        "\n",
        "fig.show()\n",
        "\n"
      ],
      "execution_count": null,
      "outputs": [
        {
          "output_type": "display_data",
          "data": {
            "text/html": [
              "<div>\n",
              "        \n",
              "        \n",
              "            <div id=\"e4e2695f-142b-499a-9c21-95ac1cfe4b61\" class=\"plotly-graph-div\" style=\"height:525px; width:100%;\"></div>\n",
              "            <script type=\"text/javascript\">\n",
              "                require([\"plotly\"], function(Plotly) {\n",
              "                    window.PLOTLYENV=window.PLOTLYENV || {};\n",
              "                    \n",
              "                if (document.getElementById(\"e4e2695f-142b-499a-9c21-95ac1cfe4b61\")) {\n",
              "                    Plotly.newPlot(\n",
              "                        'e4e2695f-142b-499a-9c21-95ac1cfe4b61',\n",
              "                        [{\"contours\": {\"z\": {\"highlightcolor\": \"limegreen\", \"project\": {\"z\": true}, \"show\": true, \"usecolormap\": true}}, \"type\": \"surface\", \"x\": [[-2.0, -2.0, -2.0, -2.0, -2.0, -2.0, -2.0, -2.0, -2.0, -2.0, -2.0, -2.0, -2.0, -2.0, -2.0, -2.0, -2.0, -2.0, -2.0, -2.0, -2.0, -2.0, -2.0, -2.0, -2.0, -2.0, -2.0, -2.0, -2.0, -2.0], [-1.8620689655172413, -1.8620689655172413, -1.8620689655172413, -1.8620689655172413, -1.8620689655172413, -1.8620689655172413, -1.8620689655172413, -1.8620689655172413, -1.8620689655172413, -1.8620689655172413, -1.8620689655172413, -1.8620689655172413, -1.8620689655172413, -1.8620689655172413, -1.8620689655172413, -1.8620689655172413, -1.8620689655172413, -1.8620689655172413, -1.8620689655172413, -1.8620689655172413, -1.8620689655172413, -1.8620689655172413, -1.8620689655172413, -1.8620689655172413, -1.8620689655172413, -1.8620689655172413, -1.8620689655172413, -1.8620689655172413, -1.8620689655172413, -1.8620689655172413], [-1.7241379310344827, -1.7241379310344827, -1.7241379310344827, -1.7241379310344827, -1.7241379310344827, -1.7241379310344827, -1.7241379310344827, -1.7241379310344827, -1.7241379310344827, -1.7241379310344827, -1.7241379310344827, -1.7241379310344827, -1.7241379310344827, -1.7241379310344827, -1.7241379310344827, -1.7241379310344827, -1.7241379310344827, -1.7241379310344827, -1.7241379310344827, -1.7241379310344827, -1.7241379310344827, -1.7241379310344827, -1.7241379310344827, -1.7241379310344827, -1.7241379310344827, -1.7241379310344827, -1.7241379310344827, -1.7241379310344827, -1.7241379310344827, -1.7241379310344827], [-1.5862068965517242, -1.5862068965517242, -1.5862068965517242, -1.5862068965517242, -1.5862068965517242, -1.5862068965517242, -1.5862068965517242, -1.5862068965517242, -1.5862068965517242, -1.5862068965517242, -1.5862068965517242, -1.5862068965517242, -1.5862068965517242, -1.5862068965517242, -1.5862068965517242, -1.5862068965517242, -1.5862068965517242, -1.5862068965517242, -1.5862068965517242, -1.5862068965517242, -1.5862068965517242, -1.5862068965517242, -1.5862068965517242, -1.5862068965517242, -1.5862068965517242, -1.5862068965517242, -1.5862068965517242, -1.5862068965517242, -1.5862068965517242, -1.5862068965517242], [-1.4482758620689655, -1.4482758620689655, -1.4482758620689655, -1.4482758620689655, -1.4482758620689655, -1.4482758620689655, -1.4482758620689655, -1.4482758620689655, -1.4482758620689655, -1.4482758620689655, -1.4482758620689655, -1.4482758620689655, -1.4482758620689655, -1.4482758620689655, -1.4482758620689655, -1.4482758620689655, -1.4482758620689655, -1.4482758620689655, -1.4482758620689655, -1.4482758620689655, -1.4482758620689655, -1.4482758620689655, -1.4482758620689655, -1.4482758620689655, -1.4482758620689655, -1.4482758620689655, -1.4482758620689655, -1.4482758620689655, -1.4482758620689655, -1.4482758620689655], [-1.3103448275862069, -1.3103448275862069, -1.3103448275862069, -1.3103448275862069, -1.3103448275862069, -1.3103448275862069, -1.3103448275862069, -1.3103448275862069, -1.3103448275862069, -1.3103448275862069, -1.3103448275862069, -1.3103448275862069, -1.3103448275862069, -1.3103448275862069, -1.3103448275862069, -1.3103448275862069, -1.3103448275862069, -1.3103448275862069, -1.3103448275862069, -1.3103448275862069, -1.3103448275862069, -1.3103448275862069, -1.3103448275862069, -1.3103448275862069, -1.3103448275862069, -1.3103448275862069, -1.3103448275862069, -1.3103448275862069, -1.3103448275862069, -1.3103448275862069], [-1.1724137931034484, -1.1724137931034484, -1.1724137931034484, -1.1724137931034484, -1.1724137931034484, -1.1724137931034484, -1.1724137931034484, -1.1724137931034484, -1.1724137931034484, -1.1724137931034484, -1.1724137931034484, -1.1724137931034484, -1.1724137931034484, -1.1724137931034484, -1.1724137931034484, -1.1724137931034484, -1.1724137931034484, -1.1724137931034484, -1.1724137931034484, -1.1724137931034484, -1.1724137931034484, -1.1724137931034484, -1.1724137931034484, -1.1724137931034484, -1.1724137931034484, -1.1724137931034484, -1.1724137931034484, -1.1724137931034484, -1.1724137931034484, -1.1724137931034484], [-1.0344827586206897, -1.0344827586206897, -1.0344827586206897, -1.0344827586206897, -1.0344827586206897, -1.0344827586206897, -1.0344827586206897, -1.0344827586206897, -1.0344827586206897, -1.0344827586206897, -1.0344827586206897, -1.0344827586206897, -1.0344827586206897, -1.0344827586206897, -1.0344827586206897, -1.0344827586206897, -1.0344827586206897, -1.0344827586206897, -1.0344827586206897, -1.0344827586206897, -1.0344827586206897, -1.0344827586206897, -1.0344827586206897, -1.0344827586206897, -1.0344827586206897, -1.0344827586206897, -1.0344827586206897, -1.0344827586206897, -1.0344827586206897, -1.0344827586206897], [-0.896551724137931, -0.896551724137931, -0.896551724137931, -0.896551724137931, -0.896551724137931, -0.896551724137931, -0.896551724137931, -0.896551724137931, -0.896551724137931, -0.896551724137931, -0.896551724137931, -0.896551724137931, -0.896551724137931, -0.896551724137931, -0.896551724137931, -0.896551724137931, -0.896551724137931, -0.896551724137931, -0.896551724137931, -0.896551724137931, -0.896551724137931, -0.896551724137931, -0.896551724137931, -0.896551724137931, -0.896551724137931, -0.896551724137931, -0.896551724137931, -0.896551724137931, -0.896551724137931, -0.896551724137931], [-0.7586206896551724, -0.7586206896551724, -0.7586206896551724, -0.7586206896551724, -0.7586206896551724, -0.7586206896551724, -0.7586206896551724, -0.7586206896551724, -0.7586206896551724, -0.7586206896551724, -0.7586206896551724, -0.7586206896551724, -0.7586206896551724, -0.7586206896551724, -0.7586206896551724, -0.7586206896551724, -0.7586206896551724, -0.7586206896551724, -0.7586206896551724, -0.7586206896551724, -0.7586206896551724, -0.7586206896551724, -0.7586206896551724, -0.7586206896551724, -0.7586206896551724, -0.7586206896551724, -0.7586206896551724, -0.7586206896551724, -0.7586206896551724, -0.7586206896551724], [-0.6206896551724137, -0.6206896551724137, -0.6206896551724137, -0.6206896551724137, -0.6206896551724137, -0.6206896551724137, -0.6206896551724137, -0.6206896551724137, -0.6206896551724137, -0.6206896551724137, -0.6206896551724137, -0.6206896551724137, -0.6206896551724137, -0.6206896551724137, -0.6206896551724137, -0.6206896551724137, -0.6206896551724137, -0.6206896551724137, -0.6206896551724137, -0.6206896551724137, -0.6206896551724137, -0.6206896551724137, -0.6206896551724137, -0.6206896551724137, -0.6206896551724137, -0.6206896551724137, -0.6206896551724137, -0.6206896551724137, -0.6206896551724137, -0.6206896551724137], [-0.48275862068965525, -0.48275862068965525, -0.48275862068965525, -0.48275862068965525, -0.48275862068965525, -0.48275862068965525, -0.48275862068965525, -0.48275862068965525, -0.48275862068965525, -0.48275862068965525, -0.48275862068965525, -0.48275862068965525, -0.48275862068965525, -0.48275862068965525, -0.48275862068965525, -0.48275862068965525, -0.48275862068965525, -0.48275862068965525, -0.48275862068965525, -0.48275862068965525, -0.48275862068965525, -0.48275862068965525, -0.48275862068965525, -0.48275862068965525, -0.48275862068965525, -0.48275862068965525, -0.48275862068965525, -0.48275862068965525, -0.48275862068965525, -0.48275862068965525], [-0.3448275862068966, -0.3448275862068966, -0.3448275862068966, -0.3448275862068966, -0.3448275862068966, -0.3448275862068966, -0.3448275862068966, -0.3448275862068966, -0.3448275862068966, -0.3448275862068966, -0.3448275862068966, -0.3448275862068966, -0.3448275862068966, -0.3448275862068966, -0.3448275862068966, -0.3448275862068966, -0.3448275862068966, -0.3448275862068966, -0.3448275862068966, -0.3448275862068966, -0.3448275862068966, -0.3448275862068966, -0.3448275862068966, -0.3448275862068966, -0.3448275862068966, -0.3448275862068966, -0.3448275862068966, -0.3448275862068966, -0.3448275862068966, -0.3448275862068966], [-0.2068965517241379, -0.2068965517241379, -0.2068965517241379, -0.2068965517241379, -0.2068965517241379, -0.2068965517241379, -0.2068965517241379, -0.2068965517241379, -0.2068965517241379, -0.2068965517241379, -0.2068965517241379, -0.2068965517241379, -0.2068965517241379, -0.2068965517241379, -0.2068965517241379, -0.2068965517241379, -0.2068965517241379, -0.2068965517241379, -0.2068965517241379, -0.2068965517241379, -0.2068965517241379, -0.2068965517241379, -0.2068965517241379, -0.2068965517241379, -0.2068965517241379, -0.2068965517241379, -0.2068965517241379, -0.2068965517241379, -0.2068965517241379, -0.2068965517241379], [-0.06896551724137945, -0.06896551724137945, -0.06896551724137945, -0.06896551724137945, -0.06896551724137945, -0.06896551724137945, -0.06896551724137945, -0.06896551724137945, -0.06896551724137945, -0.06896551724137945, -0.06896551724137945, -0.06896551724137945, -0.06896551724137945, -0.06896551724137945, -0.06896551724137945, -0.06896551724137945, -0.06896551724137945, -0.06896551724137945, -0.06896551724137945, -0.06896551724137945, -0.06896551724137945, -0.06896551724137945, -0.06896551724137945, -0.06896551724137945, -0.06896551724137945, -0.06896551724137945, -0.06896551724137945, -0.06896551724137945, -0.06896551724137945, -0.06896551724137945], [0.06896551724137945, 0.06896551724137945, 0.06896551724137945, 0.06896551724137945, 0.06896551724137945, 0.06896551724137945, 0.06896551724137945, 0.06896551724137945, 0.06896551724137945, 0.06896551724137945, 0.06896551724137945, 0.06896551724137945, 0.06896551724137945, 0.06896551724137945, 0.06896551724137945, 0.06896551724137945, 0.06896551724137945, 0.06896551724137945, 0.06896551724137945, 0.06896551724137945, 0.06896551724137945, 0.06896551724137945, 0.06896551724137945, 0.06896551724137945, 0.06896551724137945, 0.06896551724137945, 0.06896551724137945, 0.06896551724137945, 0.06896551724137945, 0.06896551724137945], [0.2068965517241379, 0.2068965517241379, 0.2068965517241379, 0.2068965517241379, 0.2068965517241379, 0.2068965517241379, 0.2068965517241379, 0.2068965517241379, 0.2068965517241379, 0.2068965517241379, 0.2068965517241379, 0.2068965517241379, 0.2068965517241379, 0.2068965517241379, 0.2068965517241379, 0.2068965517241379, 0.2068965517241379, 0.2068965517241379, 0.2068965517241379, 0.2068965517241379, 0.2068965517241379, 0.2068965517241379, 0.2068965517241379, 0.2068965517241379, 0.2068965517241379, 0.2068965517241379, 0.2068965517241379, 0.2068965517241379, 0.2068965517241379, 0.2068965517241379], [0.34482758620689635, 0.34482758620689635, 0.34482758620689635, 0.34482758620689635, 0.34482758620689635, 0.34482758620689635, 0.34482758620689635, 0.34482758620689635, 0.34482758620689635, 0.34482758620689635, 0.34482758620689635, 0.34482758620689635, 0.34482758620689635, 0.34482758620689635, 0.34482758620689635, 0.34482758620689635, 0.34482758620689635, 0.34482758620689635, 0.34482758620689635, 0.34482758620689635, 0.34482758620689635, 0.34482758620689635, 0.34482758620689635, 0.34482758620689635, 0.34482758620689635, 0.34482758620689635, 0.34482758620689635, 0.34482758620689635, 0.34482758620689635, 0.34482758620689635], [0.48275862068965525, 0.48275862068965525, 0.48275862068965525, 0.48275862068965525, 0.48275862068965525, 0.48275862068965525, 0.48275862068965525, 0.48275862068965525, 0.48275862068965525, 0.48275862068965525, 0.48275862068965525, 0.48275862068965525, 0.48275862068965525, 0.48275862068965525, 0.48275862068965525, 0.48275862068965525, 0.48275862068965525, 0.48275862068965525, 0.48275862068965525, 0.48275862068965525, 0.48275862068965525, 0.48275862068965525, 0.48275862068965525, 0.48275862068965525, 0.48275862068965525, 0.48275862068965525, 0.48275862068965525, 0.48275862068965525, 0.48275862068965525, 0.48275862068965525], [0.6206896551724137, 0.6206896551724137, 0.6206896551724137, 0.6206896551724137, 0.6206896551724137, 0.6206896551724137, 0.6206896551724137, 0.6206896551724137, 0.6206896551724137, 0.6206896551724137, 0.6206896551724137, 0.6206896551724137, 0.6206896551724137, 0.6206896551724137, 0.6206896551724137, 0.6206896551724137, 0.6206896551724137, 0.6206896551724137, 0.6206896551724137, 0.6206896551724137, 0.6206896551724137, 0.6206896551724137, 0.6206896551724137, 0.6206896551724137, 0.6206896551724137, 0.6206896551724137, 0.6206896551724137, 0.6206896551724137, 0.6206896551724137, 0.6206896551724137], [0.7586206896551726, 0.7586206896551726, 0.7586206896551726, 0.7586206896551726, 0.7586206896551726, 0.7586206896551726, 0.7586206896551726, 0.7586206896551726, 0.7586206896551726, 0.7586206896551726, 0.7586206896551726, 0.7586206896551726, 0.7586206896551726, 0.7586206896551726, 0.7586206896551726, 0.7586206896551726, 0.7586206896551726, 0.7586206896551726, 0.7586206896551726, 0.7586206896551726, 0.7586206896551726, 0.7586206896551726, 0.7586206896551726, 0.7586206896551726, 0.7586206896551726, 0.7586206896551726, 0.7586206896551726, 0.7586206896551726, 0.7586206896551726, 0.7586206896551726], [0.896551724137931, 0.896551724137931, 0.896551724137931, 0.896551724137931, 0.896551724137931, 0.896551724137931, 0.896551724137931, 0.896551724137931, 0.896551724137931, 0.896551724137931, 0.896551724137931, 0.896551724137931, 0.896551724137931, 0.896551724137931, 0.896551724137931, 0.896551724137931, 0.896551724137931, 0.896551724137931, 0.896551724137931, 0.896551724137931, 0.896551724137931, 0.896551724137931, 0.896551724137931, 0.896551724137931, 0.896551724137931, 0.896551724137931, 0.896551724137931, 0.896551724137931, 0.896551724137931, 0.896551724137931], [1.0344827586206895, 1.0344827586206895, 1.0344827586206895, 1.0344827586206895, 1.0344827586206895, 1.0344827586206895, 1.0344827586206895, 1.0344827586206895, 1.0344827586206895, 1.0344827586206895, 1.0344827586206895, 1.0344827586206895, 1.0344827586206895, 1.0344827586206895, 1.0344827586206895, 1.0344827586206895, 1.0344827586206895, 1.0344827586206895, 1.0344827586206895, 1.0344827586206895, 1.0344827586206895, 1.0344827586206895, 1.0344827586206895, 1.0344827586206895, 1.0344827586206895, 1.0344827586206895, 1.0344827586206895, 1.0344827586206895, 1.0344827586206895, 1.0344827586206895], [1.1724137931034484, 1.1724137931034484, 1.1724137931034484, 1.1724137931034484, 1.1724137931034484, 1.1724137931034484, 1.1724137931034484, 1.1724137931034484, 1.1724137931034484, 1.1724137931034484, 1.1724137931034484, 1.1724137931034484, 1.1724137931034484, 1.1724137931034484, 1.1724137931034484, 1.1724137931034484, 1.1724137931034484, 1.1724137931034484, 1.1724137931034484, 1.1724137931034484, 1.1724137931034484, 1.1724137931034484, 1.1724137931034484, 1.1724137931034484, 1.1724137931034484, 1.1724137931034484, 1.1724137931034484, 1.1724137931034484, 1.1724137931034484, 1.1724137931034484], [1.3103448275862069, 1.3103448275862069, 1.3103448275862069, 1.3103448275862069, 1.3103448275862069, 1.3103448275862069, 1.3103448275862069, 1.3103448275862069, 1.3103448275862069, 1.3103448275862069, 1.3103448275862069, 1.3103448275862069, 1.3103448275862069, 1.3103448275862069, 1.3103448275862069, 1.3103448275862069, 1.3103448275862069, 1.3103448275862069, 1.3103448275862069, 1.3103448275862069, 1.3103448275862069, 1.3103448275862069, 1.3103448275862069, 1.3103448275862069, 1.3103448275862069, 1.3103448275862069, 1.3103448275862069, 1.3103448275862069, 1.3103448275862069, 1.3103448275862069], [1.4482758620689653, 1.4482758620689653, 1.4482758620689653, 1.4482758620689653, 1.4482758620689653, 1.4482758620689653, 1.4482758620689653, 1.4482758620689653, 1.4482758620689653, 1.4482758620689653, 1.4482758620689653, 1.4482758620689653, 1.4482758620689653, 1.4482758620689653, 1.4482758620689653, 1.4482758620689653, 1.4482758620689653, 1.4482758620689653, 1.4482758620689653, 1.4482758620689653, 1.4482758620689653, 1.4482758620689653, 1.4482758620689653, 1.4482758620689653, 1.4482758620689653, 1.4482758620689653, 1.4482758620689653, 1.4482758620689653, 1.4482758620689653, 1.4482758620689653], [1.5862068965517242, 1.5862068965517242, 1.5862068965517242, 1.5862068965517242, 1.5862068965517242, 1.5862068965517242, 1.5862068965517242, 1.5862068965517242, 1.5862068965517242, 1.5862068965517242, 1.5862068965517242, 1.5862068965517242, 1.5862068965517242, 1.5862068965517242, 1.5862068965517242, 1.5862068965517242, 1.5862068965517242, 1.5862068965517242, 1.5862068965517242, 1.5862068965517242, 1.5862068965517242, 1.5862068965517242, 1.5862068965517242, 1.5862068965517242, 1.5862068965517242, 1.5862068965517242, 1.5862068965517242, 1.5862068965517242, 1.5862068965517242, 1.5862068965517242], [1.7241379310344827, 1.7241379310344827, 1.7241379310344827, 1.7241379310344827, 1.7241379310344827, 1.7241379310344827, 1.7241379310344827, 1.7241379310344827, 1.7241379310344827, 1.7241379310344827, 1.7241379310344827, 1.7241379310344827, 1.7241379310344827, 1.7241379310344827, 1.7241379310344827, 1.7241379310344827, 1.7241379310344827, 1.7241379310344827, 1.7241379310344827, 1.7241379310344827, 1.7241379310344827, 1.7241379310344827, 1.7241379310344827, 1.7241379310344827, 1.7241379310344827, 1.7241379310344827, 1.7241379310344827, 1.7241379310344827, 1.7241379310344827, 1.7241379310344827], [1.862068965517241, 1.862068965517241, 1.862068965517241, 1.862068965517241, 1.862068965517241, 1.862068965517241, 1.862068965517241, 1.862068965517241, 1.862068965517241, 1.862068965517241, 1.862068965517241, 1.862068965517241, 1.862068965517241, 1.862068965517241, 1.862068965517241, 1.862068965517241, 1.862068965517241, 1.862068965517241, 1.862068965517241, 1.862068965517241, 1.862068965517241, 1.862068965517241, 1.862068965517241, 1.862068965517241, 1.862068965517241, 1.862068965517241, 1.862068965517241, 1.862068965517241, 1.862068965517241, 1.862068965517241], [2.0, 2.0, 2.0, 2.0, 2.0, 2.0, 2.0, 2.0, 2.0, 2.0, 2.0, 2.0, 2.0, 2.0, 2.0, 2.0, 2.0, 2.0, 2.0, 2.0, 2.0, 2.0, 2.0, 2.0, 2.0, 2.0, 2.0, 2.0, 2.0, 2.0]], \"y\": [[-2.0, -1.8620689655172413, -1.7241379310344827, -1.5862068965517242, -1.4482758620689655, -1.3103448275862069, -1.1724137931034484, -1.0344827586206897, -0.896551724137931, -0.7586206896551724, -0.6206896551724137, -0.48275862068965525, -0.3448275862068966, -0.2068965517241379, -0.06896551724137945, 0.06896551724137945, 0.2068965517241379, 0.34482758620689635, 0.48275862068965525, 0.6206896551724137, 0.7586206896551726, 0.896551724137931, 1.0344827586206895, 1.1724137931034484, 1.3103448275862069, 1.4482758620689653, 1.5862068965517242, 1.7241379310344827, 1.862068965517241, 2.0], [-2.0, -1.8620689655172413, -1.7241379310344827, -1.5862068965517242, -1.4482758620689655, -1.3103448275862069, -1.1724137931034484, -1.0344827586206897, -0.896551724137931, -0.7586206896551724, -0.6206896551724137, -0.48275862068965525, -0.3448275862068966, -0.2068965517241379, -0.06896551724137945, 0.06896551724137945, 0.2068965517241379, 0.34482758620689635, 0.48275862068965525, 0.6206896551724137, 0.7586206896551726, 0.896551724137931, 1.0344827586206895, 1.1724137931034484, 1.3103448275862069, 1.4482758620689653, 1.5862068965517242, 1.7241379310344827, 1.862068965517241, 2.0], [-2.0, -1.8620689655172413, -1.7241379310344827, -1.5862068965517242, -1.4482758620689655, -1.3103448275862069, -1.1724137931034484, -1.0344827586206897, -0.896551724137931, -0.7586206896551724, -0.6206896551724137, -0.48275862068965525, -0.3448275862068966, -0.2068965517241379, -0.06896551724137945, 0.06896551724137945, 0.2068965517241379, 0.34482758620689635, 0.48275862068965525, 0.6206896551724137, 0.7586206896551726, 0.896551724137931, 1.0344827586206895, 1.1724137931034484, 1.3103448275862069, 1.4482758620689653, 1.5862068965517242, 1.7241379310344827, 1.862068965517241, 2.0], [-2.0, -1.8620689655172413, -1.7241379310344827, -1.5862068965517242, -1.4482758620689655, -1.3103448275862069, -1.1724137931034484, -1.0344827586206897, -0.896551724137931, -0.7586206896551724, -0.6206896551724137, -0.48275862068965525, -0.3448275862068966, -0.2068965517241379, -0.06896551724137945, 0.06896551724137945, 0.2068965517241379, 0.34482758620689635, 0.48275862068965525, 0.6206896551724137, 0.7586206896551726, 0.896551724137931, 1.0344827586206895, 1.1724137931034484, 1.3103448275862069, 1.4482758620689653, 1.5862068965517242, 1.7241379310344827, 1.862068965517241, 2.0], [-2.0, -1.8620689655172413, -1.7241379310344827, -1.5862068965517242, -1.4482758620689655, -1.3103448275862069, -1.1724137931034484, -1.0344827586206897, -0.896551724137931, -0.7586206896551724, -0.6206896551724137, -0.48275862068965525, -0.3448275862068966, -0.2068965517241379, -0.06896551724137945, 0.06896551724137945, 0.2068965517241379, 0.34482758620689635, 0.48275862068965525, 0.6206896551724137, 0.7586206896551726, 0.896551724137931, 1.0344827586206895, 1.1724137931034484, 1.3103448275862069, 1.4482758620689653, 1.5862068965517242, 1.7241379310344827, 1.862068965517241, 2.0], [-2.0, -1.8620689655172413, -1.7241379310344827, -1.5862068965517242, -1.4482758620689655, -1.3103448275862069, -1.1724137931034484, -1.0344827586206897, -0.896551724137931, -0.7586206896551724, -0.6206896551724137, -0.48275862068965525, -0.3448275862068966, -0.2068965517241379, -0.06896551724137945, 0.06896551724137945, 0.2068965517241379, 0.34482758620689635, 0.48275862068965525, 0.6206896551724137, 0.7586206896551726, 0.896551724137931, 1.0344827586206895, 1.1724137931034484, 1.3103448275862069, 1.4482758620689653, 1.5862068965517242, 1.7241379310344827, 1.862068965517241, 2.0], [-2.0, -1.8620689655172413, -1.7241379310344827, -1.5862068965517242, -1.4482758620689655, -1.3103448275862069, -1.1724137931034484, -1.0344827586206897, -0.896551724137931, -0.7586206896551724, -0.6206896551724137, -0.48275862068965525, -0.3448275862068966, -0.2068965517241379, -0.06896551724137945, 0.06896551724137945, 0.2068965517241379, 0.34482758620689635, 0.48275862068965525, 0.6206896551724137, 0.7586206896551726, 0.896551724137931, 1.0344827586206895, 1.1724137931034484, 1.3103448275862069, 1.4482758620689653, 1.5862068965517242, 1.7241379310344827, 1.862068965517241, 2.0], [-2.0, -1.8620689655172413, -1.7241379310344827, -1.5862068965517242, -1.4482758620689655, -1.3103448275862069, -1.1724137931034484, -1.0344827586206897, -0.896551724137931, -0.7586206896551724, -0.6206896551724137, -0.48275862068965525, -0.3448275862068966, -0.2068965517241379, -0.06896551724137945, 0.06896551724137945, 0.2068965517241379, 0.34482758620689635, 0.48275862068965525, 0.6206896551724137, 0.7586206896551726, 0.896551724137931, 1.0344827586206895, 1.1724137931034484, 1.3103448275862069, 1.4482758620689653, 1.5862068965517242, 1.7241379310344827, 1.862068965517241, 2.0], [-2.0, -1.8620689655172413, -1.7241379310344827, -1.5862068965517242, -1.4482758620689655, -1.3103448275862069, -1.1724137931034484, -1.0344827586206897, -0.896551724137931, -0.7586206896551724, -0.6206896551724137, -0.48275862068965525, -0.3448275862068966, -0.2068965517241379, -0.06896551724137945, 0.06896551724137945, 0.2068965517241379, 0.34482758620689635, 0.48275862068965525, 0.6206896551724137, 0.7586206896551726, 0.896551724137931, 1.0344827586206895, 1.1724137931034484, 1.3103448275862069, 1.4482758620689653, 1.5862068965517242, 1.7241379310344827, 1.862068965517241, 2.0], [-2.0, -1.8620689655172413, -1.7241379310344827, -1.5862068965517242, -1.4482758620689655, -1.3103448275862069, -1.1724137931034484, -1.0344827586206897, -0.896551724137931, -0.7586206896551724, -0.6206896551724137, -0.48275862068965525, -0.3448275862068966, -0.2068965517241379, -0.06896551724137945, 0.06896551724137945, 0.2068965517241379, 0.34482758620689635, 0.48275862068965525, 0.6206896551724137, 0.7586206896551726, 0.896551724137931, 1.0344827586206895, 1.1724137931034484, 1.3103448275862069, 1.4482758620689653, 1.5862068965517242, 1.7241379310344827, 1.862068965517241, 2.0], [-2.0, -1.8620689655172413, -1.7241379310344827, -1.5862068965517242, -1.4482758620689655, -1.3103448275862069, -1.1724137931034484, -1.0344827586206897, -0.896551724137931, -0.7586206896551724, -0.6206896551724137, -0.48275862068965525, -0.3448275862068966, -0.2068965517241379, -0.06896551724137945, 0.06896551724137945, 0.2068965517241379, 0.34482758620689635, 0.48275862068965525, 0.6206896551724137, 0.7586206896551726, 0.896551724137931, 1.0344827586206895, 1.1724137931034484, 1.3103448275862069, 1.4482758620689653, 1.5862068965517242, 1.7241379310344827, 1.862068965517241, 2.0], [-2.0, -1.8620689655172413, -1.7241379310344827, -1.5862068965517242, -1.4482758620689655, -1.3103448275862069, -1.1724137931034484, -1.0344827586206897, -0.896551724137931, -0.7586206896551724, -0.6206896551724137, -0.48275862068965525, -0.3448275862068966, -0.2068965517241379, -0.06896551724137945, 0.06896551724137945, 0.2068965517241379, 0.34482758620689635, 0.48275862068965525, 0.6206896551724137, 0.7586206896551726, 0.896551724137931, 1.0344827586206895, 1.1724137931034484, 1.3103448275862069, 1.4482758620689653, 1.5862068965517242, 1.7241379310344827, 1.862068965517241, 2.0], [-2.0, -1.8620689655172413, -1.7241379310344827, -1.5862068965517242, -1.4482758620689655, -1.3103448275862069, -1.1724137931034484, -1.0344827586206897, -0.896551724137931, -0.7586206896551724, -0.6206896551724137, -0.48275862068965525, -0.3448275862068966, -0.2068965517241379, -0.06896551724137945, 0.06896551724137945, 0.2068965517241379, 0.34482758620689635, 0.48275862068965525, 0.6206896551724137, 0.7586206896551726, 0.896551724137931, 1.0344827586206895, 1.1724137931034484, 1.3103448275862069, 1.4482758620689653, 1.5862068965517242, 1.7241379310344827, 1.862068965517241, 2.0], [-2.0, -1.8620689655172413, -1.7241379310344827, -1.5862068965517242, -1.4482758620689655, -1.3103448275862069, -1.1724137931034484, -1.0344827586206897, -0.896551724137931, -0.7586206896551724, -0.6206896551724137, -0.48275862068965525, -0.3448275862068966, -0.2068965517241379, -0.06896551724137945, 0.06896551724137945, 0.2068965517241379, 0.34482758620689635, 0.48275862068965525, 0.6206896551724137, 0.7586206896551726, 0.896551724137931, 1.0344827586206895, 1.1724137931034484, 1.3103448275862069, 1.4482758620689653, 1.5862068965517242, 1.7241379310344827, 1.862068965517241, 2.0], [-2.0, -1.8620689655172413, -1.7241379310344827, -1.5862068965517242, -1.4482758620689655, -1.3103448275862069, -1.1724137931034484, -1.0344827586206897, -0.896551724137931, -0.7586206896551724, -0.6206896551724137, -0.48275862068965525, -0.3448275862068966, -0.2068965517241379, -0.06896551724137945, 0.06896551724137945, 0.2068965517241379, 0.34482758620689635, 0.48275862068965525, 0.6206896551724137, 0.7586206896551726, 0.896551724137931, 1.0344827586206895, 1.1724137931034484, 1.3103448275862069, 1.4482758620689653, 1.5862068965517242, 1.7241379310344827, 1.862068965517241, 2.0], [-2.0, -1.8620689655172413, -1.7241379310344827, -1.5862068965517242, -1.4482758620689655, -1.3103448275862069, -1.1724137931034484, -1.0344827586206897, -0.896551724137931, -0.7586206896551724, -0.6206896551724137, -0.48275862068965525, -0.3448275862068966, -0.2068965517241379, -0.06896551724137945, 0.06896551724137945, 0.2068965517241379, 0.34482758620689635, 0.48275862068965525, 0.6206896551724137, 0.7586206896551726, 0.896551724137931, 1.0344827586206895, 1.1724137931034484, 1.3103448275862069, 1.4482758620689653, 1.5862068965517242, 1.7241379310344827, 1.862068965517241, 2.0], [-2.0, -1.8620689655172413, -1.7241379310344827, -1.5862068965517242, -1.4482758620689655, -1.3103448275862069, -1.1724137931034484, -1.0344827586206897, -0.896551724137931, -0.7586206896551724, -0.6206896551724137, -0.48275862068965525, -0.3448275862068966, -0.2068965517241379, -0.06896551724137945, 0.06896551724137945, 0.2068965517241379, 0.34482758620689635, 0.48275862068965525, 0.6206896551724137, 0.7586206896551726, 0.896551724137931, 1.0344827586206895, 1.1724137931034484, 1.3103448275862069, 1.4482758620689653, 1.5862068965517242, 1.7241379310344827, 1.862068965517241, 2.0], [-2.0, -1.8620689655172413, -1.7241379310344827, -1.5862068965517242, -1.4482758620689655, -1.3103448275862069, -1.1724137931034484, -1.0344827586206897, -0.896551724137931, -0.7586206896551724, -0.6206896551724137, -0.48275862068965525, -0.3448275862068966, -0.2068965517241379, -0.06896551724137945, 0.06896551724137945, 0.2068965517241379, 0.34482758620689635, 0.48275862068965525, 0.6206896551724137, 0.7586206896551726, 0.896551724137931, 1.0344827586206895, 1.1724137931034484, 1.3103448275862069, 1.4482758620689653, 1.5862068965517242, 1.7241379310344827, 1.862068965517241, 2.0], [-2.0, -1.8620689655172413, -1.7241379310344827, -1.5862068965517242, -1.4482758620689655, -1.3103448275862069, -1.1724137931034484, -1.0344827586206897, -0.896551724137931, -0.7586206896551724, -0.6206896551724137, -0.48275862068965525, -0.3448275862068966, -0.2068965517241379, -0.06896551724137945, 0.06896551724137945, 0.2068965517241379, 0.34482758620689635, 0.48275862068965525, 0.6206896551724137, 0.7586206896551726, 0.896551724137931, 1.0344827586206895, 1.1724137931034484, 1.3103448275862069, 1.4482758620689653, 1.5862068965517242, 1.7241379310344827, 1.862068965517241, 2.0], [-2.0, -1.8620689655172413, -1.7241379310344827, -1.5862068965517242, -1.4482758620689655, -1.3103448275862069, -1.1724137931034484, -1.0344827586206897, -0.896551724137931, -0.7586206896551724, -0.6206896551724137, -0.48275862068965525, -0.3448275862068966, -0.2068965517241379, -0.06896551724137945, 0.06896551724137945, 0.2068965517241379, 0.34482758620689635, 0.48275862068965525, 0.6206896551724137, 0.7586206896551726, 0.896551724137931, 1.0344827586206895, 1.1724137931034484, 1.3103448275862069, 1.4482758620689653, 1.5862068965517242, 1.7241379310344827, 1.862068965517241, 2.0], [-2.0, -1.8620689655172413, -1.7241379310344827, -1.5862068965517242, -1.4482758620689655, -1.3103448275862069, -1.1724137931034484, -1.0344827586206897, -0.896551724137931, -0.7586206896551724, -0.6206896551724137, -0.48275862068965525, -0.3448275862068966, -0.2068965517241379, -0.06896551724137945, 0.06896551724137945, 0.2068965517241379, 0.34482758620689635, 0.48275862068965525, 0.6206896551724137, 0.7586206896551726, 0.896551724137931, 1.0344827586206895, 1.1724137931034484, 1.3103448275862069, 1.4482758620689653, 1.5862068965517242, 1.7241379310344827, 1.862068965517241, 2.0], [-2.0, -1.8620689655172413, -1.7241379310344827, -1.5862068965517242, -1.4482758620689655, -1.3103448275862069, -1.1724137931034484, -1.0344827586206897, -0.896551724137931, -0.7586206896551724, -0.6206896551724137, -0.48275862068965525, -0.3448275862068966, -0.2068965517241379, -0.06896551724137945, 0.06896551724137945, 0.2068965517241379, 0.34482758620689635, 0.48275862068965525, 0.6206896551724137, 0.7586206896551726, 0.896551724137931, 1.0344827586206895, 1.1724137931034484, 1.3103448275862069, 1.4482758620689653, 1.5862068965517242, 1.7241379310344827, 1.862068965517241, 2.0], [-2.0, -1.8620689655172413, -1.7241379310344827, -1.5862068965517242, -1.4482758620689655, -1.3103448275862069, -1.1724137931034484, -1.0344827586206897, -0.896551724137931, -0.7586206896551724, -0.6206896551724137, -0.48275862068965525, -0.3448275862068966, -0.2068965517241379, -0.06896551724137945, 0.06896551724137945, 0.2068965517241379, 0.34482758620689635, 0.48275862068965525, 0.6206896551724137, 0.7586206896551726, 0.896551724137931, 1.0344827586206895, 1.1724137931034484, 1.3103448275862069, 1.4482758620689653, 1.5862068965517242, 1.7241379310344827, 1.862068965517241, 2.0], [-2.0, -1.8620689655172413, -1.7241379310344827, -1.5862068965517242, -1.4482758620689655, -1.3103448275862069, -1.1724137931034484, -1.0344827586206897, -0.896551724137931, -0.7586206896551724, -0.6206896551724137, -0.48275862068965525, -0.3448275862068966, -0.2068965517241379, -0.06896551724137945, 0.06896551724137945, 0.2068965517241379, 0.34482758620689635, 0.48275862068965525, 0.6206896551724137, 0.7586206896551726, 0.896551724137931, 1.0344827586206895, 1.1724137931034484, 1.3103448275862069, 1.4482758620689653, 1.5862068965517242, 1.7241379310344827, 1.862068965517241, 2.0], [-2.0, -1.8620689655172413, -1.7241379310344827, -1.5862068965517242, -1.4482758620689655, -1.3103448275862069, -1.1724137931034484, -1.0344827586206897, -0.896551724137931, -0.7586206896551724, -0.6206896551724137, -0.48275862068965525, -0.3448275862068966, -0.2068965517241379, -0.06896551724137945, 0.06896551724137945, 0.2068965517241379, 0.34482758620689635, 0.48275862068965525, 0.6206896551724137, 0.7586206896551726, 0.896551724137931, 1.0344827586206895, 1.1724137931034484, 1.3103448275862069, 1.4482758620689653, 1.5862068965517242, 1.7241379310344827, 1.862068965517241, 2.0], [-2.0, -1.8620689655172413, -1.7241379310344827, -1.5862068965517242, -1.4482758620689655, -1.3103448275862069, -1.1724137931034484, -1.0344827586206897, -0.896551724137931, -0.7586206896551724, -0.6206896551724137, -0.48275862068965525, -0.3448275862068966, -0.2068965517241379, -0.06896551724137945, 0.06896551724137945, 0.2068965517241379, 0.34482758620689635, 0.48275862068965525, 0.6206896551724137, 0.7586206896551726, 0.896551724137931, 1.0344827586206895, 1.1724137931034484, 1.3103448275862069, 1.4482758620689653, 1.5862068965517242, 1.7241379310344827, 1.862068965517241, 2.0], [-2.0, -1.8620689655172413, -1.7241379310344827, -1.5862068965517242, -1.4482758620689655, -1.3103448275862069, -1.1724137931034484, -1.0344827586206897, -0.896551724137931, -0.7586206896551724, -0.6206896551724137, -0.48275862068965525, -0.3448275862068966, -0.2068965517241379, -0.06896551724137945, 0.06896551724137945, 0.2068965517241379, 0.34482758620689635, 0.48275862068965525, 0.6206896551724137, 0.7586206896551726, 0.896551724137931, 1.0344827586206895, 1.1724137931034484, 1.3103448275862069, 1.4482758620689653, 1.5862068965517242, 1.7241379310344827, 1.862068965517241, 2.0], [-2.0, -1.8620689655172413, -1.7241379310344827, -1.5862068965517242, -1.4482758620689655, -1.3103448275862069, -1.1724137931034484, -1.0344827586206897, -0.896551724137931, -0.7586206896551724, -0.6206896551724137, -0.48275862068965525, -0.3448275862068966, -0.2068965517241379, -0.06896551724137945, 0.06896551724137945, 0.2068965517241379, 0.34482758620689635, 0.48275862068965525, 0.6206896551724137, 0.7586206896551726, 0.896551724137931, 1.0344827586206895, 1.1724137931034484, 1.3103448275862069, 1.4482758620689653, 1.5862068965517242, 1.7241379310344827, 1.862068965517241, 2.0], [-2.0, -1.8620689655172413, -1.7241379310344827, -1.5862068965517242, -1.4482758620689655, -1.3103448275862069, -1.1724137931034484, -1.0344827586206897, -0.896551724137931, -0.7586206896551724, -0.6206896551724137, -0.48275862068965525, -0.3448275862068966, -0.2068965517241379, -0.06896551724137945, 0.06896551724137945, 0.2068965517241379, 0.34482758620689635, 0.48275862068965525, 0.6206896551724137, 0.7586206896551726, 0.896551724137931, 1.0344827586206895, 1.1724137931034484, 1.3103448275862069, 1.4482758620689653, 1.5862068965517242, 1.7241379310344827, 1.862068965517241, 2.0], [-2.0, -1.8620689655172413, -1.7241379310344827, -1.5862068965517242, -1.4482758620689655, -1.3103448275862069, -1.1724137931034484, -1.0344827586206897, -0.896551724137931, -0.7586206896551724, -0.6206896551724137, -0.48275862068965525, -0.3448275862068966, -0.2068965517241379, -0.06896551724137945, 0.06896551724137945, 0.2068965517241379, 0.34482758620689635, 0.48275862068965525, 0.6206896551724137, 0.7586206896551726, 0.896551724137931, 1.0344827586206895, 1.1724137931034484, 1.3103448275862069, 1.4482758620689653, 1.5862068965517242, 1.7241379310344827, 1.862068965517241, 2.0]], \"z\": [[-0.14550003380861354, 0.3771163698374025, 0.7715856262749327, 0.9730087800748581, 0.9828105087509209, 0.8439552885475596, 0.6148258430286723, 0.3501821854376338, 0.0912887413038582, -0.13645656222622704, -0.32132971166758456, -0.46118753113235134, -0.5592517392712635, -0.6206589204628736, -0.6500367048930533, -0.6500367048930533, -0.6206589204628736, -0.5592517392712635, -0.46118753113235134, -0.32132971166758456, -0.13645656222622704, 0.0912887413038582, 0.35018218543763296, 0.6148258430286723, 0.8439552885475596, 0.9828105087509206, 0.9730087800748581, 0.7715856262749327, 0.3771163698374025, -0.14550003380861354], [0.3771163698374025, 0.7952258400285502, 0.9877371784944078, 0.9553860769123755, 0.75287195663488, 0.45459318051713765, 0.1291045847107738, -0.17404272198184442, -0.4271000498005775, -0.6206589204628736, -0.757733268991495, -0.8479109755643824, -0.9027766503908669, -0.9328635462039776, -0.9458917490178871, -0.9458917490178871, -0.9328635462039776, -0.9027766503908669, -0.8479109755643824, -0.757733268991495, -0.620658920462873, -0.4271000498005775, -0.1740427219818453, 0.1291045847107738, 0.45459318051713765, 0.7528719566348794, 0.9553860769123755, 0.9877371784944078, 0.7952258400285508, 0.3771163698374025], [0.7715856262749327, 0.9877371784944078, 0.9434588440390105, 0.7006548934506924, 0.35018218543763296, -0.022731849784232684, -0.3571204880458734, -0.6206589204628736, -0.8051523933753714, -0.9184849083778888, -0.9766950836349867, -0.9979453477917158, -0.9987485113050988, -0.9920555393030482, -0.9865519251227948, -0.9865519251227948, -0.9920555393030482, -0.9987485113050988, -0.9979453477917158, -0.9766950836349867, -0.9184849083778888, -0.8051523933753714, -0.6206589204628736, -0.3571204880458734, -0.022731849784232684, 0.35018218543763296, 0.7006548934506924, 0.9434588440390105, 0.987737178494408, 0.7715856262749327], [0.9730087800748581, 0.9553860769123755, 0.7006548934506924, 0.31429663941102653, -0.09867286477067207, -0.46118753113235134, -0.7323607673335443, -0.9027766503908666, -0.984152888590357, -0.9987485113050988, -0.9712702646711981, -0.9239616475809372, -0.8743826337224939, -0.8349611446231123, -0.8134226212963586, -0.8134226212963586, -0.8349611446231123, -0.8743826337224939, -0.9239616475809372, -0.9712702646711981, -0.9987485113050988, -0.984152888590357, -0.9027766503908669, -0.7323607673335443, -0.46118753113235134, -0.09867286477067294, 0.31429663941102653, 0.7006548934506924, 0.9553860769123753, 0.9730087800748581], [0.9828105087509209, 0.75287195663488, 0.35018218543763296, -0.09867286477067207, -0.49460738664494, -0.7820088583084029, -0.9458917490178869, -0.9996603298046648, -0.9712702646711981, -0.8922085320286857, -0.7907065684241876, -0.6887493001173617, -0.6016879421052983, -0.5392218349497397, -0.5067949902998576, -0.5067949902998576, -0.5392218349497397, -0.6016879421052983, -0.6887493001173617, -0.7907065684241876, -0.8922085320286859, -0.9712702646711981, -0.9996603298046648, -0.9458917490178869, -0.7820088583084029, -0.49460738664494075, -0.09867286477067207, 0.35018218543763296, 0.7528719566348794, 0.9828105087509209], [0.8439552885475596, 0.45459318051713765, -0.022731849784232684, -0.46118753113235134, -0.7820088583084029, -0.9575506568895692, -0.9987485113050988, -0.9378428982768381, -0.8134226212963582, -0.660671240210799, -0.5067949902998572, -0.37023606016878224, -0.26201861588431247, -0.18788998092341608, -0.15039072704493123, -0.15039072704493123, -0.18788998092341608, -0.26201861588431224, -0.37023606016878224, -0.5067949902998572, -0.6606712402107994, -0.8134226212963582, -0.9378428982768378, -0.9987485113050988, -0.9575506568895692, -0.7820088583084035, -0.46118753113235134, -0.022731849784232684, 0.4545931805171369, 0.8439552885475596], [0.6148258430286723, 0.1291045847107738, -0.3571204880458734, -0.7323607673335443, -0.9458917490178869, -0.9987485113050988, -0.9239616475809374, -0.766845870294192, -0.5708680895034488, -0.37023606016878247, -0.18788998092341652, -0.036805346618823016, 0.0772590936387566, 0.15283470200647742, 0.19031792651104276, 0.19031792651104276, 0.15283470200647742, 0.07725909363875683, -0.036805346618823016, -0.18788998092341652, -0.37023606016878263, -0.5708680895034488, -0.7668458702941918, -0.9239616475809374, -0.9987485113050988, -0.9458917490178872, -0.7323607673335443, -0.3571204880458734, 0.1291045847107729, 0.6148258430286723], [0.3501821854376338, -0.17404272198184442, -0.6206589204628736, -0.9027766503908666, -0.9996603298046648, -0.9378428982768381, -0.766845870294192, -0.5392218349497397, -0.2985406866270032, -0.07479369187759254, 0.11513023042509656, 0.26440398676476456, 0.37253177888744077, 0.4420076219074999, 0.47581068280211636, 0.47581068280211636, 0.4420076219074999, 0.372531778887441, 0.26440398676476456, 0.11513023042509656, -0.07479369187759276, -0.2985406866270032, -0.5392218349497394, -0.766845870294192, -0.9378428982768381, -0.9996603298046648, -0.9027766503908666, -0.6206589204628736, -0.17404272198184617, 0.3501821854376338], [0.0912887413038582, -0.4271000498005775, -0.8051523933753714, -0.984152888590357, -0.9712702646711981, -0.8134226212963582, -0.5708680895034488, -0.2985406866270032, -0.036805346618822794, 0.19031792651104298, 0.372531778887441, 0.5089249490623624, 0.6036610106004938, 0.6625253075413651, 0.6905397968085247, 0.6905397968085247, 0.6625253075413651, 0.6036610106004938, 0.5089249490623624, 0.372531778887441, 0.19031792651104276, -0.036805346618822794, -0.29854068662700284, -0.5708680895034488, -0.8134226212963582, -0.9712702646711979, -0.984152888590357, -0.8051523933753714, -0.4271000498005783, 0.0912887413038582], [-0.13645656222622704, -0.6206589204628736, -0.9184849083778888, -0.9987485113050988, -0.8922085320286857, -0.660671240210799, -0.37023606016878247, -0.07479369187759254, 0.19031792651104298, 0.40756470047732835, 0.5728964162550122, 0.6905397968085248, 0.7684304900063436, 0.8148583542246781, 0.8363192618840865, 0.8363192618840865, 0.8148583542246781, 0.7684304900063438, 0.6905397968085248, 0.5728964162550122, 0.40756470047732796, 0.19031792651104298, -0.07479369187759209, -0.37023606016878247, -0.660671240210799, -0.8922085320286853, -0.9987485113050988, -0.9184849083778888, -0.6206589204628743, -0.13645656222622704], [-0.32132971166758456, -0.757733268991495, -0.9766950836349867, -0.9712702646711981, -0.7907065684241876, -0.5067949902998572, -0.18788998092341652, 0.11513023042509656, 0.372531778887441, 0.5728964162550122, 0.717554644571085, 0.8148583542246781, 0.8755797367265107, 0.9097720079076684, 0.9249045391211184, 0.9249045391211184, 0.9097720079076684, 0.8755797367265107, 0.8148583542246781, 0.717554644571085, 0.5728964162550118, 0.372531778887441, 0.115130230425097, -0.18788998092341652, -0.5067949902998572, -0.7907065684241871, -0.9712702646711981, -0.9766950836349867, -0.7577332689914955, -0.32132971166758456], [-0.46118753113235134, -0.8479109755643824, -0.9979453477917158, -0.9239616475809372, -0.6887493001173617, -0.37023606016878224, -0.036805346618823016, 0.26440398676476456, 0.5089249490623624, 0.6905397968085248, 0.8148583542246781, 0.893322469531082, 0.9386981569665462, 0.9621907478508727, 0.971855712467654, 0.971855712467654, 0.9621907478508727, 0.9386981569665462, 0.893322469531082, 0.8148583542246781, 0.6905397968085246, 0.5089249490623624, 0.264403986764765, -0.036805346618823016, -0.37023606016878224, -0.688749300117361, -0.9239616475809372, -0.9979453477917158, -0.847910975564383, -0.46118753113235134], [-0.5592517392712635, -0.9027766503908669, -0.9987485113050988, -0.8743826337224939, -0.6016879421052983, -0.26201861588431247, 0.0772590936387566, 0.37253177888744077, 0.6036610106004938, 0.7684304900063436, 0.8755797367265107, 0.9386981569665462, 0.971855712467654, 0.9869530441642548, 0.9923635559948296, 0.9923635559948296, 0.9869530441642548, 0.971855712467654, 0.9386981569665462, 0.8755797367265107, 0.7684304900063434, 0.6036610106004938, 0.3725317788874412, 0.0772590936387566, -0.26201861588431247, -0.6016879421052976, -0.8743826337224939, -0.9987485113050988, -0.9027766503908672, -0.5592517392712635], [-0.6206589204628736, -0.9328635462039776, -0.9920555393030482, -0.8349611446231123, -0.5392218349497397, -0.18788998092341608, 0.15283470200647742, 0.4420076219074999, 0.6625253075413651, 0.8148583542246781, 0.9097720079076684, 0.9621907478508727, 0.9869530441642548, 0.9963374992122566, 0.9988691210437116, 0.9988691210437116, 0.9963374992122566, 0.9869530441642549, 0.9621907478508727, 0.9097720079076684, 0.8148583542246779, 0.6625253075413651, 0.4420076219075003, 0.15283470200647742, -0.18788998092341608, -0.5392218349497391, -0.8349611446231123, -0.9920555393030482, -0.9328635462039779, -0.6206589204628736], [-0.6500367048930533, -0.9458917490178871, -0.9865519251227948, -0.8134226212963586, -0.5067949902998576, -0.15039072704493123, 0.19031792651104276, 0.47581068280211636, 0.6905397968085247, 0.8363192618840865, 0.9249045391211184, 0.971855712467654, 0.9923635559948296, 0.9988691210437116, 0.9999547566544258, 0.9999547566544258, 0.9988691210437116, 0.9923635559948296, 0.971855712467654, 0.9249045391211184, 0.8363192618840862, 0.6905397968085247, 0.47581068280211675, 0.19031792651104276, -0.15039072704493123, -0.5067949902998569, -0.8134226212963586, -0.9865519251227948, -0.9458917490178873, -0.6500367048930533], [-0.6500367048930533, -0.9458917490178871, -0.9865519251227948, -0.8134226212963586, -0.5067949902998576, -0.15039072704493123, 0.19031792651104276, 0.47581068280211636, 0.6905397968085247, 0.8363192618840865, 0.9249045391211184, 0.971855712467654, 0.9923635559948296, 0.9988691210437116, 0.9999547566544258, 0.9999547566544258, 0.9988691210437116, 0.9923635559948296, 0.971855712467654, 0.9249045391211184, 0.8363192618840862, 0.6905397968085247, 0.47581068280211675, 0.19031792651104276, -0.15039072704493123, -0.5067949902998569, -0.8134226212963586, -0.9865519251227948, -0.9458917490178873, -0.6500367048930533], [-0.6206589204628736, -0.9328635462039776, -0.9920555393030482, -0.8349611446231123, -0.5392218349497397, -0.18788998092341608, 0.15283470200647742, 0.4420076219074999, 0.6625253075413651, 0.8148583542246781, 0.9097720079076684, 0.9621907478508727, 0.9869530441642548, 0.9963374992122566, 0.9988691210437116, 0.9988691210437116, 0.9963374992122566, 0.9869530441642549, 0.9621907478508727, 0.9097720079076684, 0.8148583542246779, 0.6625253075413651, 0.4420076219075003, 0.15283470200647742, -0.18788998092341608, -0.5392218349497391, -0.8349611446231123, -0.9920555393030482, -0.9328635462039779, -0.6206589204628736], [-0.5592517392712635, -0.9027766503908669, -0.9987485113050988, -0.8743826337224939, -0.6016879421052983, -0.26201861588431224, 0.07725909363875683, 0.372531778887441, 0.6036610106004938, 0.7684304900063438, 0.8755797367265107, 0.9386981569665462, 0.971855712467654, 0.9869530441642549, 0.9923635559948296, 0.9923635559948296, 0.9869530441642549, 0.971855712467654, 0.9386981569665462, 0.8755797367265107, 0.7684304900063436, 0.6036610106004938, 0.37253177888744143, 0.07725909363875683, -0.26201861588431224, -0.6016879421052976, -0.8743826337224939, -0.9987485113050988, -0.9027766503908672, -0.5592517392712635], [-0.46118753113235134, -0.8479109755643824, -0.9979453477917158, -0.9239616475809372, -0.6887493001173617, -0.37023606016878224, -0.036805346618823016, 0.26440398676476456, 0.5089249490623624, 0.6905397968085248, 0.8148583542246781, 0.893322469531082, 0.9386981569665462, 0.9621907478508727, 0.971855712467654, 0.971855712467654, 0.9621907478508727, 0.9386981569665462, 0.893322469531082, 0.8148583542246781, 0.6905397968085246, 0.5089249490623624, 0.264403986764765, -0.036805346618823016, -0.37023606016878224, -0.688749300117361, -0.9239616475809372, -0.9979453477917158, -0.847910975564383, -0.46118753113235134], [-0.32132971166758456, -0.757733268991495, -0.9766950836349867, -0.9712702646711981, -0.7907065684241876, -0.5067949902998572, -0.18788998092341652, 0.11513023042509656, 0.372531778887441, 0.5728964162550122, 0.717554644571085, 0.8148583542246781, 0.8755797367265107, 0.9097720079076684, 0.9249045391211184, 0.9249045391211184, 0.9097720079076684, 0.8755797367265107, 0.8148583542246781, 0.717554644571085, 0.5728964162550118, 0.372531778887441, 0.115130230425097, -0.18788998092341652, -0.5067949902998572, -0.7907065684241871, -0.9712702646711981, -0.9766950836349867, -0.7577332689914955, -0.32132971166758456], [-0.13645656222622704, -0.620658920462873, -0.9184849083778888, -0.9987485113050988, -0.8922085320286859, -0.6606712402107994, -0.37023606016878263, -0.07479369187759276, 0.19031792651104276, 0.40756470047732796, 0.5728964162550118, 0.6905397968085246, 0.7684304900063434, 0.8148583542246779, 0.8363192618840862, 0.8363192618840862, 0.8148583542246779, 0.7684304900063436, 0.6905397968085246, 0.5728964162550118, 0.40756470047732773, 0.19031792651104276, -0.07479369187759231, -0.37023606016878263, -0.6606712402107994, -0.8922085320286854, -0.9987485113050988, -0.9184849083778888, -0.6206589204628736, -0.13645656222622704], [0.0912887413038582, -0.4271000498005775, -0.8051523933753714, -0.984152888590357, -0.9712702646711981, -0.8134226212963582, -0.5708680895034488, -0.2985406866270032, -0.036805346618822794, 0.19031792651104298, 0.372531778887441, 0.5089249490623624, 0.6036610106004938, 0.6625253075413651, 0.6905397968085247, 0.6905397968085247, 0.6625253075413651, 0.6036610106004938, 0.5089249490623624, 0.372531778887441, 0.19031792651104276, -0.036805346618822794, -0.29854068662700284, -0.5708680895034488, -0.8134226212963582, -0.9712702646711979, -0.984152888590357, -0.8051523933753714, -0.4271000498005783, 0.0912887413038582], [0.35018218543763296, -0.1740427219818453, -0.6206589204628736, -0.9027766503908669, -0.9996603298046648, -0.9378428982768378, -0.7668458702941918, -0.5392218349497394, -0.29854068662700284, -0.07479369187759209, 0.115130230425097, 0.264403986764765, 0.3725317788874412, 0.4420076219075003, 0.47581068280211675, 0.47581068280211675, 0.4420076219075003, 0.37253177888744143, 0.264403986764765, 0.115130230425097, -0.07479369187759231, -0.29854068662700284, -0.5392218349497391, -0.7668458702941918, -0.9378428982768378, -0.9996603298046648, -0.9027766503908669, -0.6206589204628736, -0.17404272198184617, 0.35018218543763296], [0.6148258430286723, 0.1291045847107738, -0.3571204880458734, -0.7323607673335443, -0.9458917490178869, -0.9987485113050988, -0.9239616475809374, -0.766845870294192, -0.5708680895034488, -0.37023606016878247, -0.18788998092341652, -0.036805346618823016, 0.0772590936387566, 0.15283470200647742, 0.19031792651104276, 0.19031792651104276, 0.15283470200647742, 0.07725909363875683, -0.036805346618823016, -0.18788998092341652, -0.37023606016878263, -0.5708680895034488, -0.7668458702941918, -0.9239616475809374, -0.9987485113050988, -0.9458917490178872, -0.7323607673335443, -0.3571204880458734, 0.1291045847107729, 0.6148258430286723], [0.8439552885475596, 0.45459318051713765, -0.022731849784232684, -0.46118753113235134, -0.7820088583084029, -0.9575506568895692, -0.9987485113050988, -0.9378428982768381, -0.8134226212963582, -0.660671240210799, -0.5067949902998572, -0.37023606016878224, -0.26201861588431247, -0.18788998092341608, -0.15039072704493123, -0.15039072704493123, -0.18788998092341608, -0.26201861588431224, -0.37023606016878224, -0.5067949902998572, -0.6606712402107994, -0.8134226212963582, -0.9378428982768378, -0.9987485113050988, -0.9575506568895692, -0.7820088583084035, -0.46118753113235134, -0.022731849784232684, 0.4545931805171369, 0.8439552885475596], [0.9828105087509206, 0.7528719566348794, 0.35018218543763296, -0.09867286477067294, -0.49460738664494075, -0.7820088583084035, -0.9458917490178872, -0.9996603298046648, -0.9712702646711979, -0.8922085320286853, -0.7907065684241871, -0.688749300117361, -0.6016879421052976, -0.5392218349497391, -0.5067949902998569, -0.5067949902998569, -0.5392218349497391, -0.6016879421052976, -0.688749300117361, -0.7907065684241871, -0.8922085320286854, -0.9712702646711979, -0.9996603298046648, -0.9458917490178872, -0.7820088583084035, -0.4946073866449415, -0.09867286477067294, 0.35018218543763296, 0.7528719566348788, 0.9828105087509206], [0.9730087800748581, 0.9553860769123755, 0.7006548934506924, 0.31429663941102653, -0.09867286477067207, -0.46118753113235134, -0.7323607673335443, -0.9027766503908666, -0.984152888590357, -0.9987485113050988, -0.9712702646711981, -0.9239616475809372, -0.8743826337224939, -0.8349611446231123, -0.8134226212963586, -0.8134226212963586, -0.8349611446231123, -0.8743826337224939, -0.9239616475809372, -0.9712702646711981, -0.9987485113050988, -0.984152888590357, -0.9027766503908669, -0.7323607673335443, -0.46118753113235134, -0.09867286477067294, 0.31429663941102653, 0.7006548934506924, 0.9553860769123753, 0.9730087800748581], [0.7715856262749327, 0.9877371784944078, 0.9434588440390105, 0.7006548934506924, 0.35018218543763296, -0.022731849784232684, -0.3571204880458734, -0.6206589204628736, -0.8051523933753714, -0.9184849083778888, -0.9766950836349867, -0.9979453477917158, -0.9987485113050988, -0.9920555393030482, -0.9865519251227948, -0.9865519251227948, -0.9920555393030482, -0.9987485113050988, -0.9979453477917158, -0.9766950836349867, -0.9184849083778888, -0.8051523933753714, -0.6206589204628736, -0.3571204880458734, -0.022731849784232684, 0.35018218543763296, 0.7006548934506924, 0.9434588440390105, 0.987737178494408, 0.7715856262749327], [0.3771163698374025, 0.7952258400285508, 0.987737178494408, 0.9553860769123753, 0.7528719566348794, 0.4545931805171369, 0.1291045847107729, -0.17404272198184617, -0.4271000498005783, -0.6206589204628743, -0.7577332689914955, -0.847910975564383, -0.9027766503908672, -0.9328635462039779, -0.9458917490178873, -0.9458917490178873, -0.9328635462039779, -0.9027766503908672, -0.847910975564383, -0.7577332689914955, -0.6206589204628736, -0.4271000498005783, -0.17404272198184617, 0.1291045847107729, 0.4545931805171369, 0.7528719566348788, 0.9553860769123753, 0.987737178494408, 0.7952258400285513, 0.3771163698374025], [-0.14550003380861354, 0.3771163698374025, 0.7715856262749327, 0.9730087800748581, 0.9828105087509209, 0.8439552885475596, 0.6148258430286723, 0.3501821854376338, 0.0912887413038582, -0.13645656222622704, -0.32132971166758456, -0.46118753113235134, -0.5592517392712635, -0.6206589204628736, -0.6500367048930533, -0.6500367048930533, -0.6206589204628736, -0.5592517392712635, -0.46118753113235134, -0.32132971166758456, -0.13645656222622704, 0.0912887413038582, 0.35018218543763296, 0.6148258430286723, 0.8439552885475596, 0.9828105087509206, 0.9730087800748581, 0.7715856262749327, 0.3771163698374025, -0.14550003380861354]]}],\n",
              "                        {\"template\": {\"data\": {\"bar\": [{\"error_x\": {\"color\": \"#2a3f5f\"}, \"error_y\": {\"color\": \"#2a3f5f\"}, \"marker\": {\"line\": {\"color\": \"#E5ECF6\", \"width\": 0.5}}, \"type\": \"bar\"}], \"barpolar\": [{\"marker\": {\"line\": {\"color\": \"#E5ECF6\", \"width\": 0.5}}, \"type\": \"barpolar\"}], \"carpet\": [{\"aaxis\": {\"endlinecolor\": \"#2a3f5f\", \"gridcolor\": \"white\", \"linecolor\": \"white\", \"minorgridcolor\": \"white\", \"startlinecolor\": \"#2a3f5f\"}, \"baxis\": {\"endlinecolor\": \"#2a3f5f\", \"gridcolor\": \"white\", \"linecolor\": \"white\", \"minorgridcolor\": \"white\", \"startlinecolor\": \"#2a3f5f\"}, \"type\": \"carpet\"}], \"choropleth\": [{\"colorbar\": {\"outlinewidth\": 0, \"ticks\": \"\"}, \"type\": \"choropleth\"}], \"contour\": [{\"colorbar\": {\"outlinewidth\": 0, \"ticks\": \"\"}, \"colorscale\": [[0.0, \"#0d0887\"], [0.1111111111111111, \"#46039f\"], [0.2222222222222222, \"#7201a8\"], [0.3333333333333333, \"#9c179e\"], [0.4444444444444444, \"#bd3786\"], [0.5555555555555556, \"#d8576b\"], [0.6666666666666666, \"#ed7953\"], [0.7777777777777778, \"#fb9f3a\"], [0.8888888888888888, \"#fdca26\"], [1.0, \"#f0f921\"]], \"type\": \"contour\"}], \"contourcarpet\": [{\"colorbar\": {\"outlinewidth\": 0, \"ticks\": \"\"}, \"type\": \"contourcarpet\"}], \"heatmap\": [{\"colorbar\": {\"outlinewidth\": 0, \"ticks\": \"\"}, \"colorscale\": [[0.0, \"#0d0887\"], [0.1111111111111111, \"#46039f\"], [0.2222222222222222, \"#7201a8\"], [0.3333333333333333, \"#9c179e\"], [0.4444444444444444, \"#bd3786\"], [0.5555555555555556, \"#d8576b\"], [0.6666666666666666, \"#ed7953\"], [0.7777777777777778, \"#fb9f3a\"], [0.8888888888888888, \"#fdca26\"], [1.0, \"#f0f921\"]], \"type\": \"heatmap\"}], \"heatmapgl\": [{\"colorbar\": {\"outlinewidth\": 0, \"ticks\": \"\"}, \"colorscale\": [[0.0, \"#0d0887\"], [0.1111111111111111, \"#46039f\"], [0.2222222222222222, \"#7201a8\"], [0.3333333333333333, \"#9c179e\"], [0.4444444444444444, \"#bd3786\"], [0.5555555555555556, \"#d8576b\"], [0.6666666666666666, \"#ed7953\"], [0.7777777777777778, \"#fb9f3a\"], [0.8888888888888888, \"#fdca26\"], [1.0, \"#f0f921\"]], \"type\": \"heatmapgl\"}], \"histogram\": [{\"marker\": {\"colorbar\": {\"outlinewidth\": 0, \"ticks\": \"\"}}, \"type\": \"histogram\"}], \"histogram2d\": [{\"colorbar\": {\"outlinewidth\": 0, \"ticks\": \"\"}, \"colorscale\": [[0.0, \"#0d0887\"], [0.1111111111111111, \"#46039f\"], [0.2222222222222222, \"#7201a8\"], [0.3333333333333333, \"#9c179e\"], [0.4444444444444444, \"#bd3786\"], [0.5555555555555556, \"#d8576b\"], [0.6666666666666666, \"#ed7953\"], [0.7777777777777778, \"#fb9f3a\"], [0.8888888888888888, \"#fdca26\"], [1.0, \"#f0f921\"]], \"type\": \"histogram2d\"}], \"histogram2dcontour\": [{\"colorbar\": {\"outlinewidth\": 0, \"ticks\": \"\"}, \"colorscale\": [[0.0, \"#0d0887\"], [0.1111111111111111, \"#46039f\"], [0.2222222222222222, \"#7201a8\"], [0.3333333333333333, \"#9c179e\"], [0.4444444444444444, \"#bd3786\"], [0.5555555555555556, \"#d8576b\"], [0.6666666666666666, \"#ed7953\"], [0.7777777777777778, \"#fb9f3a\"], [0.8888888888888888, \"#fdca26\"], [1.0, \"#f0f921\"]], \"type\": \"histogram2dcontour\"}], \"mesh3d\": [{\"colorbar\": {\"outlinewidth\": 0, \"ticks\": \"\"}, \"type\": \"mesh3d\"}], \"parcoords\": [{\"line\": {\"colorbar\": {\"outlinewidth\": 0, \"ticks\": \"\"}}, \"type\": \"parcoords\"}], \"pie\": [{\"automargin\": true, \"type\": \"pie\"}], \"scatter\": [{\"marker\": {\"colorbar\": {\"outlinewidth\": 0, \"ticks\": \"\"}}, \"type\": \"scatter\"}], \"scatter3d\": [{\"line\": {\"colorbar\": {\"outlinewidth\": 0, \"ticks\": \"\"}}, \"marker\": {\"colorbar\": {\"outlinewidth\": 0, \"ticks\": \"\"}}, \"type\": \"scatter3d\"}], \"scattercarpet\": [{\"marker\": {\"colorbar\": {\"outlinewidth\": 0, \"ticks\": \"\"}}, \"type\": \"scattercarpet\"}], \"scattergeo\": [{\"marker\": {\"colorbar\": {\"outlinewidth\": 0, \"ticks\": \"\"}}, \"type\": \"scattergeo\"}], \"scattergl\": [{\"marker\": {\"colorbar\": {\"outlinewidth\": 0, \"ticks\": \"\"}}, \"type\": \"scattergl\"}], \"scattermapbox\": [{\"marker\": {\"colorbar\": {\"outlinewidth\": 0, \"ticks\": \"\"}}, \"type\": \"scattermapbox\"}], \"scatterpolar\": [{\"marker\": {\"colorbar\": {\"outlinewidth\": 0, \"ticks\": \"\"}}, \"type\": \"scatterpolar\"}], \"scatterpolargl\": [{\"marker\": {\"colorbar\": {\"outlinewidth\": 0, \"ticks\": \"\"}}, \"type\": \"scatterpolargl\"}], \"scatterternary\": [{\"marker\": {\"colorbar\": {\"outlinewidth\": 0, \"ticks\": \"\"}}, \"type\": \"scatterternary\"}], \"surface\": [{\"colorbar\": {\"outlinewidth\": 0, \"ticks\": \"\"}, \"colorscale\": [[0.0, \"#0d0887\"], [0.1111111111111111, \"#46039f\"], [0.2222222222222222, \"#7201a8\"], [0.3333333333333333, \"#9c179e\"], [0.4444444444444444, \"#bd3786\"], [0.5555555555555556, \"#d8576b\"], [0.6666666666666666, \"#ed7953\"], [0.7777777777777778, \"#fb9f3a\"], [0.8888888888888888, \"#fdca26\"], [1.0, \"#f0f921\"]], \"type\": \"surface\"}], \"table\": [{\"cells\": {\"fill\": {\"color\": \"#EBF0F8\"}, \"line\": {\"color\": \"white\"}}, \"header\": {\"fill\": {\"color\": \"#C8D4E3\"}, \"line\": {\"color\": \"white\"}}, \"type\": \"table\"}]}, \"layout\": {\"annotationdefaults\": {\"arrowcolor\": \"#2a3f5f\", \"arrowhead\": 0, \"arrowwidth\": 1}, \"coloraxis\": {\"colorbar\": {\"outlinewidth\": 0, \"ticks\": \"\"}}, \"colorscale\": {\"diverging\": [[0, \"#8e0152\"], [0.1, \"#c51b7d\"], [0.2, \"#de77ae\"], [0.3, \"#f1b6da\"], [0.4, \"#fde0ef\"], [0.5, \"#f7f7f7\"], [0.6, \"#e6f5d0\"], [0.7, \"#b8e186\"], [0.8, \"#7fbc41\"], [0.9, \"#4d9221\"], [1, \"#276419\"]], \"sequential\": [[0.0, \"#0d0887\"], [0.1111111111111111, \"#46039f\"], [0.2222222222222222, \"#7201a8\"], [0.3333333333333333, \"#9c179e\"], [0.4444444444444444, \"#bd3786\"], [0.5555555555555556, \"#d8576b\"], [0.6666666666666666, \"#ed7953\"], [0.7777777777777778, \"#fb9f3a\"], [0.8888888888888888, \"#fdca26\"], [1.0, \"#f0f921\"]], \"sequentialminus\": [[0.0, \"#0d0887\"], [0.1111111111111111, \"#46039f\"], [0.2222222222222222, \"#7201a8\"], [0.3333333333333333, \"#9c179e\"], [0.4444444444444444, \"#bd3786\"], [0.5555555555555556, \"#d8576b\"], [0.6666666666666666, \"#ed7953\"], [0.7777777777777778, \"#fb9f3a\"], [0.8888888888888888, \"#fdca26\"], [1.0, \"#f0f921\"]]}, \"colorway\": [\"#636efa\", \"#EF553B\", \"#00cc96\", \"#ab63fa\", \"#FFA15A\", \"#19d3f3\", \"#FF6692\", \"#B6E880\", \"#FF97FF\", \"#FECB52\"], \"font\": {\"color\": \"#2a3f5f\"}, \"geo\": {\"bgcolor\": \"white\", \"lakecolor\": \"white\", \"landcolor\": \"#E5ECF6\", \"showlakes\": true, \"showland\": true, \"subunitcolor\": \"white\"}, \"hoverlabel\": {\"align\": \"left\"}, \"hovermode\": \"closest\", \"mapbox\": {\"style\": \"light\"}, \"paper_bgcolor\": \"white\", \"plot_bgcolor\": \"#E5ECF6\", \"polar\": {\"angularaxis\": {\"gridcolor\": \"white\", \"linecolor\": \"white\", \"ticks\": \"\"}, \"bgcolor\": \"#E5ECF6\", \"radialaxis\": {\"gridcolor\": \"white\", \"linecolor\": \"white\", \"ticks\": \"\"}}, \"scene\": {\"xaxis\": {\"backgroundcolor\": \"#E5ECF6\", \"gridcolor\": \"white\", \"gridwidth\": 2, \"linecolor\": \"white\", \"showbackground\": true, \"ticks\": \"\", \"zerolinecolor\": \"white\"}, \"yaxis\": {\"backgroundcolor\": \"#E5ECF6\", \"gridcolor\": \"white\", \"gridwidth\": 2, \"linecolor\": \"white\", \"showbackground\": true, \"ticks\": \"\", \"zerolinecolor\": \"white\"}, \"zaxis\": {\"backgroundcolor\": \"#E5ECF6\", \"gridcolor\": \"white\", \"gridwidth\": 2, \"linecolor\": \"white\", \"showbackground\": true, \"ticks\": \"\", \"zerolinecolor\": \"white\"}}, \"shapedefaults\": {\"line\": {\"color\": \"#2a3f5f\"}}, \"ternary\": {\"aaxis\": {\"gridcolor\": \"white\", \"linecolor\": \"white\", \"ticks\": \"\"}, \"baxis\": {\"gridcolor\": \"white\", \"linecolor\": \"white\", \"ticks\": \"\"}, \"bgcolor\": \"#E5ECF6\", \"caxis\": {\"gridcolor\": \"white\", \"linecolor\": \"white\", \"ticks\": \"\"}}, \"title\": {\"x\": 0.05}, \"xaxis\": {\"automargin\": true, \"gridcolor\": \"white\", \"linecolor\": \"white\", \"ticks\": \"\", \"title\": {\"standoff\": 15}, \"zerolinecolor\": \"white\", \"zerolinewidth\": 2}, \"yaxis\": {\"automargin\": true, \"gridcolor\": \"white\", \"linecolor\": \"white\", \"ticks\": \"\", \"title\": {\"standoff\": 15}, \"zerolinecolor\": \"white\", \"zerolinewidth\": 2}}}},\n",
              "                        {\"responsive\": true}\n",
              "                    ).then(function(){\n",
              "                            \n",
              "var gd = document.getElementById('e4e2695f-142b-499a-9c21-95ac1cfe4b61');\n",
              "var x = new MutationObserver(function (mutations, observer) {{\n",
              "        var display = window.getComputedStyle(gd).display;\n",
              "        if (!display || display === 'none') {{\n",
              "            console.log([gd, 'removed!']);\n",
              "            Plotly.purge(gd);\n",
              "            observer.disconnect();\n",
              "        }}\n",
              "}});\n",
              "\n",
              "// Listen for the removal of the full notebook cells\n",
              "var notebookContainer = gd.closest('#notebook-container');\n",
              "if (notebookContainer) {{\n",
              "    x.observe(notebookContainer, {childList: true});\n",
              "}}\n",
              "\n",
              "// Listen for the clearing of the current output cell\n",
              "var outputEl = gd.closest('.output');\n",
              "if (outputEl) {{\n",
              "    x.observe(outputEl, {childList: true});\n",
              "}}\n",
              "\n",
              "                        })\n",
              "                };\n",
              "                });\n",
              "            </script>\n",
              "        </div>"
            ],
            "application/vnd.plotly.v1+json": {
              "data": [
                {
                  "y": [
                    [
                      -2,
                      -1.8620689655172413,
                      -1.7241379310344827,
                      -1.5862068965517242,
                      -1.4482758620689655,
                      -1.3103448275862069,
                      -1.1724137931034484,
                      -1.0344827586206897,
                      -0.896551724137931,
                      -0.7586206896551724,
                      -0.6206896551724137,
                      -0.48275862068965525,
                      -0.3448275862068966,
                      -0.2068965517241379,
                      -0.06896551724137945,
                      0.06896551724137945,
                      0.2068965517241379,
                      0.34482758620689635,
                      0.48275862068965525,
                      0.6206896551724137,
                      0.7586206896551726,
                      0.896551724137931,
                      1.0344827586206895,
                      1.1724137931034484,
                      1.3103448275862069,
                      1.4482758620689653,
                      1.5862068965517242,
                      1.7241379310344827,
                      1.862068965517241,
                      2
                    ],
                    [
                      -2,
                      -1.8620689655172413,
                      -1.7241379310344827,
                      -1.5862068965517242,
                      -1.4482758620689655,
                      -1.3103448275862069,
                      -1.1724137931034484,
                      -1.0344827586206897,
                      -0.896551724137931,
                      -0.7586206896551724,
                      -0.6206896551724137,
                      -0.48275862068965525,
                      -0.3448275862068966,
                      -0.2068965517241379,
                      -0.06896551724137945,
                      0.06896551724137945,
                      0.2068965517241379,
                      0.34482758620689635,
                      0.48275862068965525,
                      0.6206896551724137,
                      0.7586206896551726,
                      0.896551724137931,
                      1.0344827586206895,
                      1.1724137931034484,
                      1.3103448275862069,
                      1.4482758620689653,
                      1.5862068965517242,
                      1.7241379310344827,
                      1.862068965517241,
                      2
                    ],
                    [
                      -2,
                      -1.8620689655172413,
                      -1.7241379310344827,
                      -1.5862068965517242,
                      -1.4482758620689655,
                      -1.3103448275862069,
                      -1.1724137931034484,
                      -1.0344827586206897,
                      -0.896551724137931,
                      -0.7586206896551724,
                      -0.6206896551724137,
                      -0.48275862068965525,
                      -0.3448275862068966,
                      -0.2068965517241379,
                      -0.06896551724137945,
                      0.06896551724137945,
                      0.2068965517241379,
                      0.34482758620689635,
                      0.48275862068965525,
                      0.6206896551724137,
                      0.7586206896551726,
                      0.896551724137931,
                      1.0344827586206895,
                      1.1724137931034484,
                      1.3103448275862069,
                      1.4482758620689653,
                      1.5862068965517242,
                      1.7241379310344827,
                      1.862068965517241,
                      2
                    ],
                    [
                      -2,
                      -1.8620689655172413,
                      -1.7241379310344827,
                      -1.5862068965517242,
                      -1.4482758620689655,
                      -1.3103448275862069,
                      -1.1724137931034484,
                      -1.0344827586206897,
                      -0.896551724137931,
                      -0.7586206896551724,
                      -0.6206896551724137,
                      -0.48275862068965525,
                      -0.3448275862068966,
                      -0.2068965517241379,
                      -0.06896551724137945,
                      0.06896551724137945,
                      0.2068965517241379,
                      0.34482758620689635,
                      0.48275862068965525,
                      0.6206896551724137,
                      0.7586206896551726,
                      0.896551724137931,
                      1.0344827586206895,
                      1.1724137931034484,
                      1.3103448275862069,
                      1.4482758620689653,
                      1.5862068965517242,
                      1.7241379310344827,
                      1.862068965517241,
                      2
                    ],
                    [
                      -2,
                      -1.8620689655172413,
                      -1.7241379310344827,
                      -1.5862068965517242,
                      -1.4482758620689655,
                      -1.3103448275862069,
                      -1.1724137931034484,
                      -1.0344827586206897,
                      -0.896551724137931,
                      -0.7586206896551724,
                      -0.6206896551724137,
                      -0.48275862068965525,
                      -0.3448275862068966,
                      -0.2068965517241379,
                      -0.06896551724137945,
                      0.06896551724137945,
                      0.2068965517241379,
                      0.34482758620689635,
                      0.48275862068965525,
                      0.6206896551724137,
                      0.7586206896551726,
                      0.896551724137931,
                      1.0344827586206895,
                      1.1724137931034484,
                      1.3103448275862069,
                      1.4482758620689653,
                      1.5862068965517242,
                      1.7241379310344827,
                      1.862068965517241,
                      2
                    ],
                    [
                      -2,
                      -1.8620689655172413,
                      -1.7241379310344827,
                      -1.5862068965517242,
                      -1.4482758620689655,
                      -1.3103448275862069,
                      -1.1724137931034484,
                      -1.0344827586206897,
                      -0.896551724137931,
                      -0.7586206896551724,
                      -0.6206896551724137,
                      -0.48275862068965525,
                      -0.3448275862068966,
                      -0.2068965517241379,
                      -0.06896551724137945,
                      0.06896551724137945,
                      0.2068965517241379,
                      0.34482758620689635,
                      0.48275862068965525,
                      0.6206896551724137,
                      0.7586206896551726,
                      0.896551724137931,
                      1.0344827586206895,
                      1.1724137931034484,
                      1.3103448275862069,
                      1.4482758620689653,
                      1.5862068965517242,
                      1.7241379310344827,
                      1.862068965517241,
                      2
                    ],
                    [
                      -2,
                      -1.8620689655172413,
                      -1.7241379310344827,
                      -1.5862068965517242,
                      -1.4482758620689655,
                      -1.3103448275862069,
                      -1.1724137931034484,
                      -1.0344827586206897,
                      -0.896551724137931,
                      -0.7586206896551724,
                      -0.6206896551724137,
                      -0.48275862068965525,
                      -0.3448275862068966,
                      -0.2068965517241379,
                      -0.06896551724137945,
                      0.06896551724137945,
                      0.2068965517241379,
                      0.34482758620689635,
                      0.48275862068965525,
                      0.6206896551724137,
                      0.7586206896551726,
                      0.896551724137931,
                      1.0344827586206895,
                      1.1724137931034484,
                      1.3103448275862069,
                      1.4482758620689653,
                      1.5862068965517242,
                      1.7241379310344827,
                      1.862068965517241,
                      2
                    ],
                    [
                      -2,
                      -1.8620689655172413,
                      -1.7241379310344827,
                      -1.5862068965517242,
                      -1.4482758620689655,
                      -1.3103448275862069,
                      -1.1724137931034484,
                      -1.0344827586206897,
                      -0.896551724137931,
                      -0.7586206896551724,
                      -0.6206896551724137,
                      -0.48275862068965525,
                      -0.3448275862068966,
                      -0.2068965517241379,
                      -0.06896551724137945,
                      0.06896551724137945,
                      0.2068965517241379,
                      0.34482758620689635,
                      0.48275862068965525,
                      0.6206896551724137,
                      0.7586206896551726,
                      0.896551724137931,
                      1.0344827586206895,
                      1.1724137931034484,
                      1.3103448275862069,
                      1.4482758620689653,
                      1.5862068965517242,
                      1.7241379310344827,
                      1.862068965517241,
                      2
                    ],
                    [
                      -2,
                      -1.8620689655172413,
                      -1.7241379310344827,
                      -1.5862068965517242,
                      -1.4482758620689655,
                      -1.3103448275862069,
                      -1.1724137931034484,
                      -1.0344827586206897,
                      -0.896551724137931,
                      -0.7586206896551724,
                      -0.6206896551724137,
                      -0.48275862068965525,
                      -0.3448275862068966,
                      -0.2068965517241379,
                      -0.06896551724137945,
                      0.06896551724137945,
                      0.2068965517241379,
                      0.34482758620689635,
                      0.48275862068965525,
                      0.6206896551724137,
                      0.7586206896551726,
                      0.896551724137931,
                      1.0344827586206895,
                      1.1724137931034484,
                      1.3103448275862069,
                      1.4482758620689653,
                      1.5862068965517242,
                      1.7241379310344827,
                      1.862068965517241,
                      2
                    ],
                    [
                      -2,
                      -1.8620689655172413,
                      -1.7241379310344827,
                      -1.5862068965517242,
                      -1.4482758620689655,
                      -1.3103448275862069,
                      -1.1724137931034484,
                      -1.0344827586206897,
                      -0.896551724137931,
                      -0.7586206896551724,
                      -0.6206896551724137,
                      -0.48275862068965525,
                      -0.3448275862068966,
                      -0.2068965517241379,
                      -0.06896551724137945,
                      0.06896551724137945,
                      0.2068965517241379,
                      0.34482758620689635,
                      0.48275862068965525,
                      0.6206896551724137,
                      0.7586206896551726,
                      0.896551724137931,
                      1.0344827586206895,
                      1.1724137931034484,
                      1.3103448275862069,
                      1.4482758620689653,
                      1.5862068965517242,
                      1.7241379310344827,
                      1.862068965517241,
                      2
                    ],
                    [
                      -2,
                      -1.8620689655172413,
                      -1.7241379310344827,
                      -1.5862068965517242,
                      -1.4482758620689655,
                      -1.3103448275862069,
                      -1.1724137931034484,
                      -1.0344827586206897,
                      -0.896551724137931,
                      -0.7586206896551724,
                      -0.6206896551724137,
                      -0.48275862068965525,
                      -0.3448275862068966,
                      -0.2068965517241379,
                      -0.06896551724137945,
                      0.06896551724137945,
                      0.2068965517241379,
                      0.34482758620689635,
                      0.48275862068965525,
                      0.6206896551724137,
                      0.7586206896551726,
                      0.896551724137931,
                      1.0344827586206895,
                      1.1724137931034484,
                      1.3103448275862069,
                      1.4482758620689653,
                      1.5862068965517242,
                      1.7241379310344827,
                      1.862068965517241,
                      2
                    ],
                    [
                      -2,
                      -1.8620689655172413,
                      -1.7241379310344827,
                      -1.5862068965517242,
                      -1.4482758620689655,
                      -1.3103448275862069,
                      -1.1724137931034484,
                      -1.0344827586206897,
                      -0.896551724137931,
                      -0.7586206896551724,
                      -0.6206896551724137,
                      -0.48275862068965525,
                      -0.3448275862068966,
                      -0.2068965517241379,
                      -0.06896551724137945,
                      0.06896551724137945,
                      0.2068965517241379,
                      0.34482758620689635,
                      0.48275862068965525,
                      0.6206896551724137,
                      0.7586206896551726,
                      0.896551724137931,
                      1.0344827586206895,
                      1.1724137931034484,
                      1.3103448275862069,
                      1.4482758620689653,
                      1.5862068965517242,
                      1.7241379310344827,
                      1.862068965517241,
                      2
                    ],
                    [
                      -2,
                      -1.8620689655172413,
                      -1.7241379310344827,
                      -1.5862068965517242,
                      -1.4482758620689655,
                      -1.3103448275862069,
                      -1.1724137931034484,
                      -1.0344827586206897,
                      -0.896551724137931,
                      -0.7586206896551724,
                      -0.6206896551724137,
                      -0.48275862068965525,
                      -0.3448275862068966,
                      -0.2068965517241379,
                      -0.06896551724137945,
                      0.06896551724137945,
                      0.2068965517241379,
                      0.34482758620689635,
                      0.48275862068965525,
                      0.6206896551724137,
                      0.7586206896551726,
                      0.896551724137931,
                      1.0344827586206895,
                      1.1724137931034484,
                      1.3103448275862069,
                      1.4482758620689653,
                      1.5862068965517242,
                      1.7241379310344827,
                      1.862068965517241,
                      2
                    ],
                    [
                      -2,
                      -1.8620689655172413,
                      -1.7241379310344827,
                      -1.5862068965517242,
                      -1.4482758620689655,
                      -1.3103448275862069,
                      -1.1724137931034484,
                      -1.0344827586206897,
                      -0.896551724137931,
                      -0.7586206896551724,
                      -0.6206896551724137,
                      -0.48275862068965525,
                      -0.3448275862068966,
                      -0.2068965517241379,
                      -0.06896551724137945,
                      0.06896551724137945,
                      0.2068965517241379,
                      0.34482758620689635,
                      0.48275862068965525,
                      0.6206896551724137,
                      0.7586206896551726,
                      0.896551724137931,
                      1.0344827586206895,
                      1.1724137931034484,
                      1.3103448275862069,
                      1.4482758620689653,
                      1.5862068965517242,
                      1.7241379310344827,
                      1.862068965517241,
                      2
                    ],
                    [
                      -2,
                      -1.8620689655172413,
                      -1.7241379310344827,
                      -1.5862068965517242,
                      -1.4482758620689655,
                      -1.3103448275862069,
                      -1.1724137931034484,
                      -1.0344827586206897,
                      -0.896551724137931,
                      -0.7586206896551724,
                      -0.6206896551724137,
                      -0.48275862068965525,
                      -0.3448275862068966,
                      -0.2068965517241379,
                      -0.06896551724137945,
                      0.06896551724137945,
                      0.2068965517241379,
                      0.34482758620689635,
                      0.48275862068965525,
                      0.6206896551724137,
                      0.7586206896551726,
                      0.896551724137931,
                      1.0344827586206895,
                      1.1724137931034484,
                      1.3103448275862069,
                      1.4482758620689653,
                      1.5862068965517242,
                      1.7241379310344827,
                      1.862068965517241,
                      2
                    ],
                    [
                      -2,
                      -1.8620689655172413,
                      -1.7241379310344827,
                      -1.5862068965517242,
                      -1.4482758620689655,
                      -1.3103448275862069,
                      -1.1724137931034484,
                      -1.0344827586206897,
                      -0.896551724137931,
                      -0.7586206896551724,
                      -0.6206896551724137,
                      -0.48275862068965525,
                      -0.3448275862068966,
                      -0.2068965517241379,
                      -0.06896551724137945,
                      0.06896551724137945,
                      0.2068965517241379,
                      0.34482758620689635,
                      0.48275862068965525,
                      0.6206896551724137,
                      0.7586206896551726,
                      0.896551724137931,
                      1.0344827586206895,
                      1.1724137931034484,
                      1.3103448275862069,
                      1.4482758620689653,
                      1.5862068965517242,
                      1.7241379310344827,
                      1.862068965517241,
                      2
                    ],
                    [
                      -2,
                      -1.8620689655172413,
                      -1.7241379310344827,
                      -1.5862068965517242,
                      -1.4482758620689655,
                      -1.3103448275862069,
                      -1.1724137931034484,
                      -1.0344827586206897,
                      -0.896551724137931,
                      -0.7586206896551724,
                      -0.6206896551724137,
                      -0.48275862068965525,
                      -0.3448275862068966,
                      -0.2068965517241379,
                      -0.06896551724137945,
                      0.06896551724137945,
                      0.2068965517241379,
                      0.34482758620689635,
                      0.48275862068965525,
                      0.6206896551724137,
                      0.7586206896551726,
                      0.896551724137931,
                      1.0344827586206895,
                      1.1724137931034484,
                      1.3103448275862069,
                      1.4482758620689653,
                      1.5862068965517242,
                      1.7241379310344827,
                      1.862068965517241,
                      2
                    ],
                    [
                      -2,
                      -1.8620689655172413,
                      -1.7241379310344827,
                      -1.5862068965517242,
                      -1.4482758620689655,
                      -1.3103448275862069,
                      -1.1724137931034484,
                      -1.0344827586206897,
                      -0.896551724137931,
                      -0.7586206896551724,
                      -0.6206896551724137,
                      -0.48275862068965525,
                      -0.3448275862068966,
                      -0.2068965517241379,
                      -0.06896551724137945,
                      0.06896551724137945,
                      0.2068965517241379,
                      0.34482758620689635,
                      0.48275862068965525,
                      0.6206896551724137,
                      0.7586206896551726,
                      0.896551724137931,
                      1.0344827586206895,
                      1.1724137931034484,
                      1.3103448275862069,
                      1.4482758620689653,
                      1.5862068965517242,
                      1.7241379310344827,
                      1.862068965517241,
                      2
                    ],
                    [
                      -2,
                      -1.8620689655172413,
                      -1.7241379310344827,
                      -1.5862068965517242,
                      -1.4482758620689655,
                      -1.3103448275862069,
                      -1.1724137931034484,
                      -1.0344827586206897,
                      -0.896551724137931,
                      -0.7586206896551724,
                      -0.6206896551724137,
                      -0.48275862068965525,
                      -0.3448275862068966,
                      -0.2068965517241379,
                      -0.06896551724137945,
                      0.06896551724137945,
                      0.2068965517241379,
                      0.34482758620689635,
                      0.48275862068965525,
                      0.6206896551724137,
                      0.7586206896551726,
                      0.896551724137931,
                      1.0344827586206895,
                      1.1724137931034484,
                      1.3103448275862069,
                      1.4482758620689653,
                      1.5862068965517242,
                      1.7241379310344827,
                      1.862068965517241,
                      2
                    ],
                    [
                      -2,
                      -1.8620689655172413,
                      -1.7241379310344827,
                      -1.5862068965517242,
                      -1.4482758620689655,
                      -1.3103448275862069,
                      -1.1724137931034484,
                      -1.0344827586206897,
                      -0.896551724137931,
                      -0.7586206896551724,
                      -0.6206896551724137,
                      -0.48275862068965525,
                      -0.3448275862068966,
                      -0.2068965517241379,
                      -0.06896551724137945,
                      0.06896551724137945,
                      0.2068965517241379,
                      0.34482758620689635,
                      0.48275862068965525,
                      0.6206896551724137,
                      0.7586206896551726,
                      0.896551724137931,
                      1.0344827586206895,
                      1.1724137931034484,
                      1.3103448275862069,
                      1.4482758620689653,
                      1.5862068965517242,
                      1.7241379310344827,
                      1.862068965517241,
                      2
                    ],
                    [
                      -2,
                      -1.8620689655172413,
                      -1.7241379310344827,
                      -1.5862068965517242,
                      -1.4482758620689655,
                      -1.3103448275862069,
                      -1.1724137931034484,
                      -1.0344827586206897,
                      -0.896551724137931,
                      -0.7586206896551724,
                      -0.6206896551724137,
                      -0.48275862068965525,
                      -0.3448275862068966,
                      -0.2068965517241379,
                      -0.06896551724137945,
                      0.06896551724137945,
                      0.2068965517241379,
                      0.34482758620689635,
                      0.48275862068965525,
                      0.6206896551724137,
                      0.7586206896551726,
                      0.896551724137931,
                      1.0344827586206895,
                      1.1724137931034484,
                      1.3103448275862069,
                      1.4482758620689653,
                      1.5862068965517242,
                      1.7241379310344827,
                      1.862068965517241,
                      2
                    ],
                    [
                      -2,
                      -1.8620689655172413,
                      -1.7241379310344827,
                      -1.5862068965517242,
                      -1.4482758620689655,
                      -1.3103448275862069,
                      -1.1724137931034484,
                      -1.0344827586206897,
                      -0.896551724137931,
                      -0.7586206896551724,
                      -0.6206896551724137,
                      -0.48275862068965525,
                      -0.3448275862068966,
                      -0.2068965517241379,
                      -0.06896551724137945,
                      0.06896551724137945,
                      0.2068965517241379,
                      0.34482758620689635,
                      0.48275862068965525,
                      0.6206896551724137,
                      0.7586206896551726,
                      0.896551724137931,
                      1.0344827586206895,
                      1.1724137931034484,
                      1.3103448275862069,
                      1.4482758620689653,
                      1.5862068965517242,
                      1.7241379310344827,
                      1.862068965517241,
                      2
                    ],
                    [
                      -2,
                      -1.8620689655172413,
                      -1.7241379310344827,
                      -1.5862068965517242,
                      -1.4482758620689655,
                      -1.3103448275862069,
                      -1.1724137931034484,
                      -1.0344827586206897,
                      -0.896551724137931,
                      -0.7586206896551724,
                      -0.6206896551724137,
                      -0.48275862068965525,
                      -0.3448275862068966,
                      -0.2068965517241379,
                      -0.06896551724137945,
                      0.06896551724137945,
                      0.2068965517241379,
                      0.34482758620689635,
                      0.48275862068965525,
                      0.6206896551724137,
                      0.7586206896551726,
                      0.896551724137931,
                      1.0344827586206895,
                      1.1724137931034484,
                      1.3103448275862069,
                      1.4482758620689653,
                      1.5862068965517242,
                      1.7241379310344827,
                      1.862068965517241,
                      2
                    ],
                    [
                      -2,
                      -1.8620689655172413,
                      -1.7241379310344827,
                      -1.5862068965517242,
                      -1.4482758620689655,
                      -1.3103448275862069,
                      -1.1724137931034484,
                      -1.0344827586206897,
                      -0.896551724137931,
                      -0.7586206896551724,
                      -0.6206896551724137,
                      -0.48275862068965525,
                      -0.3448275862068966,
                      -0.2068965517241379,
                      -0.06896551724137945,
                      0.06896551724137945,
                      0.2068965517241379,
                      0.34482758620689635,
                      0.48275862068965525,
                      0.6206896551724137,
                      0.7586206896551726,
                      0.896551724137931,
                      1.0344827586206895,
                      1.1724137931034484,
                      1.3103448275862069,
                      1.4482758620689653,
                      1.5862068965517242,
                      1.7241379310344827,
                      1.862068965517241,
                      2
                    ],
                    [
                      -2,
                      -1.8620689655172413,
                      -1.7241379310344827,
                      -1.5862068965517242,
                      -1.4482758620689655,
                      -1.3103448275862069,
                      -1.1724137931034484,
                      -1.0344827586206897,
                      -0.896551724137931,
                      -0.7586206896551724,
                      -0.6206896551724137,
                      -0.48275862068965525,
                      -0.3448275862068966,
                      -0.2068965517241379,
                      -0.06896551724137945,
                      0.06896551724137945,
                      0.2068965517241379,
                      0.34482758620689635,
                      0.48275862068965525,
                      0.6206896551724137,
                      0.7586206896551726,
                      0.896551724137931,
                      1.0344827586206895,
                      1.1724137931034484,
                      1.3103448275862069,
                      1.4482758620689653,
                      1.5862068965517242,
                      1.7241379310344827,
                      1.862068965517241,
                      2
                    ],
                    [
                      -2,
                      -1.8620689655172413,
                      -1.7241379310344827,
                      -1.5862068965517242,
                      -1.4482758620689655,
                      -1.3103448275862069,
                      -1.1724137931034484,
                      -1.0344827586206897,
                      -0.896551724137931,
                      -0.7586206896551724,
                      -0.6206896551724137,
                      -0.48275862068965525,
                      -0.3448275862068966,
                      -0.2068965517241379,
                      -0.06896551724137945,
                      0.06896551724137945,
                      0.2068965517241379,
                      0.34482758620689635,
                      0.48275862068965525,
                      0.6206896551724137,
                      0.7586206896551726,
                      0.896551724137931,
                      1.0344827586206895,
                      1.1724137931034484,
                      1.3103448275862069,
                      1.4482758620689653,
                      1.5862068965517242,
                      1.7241379310344827,
                      1.862068965517241,
                      2
                    ],
                    [
                      -2,
                      -1.8620689655172413,
                      -1.7241379310344827,
                      -1.5862068965517242,
                      -1.4482758620689655,
                      -1.3103448275862069,
                      -1.1724137931034484,
                      -1.0344827586206897,
                      -0.896551724137931,
                      -0.7586206896551724,
                      -0.6206896551724137,
                      -0.48275862068965525,
                      -0.3448275862068966,
                      -0.2068965517241379,
                      -0.06896551724137945,
                      0.06896551724137945,
                      0.2068965517241379,
                      0.34482758620689635,
                      0.48275862068965525,
                      0.6206896551724137,
                      0.7586206896551726,
                      0.896551724137931,
                      1.0344827586206895,
                      1.1724137931034484,
                      1.3103448275862069,
                      1.4482758620689653,
                      1.5862068965517242,
                      1.7241379310344827,
                      1.862068965517241,
                      2
                    ],
                    [
                      -2,
                      -1.8620689655172413,
                      -1.7241379310344827,
                      -1.5862068965517242,
                      -1.4482758620689655,
                      -1.3103448275862069,
                      -1.1724137931034484,
                      -1.0344827586206897,
                      -0.896551724137931,
                      -0.7586206896551724,
                      -0.6206896551724137,
                      -0.48275862068965525,
                      -0.3448275862068966,
                      -0.2068965517241379,
                      -0.06896551724137945,
                      0.06896551724137945,
                      0.2068965517241379,
                      0.34482758620689635,
                      0.48275862068965525,
                      0.6206896551724137,
                      0.7586206896551726,
                      0.896551724137931,
                      1.0344827586206895,
                      1.1724137931034484,
                      1.3103448275862069,
                      1.4482758620689653,
                      1.5862068965517242,
                      1.7241379310344827,
                      1.862068965517241,
                      2
                    ],
                    [
                      -2,
                      -1.8620689655172413,
                      -1.7241379310344827,
                      -1.5862068965517242,
                      -1.4482758620689655,
                      -1.3103448275862069,
                      -1.1724137931034484,
                      -1.0344827586206897,
                      -0.896551724137931,
                      -0.7586206896551724,
                      -0.6206896551724137,
                      -0.48275862068965525,
                      -0.3448275862068966,
                      -0.2068965517241379,
                      -0.06896551724137945,
                      0.06896551724137945,
                      0.2068965517241379,
                      0.34482758620689635,
                      0.48275862068965525,
                      0.6206896551724137,
                      0.7586206896551726,
                      0.896551724137931,
                      1.0344827586206895,
                      1.1724137931034484,
                      1.3103448275862069,
                      1.4482758620689653,
                      1.5862068965517242,
                      1.7241379310344827,
                      1.862068965517241,
                      2
                    ],
                    [
                      -2,
                      -1.8620689655172413,
                      -1.7241379310344827,
                      -1.5862068965517242,
                      -1.4482758620689655,
                      -1.3103448275862069,
                      -1.1724137931034484,
                      -1.0344827586206897,
                      -0.896551724137931,
                      -0.7586206896551724,
                      -0.6206896551724137,
                      -0.48275862068965525,
                      -0.3448275862068966,
                      -0.2068965517241379,
                      -0.06896551724137945,
                      0.06896551724137945,
                      0.2068965517241379,
                      0.34482758620689635,
                      0.48275862068965525,
                      0.6206896551724137,
                      0.7586206896551726,
                      0.896551724137931,
                      1.0344827586206895,
                      1.1724137931034484,
                      1.3103448275862069,
                      1.4482758620689653,
                      1.5862068965517242,
                      1.7241379310344827,
                      1.862068965517241,
                      2
                    ]
                  ],
                  "x": [
                    [
                      -2,
                      -2,
                      -2,
                      -2,
                      -2,
                      -2,
                      -2,
                      -2,
                      -2,
                      -2,
                      -2,
                      -2,
                      -2,
                      -2,
                      -2,
                      -2,
                      -2,
                      -2,
                      -2,
                      -2,
                      -2,
                      -2,
                      -2,
                      -2,
                      -2,
                      -2,
                      -2,
                      -2,
                      -2,
                      -2
                    ],
                    [
                      -1.8620689655172413,
                      -1.8620689655172413,
                      -1.8620689655172413,
                      -1.8620689655172413,
                      -1.8620689655172413,
                      -1.8620689655172413,
                      -1.8620689655172413,
                      -1.8620689655172413,
                      -1.8620689655172413,
                      -1.8620689655172413,
                      -1.8620689655172413,
                      -1.8620689655172413,
                      -1.8620689655172413,
                      -1.8620689655172413,
                      -1.8620689655172413,
                      -1.8620689655172413,
                      -1.8620689655172413,
                      -1.8620689655172413,
                      -1.8620689655172413,
                      -1.8620689655172413,
                      -1.8620689655172413,
                      -1.8620689655172413,
                      -1.8620689655172413,
                      -1.8620689655172413,
                      -1.8620689655172413,
                      -1.8620689655172413,
                      -1.8620689655172413,
                      -1.8620689655172413,
                      -1.8620689655172413,
                      -1.8620689655172413
                    ],
                    [
                      -1.7241379310344827,
                      -1.7241379310344827,
                      -1.7241379310344827,
                      -1.7241379310344827,
                      -1.7241379310344827,
                      -1.7241379310344827,
                      -1.7241379310344827,
                      -1.7241379310344827,
                      -1.7241379310344827,
                      -1.7241379310344827,
                      -1.7241379310344827,
                      -1.7241379310344827,
                      -1.7241379310344827,
                      -1.7241379310344827,
                      -1.7241379310344827,
                      -1.7241379310344827,
                      -1.7241379310344827,
                      -1.7241379310344827,
                      -1.7241379310344827,
                      -1.7241379310344827,
                      -1.7241379310344827,
                      -1.7241379310344827,
                      -1.7241379310344827,
                      -1.7241379310344827,
                      -1.7241379310344827,
                      -1.7241379310344827,
                      -1.7241379310344827,
                      -1.7241379310344827,
                      -1.7241379310344827,
                      -1.7241379310344827
                    ],
                    [
                      -1.5862068965517242,
                      -1.5862068965517242,
                      -1.5862068965517242,
                      -1.5862068965517242,
                      -1.5862068965517242,
                      -1.5862068965517242,
                      -1.5862068965517242,
                      -1.5862068965517242,
                      -1.5862068965517242,
                      -1.5862068965517242,
                      -1.5862068965517242,
                      -1.5862068965517242,
                      -1.5862068965517242,
                      -1.5862068965517242,
                      -1.5862068965517242,
                      -1.5862068965517242,
                      -1.5862068965517242,
                      -1.5862068965517242,
                      -1.5862068965517242,
                      -1.5862068965517242,
                      -1.5862068965517242,
                      -1.5862068965517242,
                      -1.5862068965517242,
                      -1.5862068965517242,
                      -1.5862068965517242,
                      -1.5862068965517242,
                      -1.5862068965517242,
                      -1.5862068965517242,
                      -1.5862068965517242,
                      -1.5862068965517242
                    ],
                    [
                      -1.4482758620689655,
                      -1.4482758620689655,
                      -1.4482758620689655,
                      -1.4482758620689655,
                      -1.4482758620689655,
                      -1.4482758620689655,
                      -1.4482758620689655,
                      -1.4482758620689655,
                      -1.4482758620689655,
                      -1.4482758620689655,
                      -1.4482758620689655,
                      -1.4482758620689655,
                      -1.4482758620689655,
                      -1.4482758620689655,
                      -1.4482758620689655,
                      -1.4482758620689655,
                      -1.4482758620689655,
                      -1.4482758620689655,
                      -1.4482758620689655,
                      -1.4482758620689655,
                      -1.4482758620689655,
                      -1.4482758620689655,
                      -1.4482758620689655,
                      -1.4482758620689655,
                      -1.4482758620689655,
                      -1.4482758620689655,
                      -1.4482758620689655,
                      -1.4482758620689655,
                      -1.4482758620689655,
                      -1.4482758620689655
                    ],
                    [
                      -1.3103448275862069,
                      -1.3103448275862069,
                      -1.3103448275862069,
                      -1.3103448275862069,
                      -1.3103448275862069,
                      -1.3103448275862069,
                      -1.3103448275862069,
                      -1.3103448275862069,
                      -1.3103448275862069,
                      -1.3103448275862069,
                      -1.3103448275862069,
                      -1.3103448275862069,
                      -1.3103448275862069,
                      -1.3103448275862069,
                      -1.3103448275862069,
                      -1.3103448275862069,
                      -1.3103448275862069,
                      -1.3103448275862069,
                      -1.3103448275862069,
                      -1.3103448275862069,
                      -1.3103448275862069,
                      -1.3103448275862069,
                      -1.3103448275862069,
                      -1.3103448275862069,
                      -1.3103448275862069,
                      -1.3103448275862069,
                      -1.3103448275862069,
                      -1.3103448275862069,
                      -1.3103448275862069,
                      -1.3103448275862069
                    ],
                    [
                      -1.1724137931034484,
                      -1.1724137931034484,
                      -1.1724137931034484,
                      -1.1724137931034484,
                      -1.1724137931034484,
                      -1.1724137931034484,
                      -1.1724137931034484,
                      -1.1724137931034484,
                      -1.1724137931034484,
                      -1.1724137931034484,
                      -1.1724137931034484,
                      -1.1724137931034484,
                      -1.1724137931034484,
                      -1.1724137931034484,
                      -1.1724137931034484,
                      -1.1724137931034484,
                      -1.1724137931034484,
                      -1.1724137931034484,
                      -1.1724137931034484,
                      -1.1724137931034484,
                      -1.1724137931034484,
                      -1.1724137931034484,
                      -1.1724137931034484,
                      -1.1724137931034484,
                      -1.1724137931034484,
                      -1.1724137931034484,
                      -1.1724137931034484,
                      -1.1724137931034484,
                      -1.1724137931034484,
                      -1.1724137931034484
                    ],
                    [
                      -1.0344827586206897,
                      -1.0344827586206897,
                      -1.0344827586206897,
                      -1.0344827586206897,
                      -1.0344827586206897,
                      -1.0344827586206897,
                      -1.0344827586206897,
                      -1.0344827586206897,
                      -1.0344827586206897,
                      -1.0344827586206897,
                      -1.0344827586206897,
                      -1.0344827586206897,
                      -1.0344827586206897,
                      -1.0344827586206897,
                      -1.0344827586206897,
                      -1.0344827586206897,
                      -1.0344827586206897,
                      -1.0344827586206897,
                      -1.0344827586206897,
                      -1.0344827586206897,
                      -1.0344827586206897,
                      -1.0344827586206897,
                      -1.0344827586206897,
                      -1.0344827586206897,
                      -1.0344827586206897,
                      -1.0344827586206897,
                      -1.0344827586206897,
                      -1.0344827586206897,
                      -1.0344827586206897,
                      -1.0344827586206897
                    ],
                    [
                      -0.896551724137931,
                      -0.896551724137931,
                      -0.896551724137931,
                      -0.896551724137931,
                      -0.896551724137931,
                      -0.896551724137931,
                      -0.896551724137931,
                      -0.896551724137931,
                      -0.896551724137931,
                      -0.896551724137931,
                      -0.896551724137931,
                      -0.896551724137931,
                      -0.896551724137931,
                      -0.896551724137931,
                      -0.896551724137931,
                      -0.896551724137931,
                      -0.896551724137931,
                      -0.896551724137931,
                      -0.896551724137931,
                      -0.896551724137931,
                      -0.896551724137931,
                      -0.896551724137931,
                      -0.896551724137931,
                      -0.896551724137931,
                      -0.896551724137931,
                      -0.896551724137931,
                      -0.896551724137931,
                      -0.896551724137931,
                      -0.896551724137931,
                      -0.896551724137931
                    ],
                    [
                      -0.7586206896551724,
                      -0.7586206896551724,
                      -0.7586206896551724,
                      -0.7586206896551724,
                      -0.7586206896551724,
                      -0.7586206896551724,
                      -0.7586206896551724,
                      -0.7586206896551724,
                      -0.7586206896551724,
                      -0.7586206896551724,
                      -0.7586206896551724,
                      -0.7586206896551724,
                      -0.7586206896551724,
                      -0.7586206896551724,
                      -0.7586206896551724,
                      -0.7586206896551724,
                      -0.7586206896551724,
                      -0.7586206896551724,
                      -0.7586206896551724,
                      -0.7586206896551724,
                      -0.7586206896551724,
                      -0.7586206896551724,
                      -0.7586206896551724,
                      -0.7586206896551724,
                      -0.7586206896551724,
                      -0.7586206896551724,
                      -0.7586206896551724,
                      -0.7586206896551724,
                      -0.7586206896551724,
                      -0.7586206896551724
                    ],
                    [
                      -0.6206896551724137,
                      -0.6206896551724137,
                      -0.6206896551724137,
                      -0.6206896551724137,
                      -0.6206896551724137,
                      -0.6206896551724137,
                      -0.6206896551724137,
                      -0.6206896551724137,
                      -0.6206896551724137,
                      -0.6206896551724137,
                      -0.6206896551724137,
                      -0.6206896551724137,
                      -0.6206896551724137,
                      -0.6206896551724137,
                      -0.6206896551724137,
                      -0.6206896551724137,
                      -0.6206896551724137,
                      -0.6206896551724137,
                      -0.6206896551724137,
                      -0.6206896551724137,
                      -0.6206896551724137,
                      -0.6206896551724137,
                      -0.6206896551724137,
                      -0.6206896551724137,
                      -0.6206896551724137,
                      -0.6206896551724137,
                      -0.6206896551724137,
                      -0.6206896551724137,
                      -0.6206896551724137,
                      -0.6206896551724137
                    ],
                    [
                      -0.48275862068965525,
                      -0.48275862068965525,
                      -0.48275862068965525,
                      -0.48275862068965525,
                      -0.48275862068965525,
                      -0.48275862068965525,
                      -0.48275862068965525,
                      -0.48275862068965525,
                      -0.48275862068965525,
                      -0.48275862068965525,
                      -0.48275862068965525,
                      -0.48275862068965525,
                      -0.48275862068965525,
                      -0.48275862068965525,
                      -0.48275862068965525,
                      -0.48275862068965525,
                      -0.48275862068965525,
                      -0.48275862068965525,
                      -0.48275862068965525,
                      -0.48275862068965525,
                      -0.48275862068965525,
                      -0.48275862068965525,
                      -0.48275862068965525,
                      -0.48275862068965525,
                      -0.48275862068965525,
                      -0.48275862068965525,
                      -0.48275862068965525,
                      -0.48275862068965525,
                      -0.48275862068965525,
                      -0.48275862068965525
                    ],
                    [
                      -0.3448275862068966,
                      -0.3448275862068966,
                      -0.3448275862068966,
                      -0.3448275862068966,
                      -0.3448275862068966,
                      -0.3448275862068966,
                      -0.3448275862068966,
                      -0.3448275862068966,
                      -0.3448275862068966,
                      -0.3448275862068966,
                      -0.3448275862068966,
                      -0.3448275862068966,
                      -0.3448275862068966,
                      -0.3448275862068966,
                      -0.3448275862068966,
                      -0.3448275862068966,
                      -0.3448275862068966,
                      -0.3448275862068966,
                      -0.3448275862068966,
                      -0.3448275862068966,
                      -0.3448275862068966,
                      -0.3448275862068966,
                      -0.3448275862068966,
                      -0.3448275862068966,
                      -0.3448275862068966,
                      -0.3448275862068966,
                      -0.3448275862068966,
                      -0.3448275862068966,
                      -0.3448275862068966,
                      -0.3448275862068966
                    ],
                    [
                      -0.2068965517241379,
                      -0.2068965517241379,
                      -0.2068965517241379,
                      -0.2068965517241379,
                      -0.2068965517241379,
                      -0.2068965517241379,
                      -0.2068965517241379,
                      -0.2068965517241379,
                      -0.2068965517241379,
                      -0.2068965517241379,
                      -0.2068965517241379,
                      -0.2068965517241379,
                      -0.2068965517241379,
                      -0.2068965517241379,
                      -0.2068965517241379,
                      -0.2068965517241379,
                      -0.2068965517241379,
                      -0.2068965517241379,
                      -0.2068965517241379,
                      -0.2068965517241379,
                      -0.2068965517241379,
                      -0.2068965517241379,
                      -0.2068965517241379,
                      -0.2068965517241379,
                      -0.2068965517241379,
                      -0.2068965517241379,
                      -0.2068965517241379,
                      -0.2068965517241379,
                      -0.2068965517241379,
                      -0.2068965517241379
                    ],
                    [
                      -0.06896551724137945,
                      -0.06896551724137945,
                      -0.06896551724137945,
                      -0.06896551724137945,
                      -0.06896551724137945,
                      -0.06896551724137945,
                      -0.06896551724137945,
                      -0.06896551724137945,
                      -0.06896551724137945,
                      -0.06896551724137945,
                      -0.06896551724137945,
                      -0.06896551724137945,
                      -0.06896551724137945,
                      -0.06896551724137945,
                      -0.06896551724137945,
                      -0.06896551724137945,
                      -0.06896551724137945,
                      -0.06896551724137945,
                      -0.06896551724137945,
                      -0.06896551724137945,
                      -0.06896551724137945,
                      -0.06896551724137945,
                      -0.06896551724137945,
                      -0.06896551724137945,
                      -0.06896551724137945,
                      -0.06896551724137945,
                      -0.06896551724137945,
                      -0.06896551724137945,
                      -0.06896551724137945,
                      -0.06896551724137945
                    ],
                    [
                      0.06896551724137945,
                      0.06896551724137945,
                      0.06896551724137945,
                      0.06896551724137945,
                      0.06896551724137945,
                      0.06896551724137945,
                      0.06896551724137945,
                      0.06896551724137945,
                      0.06896551724137945,
                      0.06896551724137945,
                      0.06896551724137945,
                      0.06896551724137945,
                      0.06896551724137945,
                      0.06896551724137945,
                      0.06896551724137945,
                      0.06896551724137945,
                      0.06896551724137945,
                      0.06896551724137945,
                      0.06896551724137945,
                      0.06896551724137945,
                      0.06896551724137945,
                      0.06896551724137945,
                      0.06896551724137945,
                      0.06896551724137945,
                      0.06896551724137945,
                      0.06896551724137945,
                      0.06896551724137945,
                      0.06896551724137945,
                      0.06896551724137945,
                      0.06896551724137945
                    ],
                    [
                      0.2068965517241379,
                      0.2068965517241379,
                      0.2068965517241379,
                      0.2068965517241379,
                      0.2068965517241379,
                      0.2068965517241379,
                      0.2068965517241379,
                      0.2068965517241379,
                      0.2068965517241379,
                      0.2068965517241379,
                      0.2068965517241379,
                      0.2068965517241379,
                      0.2068965517241379,
                      0.2068965517241379,
                      0.2068965517241379,
                      0.2068965517241379,
                      0.2068965517241379,
                      0.2068965517241379,
                      0.2068965517241379,
                      0.2068965517241379,
                      0.2068965517241379,
                      0.2068965517241379,
                      0.2068965517241379,
                      0.2068965517241379,
                      0.2068965517241379,
                      0.2068965517241379,
                      0.2068965517241379,
                      0.2068965517241379,
                      0.2068965517241379,
                      0.2068965517241379
                    ],
                    [
                      0.34482758620689635,
                      0.34482758620689635,
                      0.34482758620689635,
                      0.34482758620689635,
                      0.34482758620689635,
                      0.34482758620689635,
                      0.34482758620689635,
                      0.34482758620689635,
                      0.34482758620689635,
                      0.34482758620689635,
                      0.34482758620689635,
                      0.34482758620689635,
                      0.34482758620689635,
                      0.34482758620689635,
                      0.34482758620689635,
                      0.34482758620689635,
                      0.34482758620689635,
                      0.34482758620689635,
                      0.34482758620689635,
                      0.34482758620689635,
                      0.34482758620689635,
                      0.34482758620689635,
                      0.34482758620689635,
                      0.34482758620689635,
                      0.34482758620689635,
                      0.34482758620689635,
                      0.34482758620689635,
                      0.34482758620689635,
                      0.34482758620689635,
                      0.34482758620689635
                    ],
                    [
                      0.48275862068965525,
                      0.48275862068965525,
                      0.48275862068965525,
                      0.48275862068965525,
                      0.48275862068965525,
                      0.48275862068965525,
                      0.48275862068965525,
                      0.48275862068965525,
                      0.48275862068965525,
                      0.48275862068965525,
                      0.48275862068965525,
                      0.48275862068965525,
                      0.48275862068965525,
                      0.48275862068965525,
                      0.48275862068965525,
                      0.48275862068965525,
                      0.48275862068965525,
                      0.48275862068965525,
                      0.48275862068965525,
                      0.48275862068965525,
                      0.48275862068965525,
                      0.48275862068965525,
                      0.48275862068965525,
                      0.48275862068965525,
                      0.48275862068965525,
                      0.48275862068965525,
                      0.48275862068965525,
                      0.48275862068965525,
                      0.48275862068965525,
                      0.48275862068965525
                    ],
                    [
                      0.6206896551724137,
                      0.6206896551724137,
                      0.6206896551724137,
                      0.6206896551724137,
                      0.6206896551724137,
                      0.6206896551724137,
                      0.6206896551724137,
                      0.6206896551724137,
                      0.6206896551724137,
                      0.6206896551724137,
                      0.6206896551724137,
                      0.6206896551724137,
                      0.6206896551724137,
                      0.6206896551724137,
                      0.6206896551724137,
                      0.6206896551724137,
                      0.6206896551724137,
                      0.6206896551724137,
                      0.6206896551724137,
                      0.6206896551724137,
                      0.6206896551724137,
                      0.6206896551724137,
                      0.6206896551724137,
                      0.6206896551724137,
                      0.6206896551724137,
                      0.6206896551724137,
                      0.6206896551724137,
                      0.6206896551724137,
                      0.6206896551724137,
                      0.6206896551724137
                    ],
                    [
                      0.7586206896551726,
                      0.7586206896551726,
                      0.7586206896551726,
                      0.7586206896551726,
                      0.7586206896551726,
                      0.7586206896551726,
                      0.7586206896551726,
                      0.7586206896551726,
                      0.7586206896551726,
                      0.7586206896551726,
                      0.7586206896551726,
                      0.7586206896551726,
                      0.7586206896551726,
                      0.7586206896551726,
                      0.7586206896551726,
                      0.7586206896551726,
                      0.7586206896551726,
                      0.7586206896551726,
                      0.7586206896551726,
                      0.7586206896551726,
                      0.7586206896551726,
                      0.7586206896551726,
                      0.7586206896551726,
                      0.7586206896551726,
                      0.7586206896551726,
                      0.7586206896551726,
                      0.7586206896551726,
                      0.7586206896551726,
                      0.7586206896551726,
                      0.7586206896551726
                    ],
                    [
                      0.896551724137931,
                      0.896551724137931,
                      0.896551724137931,
                      0.896551724137931,
                      0.896551724137931,
                      0.896551724137931,
                      0.896551724137931,
                      0.896551724137931,
                      0.896551724137931,
                      0.896551724137931,
                      0.896551724137931,
                      0.896551724137931,
                      0.896551724137931,
                      0.896551724137931,
                      0.896551724137931,
                      0.896551724137931,
                      0.896551724137931,
                      0.896551724137931,
                      0.896551724137931,
                      0.896551724137931,
                      0.896551724137931,
                      0.896551724137931,
                      0.896551724137931,
                      0.896551724137931,
                      0.896551724137931,
                      0.896551724137931,
                      0.896551724137931,
                      0.896551724137931,
                      0.896551724137931,
                      0.896551724137931
                    ],
                    [
                      1.0344827586206895,
                      1.0344827586206895,
                      1.0344827586206895,
                      1.0344827586206895,
                      1.0344827586206895,
                      1.0344827586206895,
                      1.0344827586206895,
                      1.0344827586206895,
                      1.0344827586206895,
                      1.0344827586206895,
                      1.0344827586206895,
                      1.0344827586206895,
                      1.0344827586206895,
                      1.0344827586206895,
                      1.0344827586206895,
                      1.0344827586206895,
                      1.0344827586206895,
                      1.0344827586206895,
                      1.0344827586206895,
                      1.0344827586206895,
                      1.0344827586206895,
                      1.0344827586206895,
                      1.0344827586206895,
                      1.0344827586206895,
                      1.0344827586206895,
                      1.0344827586206895,
                      1.0344827586206895,
                      1.0344827586206895,
                      1.0344827586206895,
                      1.0344827586206895
                    ],
                    [
                      1.1724137931034484,
                      1.1724137931034484,
                      1.1724137931034484,
                      1.1724137931034484,
                      1.1724137931034484,
                      1.1724137931034484,
                      1.1724137931034484,
                      1.1724137931034484,
                      1.1724137931034484,
                      1.1724137931034484,
                      1.1724137931034484,
                      1.1724137931034484,
                      1.1724137931034484,
                      1.1724137931034484,
                      1.1724137931034484,
                      1.1724137931034484,
                      1.1724137931034484,
                      1.1724137931034484,
                      1.1724137931034484,
                      1.1724137931034484,
                      1.1724137931034484,
                      1.1724137931034484,
                      1.1724137931034484,
                      1.1724137931034484,
                      1.1724137931034484,
                      1.1724137931034484,
                      1.1724137931034484,
                      1.1724137931034484,
                      1.1724137931034484,
                      1.1724137931034484
                    ],
                    [
                      1.3103448275862069,
                      1.3103448275862069,
                      1.3103448275862069,
                      1.3103448275862069,
                      1.3103448275862069,
                      1.3103448275862069,
                      1.3103448275862069,
                      1.3103448275862069,
                      1.3103448275862069,
                      1.3103448275862069,
                      1.3103448275862069,
                      1.3103448275862069,
                      1.3103448275862069,
                      1.3103448275862069,
                      1.3103448275862069,
                      1.3103448275862069,
                      1.3103448275862069,
                      1.3103448275862069,
                      1.3103448275862069,
                      1.3103448275862069,
                      1.3103448275862069,
                      1.3103448275862069,
                      1.3103448275862069,
                      1.3103448275862069,
                      1.3103448275862069,
                      1.3103448275862069,
                      1.3103448275862069,
                      1.3103448275862069,
                      1.3103448275862069,
                      1.3103448275862069
                    ],
                    [
                      1.4482758620689653,
                      1.4482758620689653,
                      1.4482758620689653,
                      1.4482758620689653,
                      1.4482758620689653,
                      1.4482758620689653,
                      1.4482758620689653,
                      1.4482758620689653,
                      1.4482758620689653,
                      1.4482758620689653,
                      1.4482758620689653,
                      1.4482758620689653,
                      1.4482758620689653,
                      1.4482758620689653,
                      1.4482758620689653,
                      1.4482758620689653,
                      1.4482758620689653,
                      1.4482758620689653,
                      1.4482758620689653,
                      1.4482758620689653,
                      1.4482758620689653,
                      1.4482758620689653,
                      1.4482758620689653,
                      1.4482758620689653,
                      1.4482758620689653,
                      1.4482758620689653,
                      1.4482758620689653,
                      1.4482758620689653,
                      1.4482758620689653,
                      1.4482758620689653
                    ],
                    [
                      1.5862068965517242,
                      1.5862068965517242,
                      1.5862068965517242,
                      1.5862068965517242,
                      1.5862068965517242,
                      1.5862068965517242,
                      1.5862068965517242,
                      1.5862068965517242,
                      1.5862068965517242,
                      1.5862068965517242,
                      1.5862068965517242,
                      1.5862068965517242,
                      1.5862068965517242,
                      1.5862068965517242,
                      1.5862068965517242,
                      1.5862068965517242,
                      1.5862068965517242,
                      1.5862068965517242,
                      1.5862068965517242,
                      1.5862068965517242,
                      1.5862068965517242,
                      1.5862068965517242,
                      1.5862068965517242,
                      1.5862068965517242,
                      1.5862068965517242,
                      1.5862068965517242,
                      1.5862068965517242,
                      1.5862068965517242,
                      1.5862068965517242,
                      1.5862068965517242
                    ],
                    [
                      1.7241379310344827,
                      1.7241379310344827,
                      1.7241379310344827,
                      1.7241379310344827,
                      1.7241379310344827,
                      1.7241379310344827,
                      1.7241379310344827,
                      1.7241379310344827,
                      1.7241379310344827,
                      1.7241379310344827,
                      1.7241379310344827,
                      1.7241379310344827,
                      1.7241379310344827,
                      1.7241379310344827,
                      1.7241379310344827,
                      1.7241379310344827,
                      1.7241379310344827,
                      1.7241379310344827,
                      1.7241379310344827,
                      1.7241379310344827,
                      1.7241379310344827,
                      1.7241379310344827,
                      1.7241379310344827,
                      1.7241379310344827,
                      1.7241379310344827,
                      1.7241379310344827,
                      1.7241379310344827,
                      1.7241379310344827,
                      1.7241379310344827,
                      1.7241379310344827
                    ],
                    [
                      1.862068965517241,
                      1.862068965517241,
                      1.862068965517241,
                      1.862068965517241,
                      1.862068965517241,
                      1.862068965517241,
                      1.862068965517241,
                      1.862068965517241,
                      1.862068965517241,
                      1.862068965517241,
                      1.862068965517241,
                      1.862068965517241,
                      1.862068965517241,
                      1.862068965517241,
                      1.862068965517241,
                      1.862068965517241,
                      1.862068965517241,
                      1.862068965517241,
                      1.862068965517241,
                      1.862068965517241,
                      1.862068965517241,
                      1.862068965517241,
                      1.862068965517241,
                      1.862068965517241,
                      1.862068965517241,
                      1.862068965517241,
                      1.862068965517241,
                      1.862068965517241,
                      1.862068965517241,
                      1.862068965517241
                    ],
                    [
                      2,
                      2,
                      2,
                      2,
                      2,
                      2,
                      2,
                      2,
                      2,
                      2,
                      2,
                      2,
                      2,
                      2,
                      2,
                      2,
                      2,
                      2,
                      2,
                      2,
                      2,
                      2,
                      2,
                      2,
                      2,
                      2,
                      2,
                      2,
                      2,
                      2
                    ]
                  ],
                  "z": [
                    [
                      -0.14550003380861354,
                      0.3771163698374025,
                      0.7715856262749327,
                      0.9730087800748581,
                      0.9828105087509209,
                      0.8439552885475596,
                      0.6148258430286723,
                      0.3501821854376338,
                      0.0912887413038582,
                      -0.13645656222622704,
                      -0.32132971166758456,
                      -0.46118753113235134,
                      -0.5592517392712635,
                      -0.6206589204628736,
                      -0.6500367048930533,
                      -0.6500367048930533,
                      -0.6206589204628736,
                      -0.5592517392712635,
                      -0.46118753113235134,
                      -0.32132971166758456,
                      -0.13645656222622704,
                      0.0912887413038582,
                      0.35018218543763296,
                      0.6148258430286723,
                      0.8439552885475596,
                      0.9828105087509206,
                      0.9730087800748581,
                      0.7715856262749327,
                      0.3771163698374025,
                      -0.14550003380861354
                    ],
                    [
                      0.3771163698374025,
                      0.7952258400285502,
                      0.9877371784944078,
                      0.9553860769123755,
                      0.75287195663488,
                      0.45459318051713765,
                      0.1291045847107738,
                      -0.17404272198184442,
                      -0.4271000498005775,
                      -0.6206589204628736,
                      -0.757733268991495,
                      -0.8479109755643824,
                      -0.9027766503908669,
                      -0.9328635462039776,
                      -0.9458917490178871,
                      -0.9458917490178871,
                      -0.9328635462039776,
                      -0.9027766503908669,
                      -0.8479109755643824,
                      -0.757733268991495,
                      -0.620658920462873,
                      -0.4271000498005775,
                      -0.1740427219818453,
                      0.1291045847107738,
                      0.45459318051713765,
                      0.7528719566348794,
                      0.9553860769123755,
                      0.9877371784944078,
                      0.7952258400285508,
                      0.3771163698374025
                    ],
                    [
                      0.7715856262749327,
                      0.9877371784944078,
                      0.9434588440390105,
                      0.7006548934506924,
                      0.35018218543763296,
                      -0.022731849784232684,
                      -0.3571204880458734,
                      -0.6206589204628736,
                      -0.8051523933753714,
                      -0.9184849083778888,
                      -0.9766950836349867,
                      -0.9979453477917158,
                      -0.9987485113050988,
                      -0.9920555393030482,
                      -0.9865519251227948,
                      -0.9865519251227948,
                      -0.9920555393030482,
                      -0.9987485113050988,
                      -0.9979453477917158,
                      -0.9766950836349867,
                      -0.9184849083778888,
                      -0.8051523933753714,
                      -0.6206589204628736,
                      -0.3571204880458734,
                      -0.022731849784232684,
                      0.35018218543763296,
                      0.7006548934506924,
                      0.9434588440390105,
                      0.987737178494408,
                      0.7715856262749327
                    ],
                    [
                      0.9730087800748581,
                      0.9553860769123755,
                      0.7006548934506924,
                      0.31429663941102653,
                      -0.09867286477067207,
                      -0.46118753113235134,
                      -0.7323607673335443,
                      -0.9027766503908666,
                      -0.984152888590357,
                      -0.9987485113050988,
                      -0.9712702646711981,
                      -0.9239616475809372,
                      -0.8743826337224939,
                      -0.8349611446231123,
                      -0.8134226212963586,
                      -0.8134226212963586,
                      -0.8349611446231123,
                      -0.8743826337224939,
                      -0.9239616475809372,
                      -0.9712702646711981,
                      -0.9987485113050988,
                      -0.984152888590357,
                      -0.9027766503908669,
                      -0.7323607673335443,
                      -0.46118753113235134,
                      -0.09867286477067294,
                      0.31429663941102653,
                      0.7006548934506924,
                      0.9553860769123753,
                      0.9730087800748581
                    ],
                    [
                      0.9828105087509209,
                      0.75287195663488,
                      0.35018218543763296,
                      -0.09867286477067207,
                      -0.49460738664494,
                      -0.7820088583084029,
                      -0.9458917490178869,
                      -0.9996603298046648,
                      -0.9712702646711981,
                      -0.8922085320286857,
                      -0.7907065684241876,
                      -0.6887493001173617,
                      -0.6016879421052983,
                      -0.5392218349497397,
                      -0.5067949902998576,
                      -0.5067949902998576,
                      -0.5392218349497397,
                      -0.6016879421052983,
                      -0.6887493001173617,
                      -0.7907065684241876,
                      -0.8922085320286859,
                      -0.9712702646711981,
                      -0.9996603298046648,
                      -0.9458917490178869,
                      -0.7820088583084029,
                      -0.49460738664494075,
                      -0.09867286477067207,
                      0.35018218543763296,
                      0.7528719566348794,
                      0.9828105087509209
                    ],
                    [
                      0.8439552885475596,
                      0.45459318051713765,
                      -0.022731849784232684,
                      -0.46118753113235134,
                      -0.7820088583084029,
                      -0.9575506568895692,
                      -0.9987485113050988,
                      -0.9378428982768381,
                      -0.8134226212963582,
                      -0.660671240210799,
                      -0.5067949902998572,
                      -0.37023606016878224,
                      -0.26201861588431247,
                      -0.18788998092341608,
                      -0.15039072704493123,
                      -0.15039072704493123,
                      -0.18788998092341608,
                      -0.26201861588431224,
                      -0.37023606016878224,
                      -0.5067949902998572,
                      -0.6606712402107994,
                      -0.8134226212963582,
                      -0.9378428982768378,
                      -0.9987485113050988,
                      -0.9575506568895692,
                      -0.7820088583084035,
                      -0.46118753113235134,
                      -0.022731849784232684,
                      0.4545931805171369,
                      0.8439552885475596
                    ],
                    [
                      0.6148258430286723,
                      0.1291045847107738,
                      -0.3571204880458734,
                      -0.7323607673335443,
                      -0.9458917490178869,
                      -0.9987485113050988,
                      -0.9239616475809374,
                      -0.766845870294192,
                      -0.5708680895034488,
                      -0.37023606016878247,
                      -0.18788998092341652,
                      -0.036805346618823016,
                      0.0772590936387566,
                      0.15283470200647742,
                      0.19031792651104276,
                      0.19031792651104276,
                      0.15283470200647742,
                      0.07725909363875683,
                      -0.036805346618823016,
                      -0.18788998092341652,
                      -0.37023606016878263,
                      -0.5708680895034488,
                      -0.7668458702941918,
                      -0.9239616475809374,
                      -0.9987485113050988,
                      -0.9458917490178872,
                      -0.7323607673335443,
                      -0.3571204880458734,
                      0.1291045847107729,
                      0.6148258430286723
                    ],
                    [
                      0.3501821854376338,
                      -0.17404272198184442,
                      -0.6206589204628736,
                      -0.9027766503908666,
                      -0.9996603298046648,
                      -0.9378428982768381,
                      -0.766845870294192,
                      -0.5392218349497397,
                      -0.2985406866270032,
                      -0.07479369187759254,
                      0.11513023042509656,
                      0.26440398676476456,
                      0.37253177888744077,
                      0.4420076219074999,
                      0.47581068280211636,
                      0.47581068280211636,
                      0.4420076219074999,
                      0.372531778887441,
                      0.26440398676476456,
                      0.11513023042509656,
                      -0.07479369187759276,
                      -0.2985406866270032,
                      -0.5392218349497394,
                      -0.766845870294192,
                      -0.9378428982768381,
                      -0.9996603298046648,
                      -0.9027766503908666,
                      -0.6206589204628736,
                      -0.17404272198184617,
                      0.3501821854376338
                    ],
                    [
                      0.0912887413038582,
                      -0.4271000498005775,
                      -0.8051523933753714,
                      -0.984152888590357,
                      -0.9712702646711981,
                      -0.8134226212963582,
                      -0.5708680895034488,
                      -0.2985406866270032,
                      -0.036805346618822794,
                      0.19031792651104298,
                      0.372531778887441,
                      0.5089249490623624,
                      0.6036610106004938,
                      0.6625253075413651,
                      0.6905397968085247,
                      0.6905397968085247,
                      0.6625253075413651,
                      0.6036610106004938,
                      0.5089249490623624,
                      0.372531778887441,
                      0.19031792651104276,
                      -0.036805346618822794,
                      -0.29854068662700284,
                      -0.5708680895034488,
                      -0.8134226212963582,
                      -0.9712702646711979,
                      -0.984152888590357,
                      -0.8051523933753714,
                      -0.4271000498005783,
                      0.0912887413038582
                    ],
                    [
                      -0.13645656222622704,
                      -0.6206589204628736,
                      -0.9184849083778888,
                      -0.9987485113050988,
                      -0.8922085320286857,
                      -0.660671240210799,
                      -0.37023606016878247,
                      -0.07479369187759254,
                      0.19031792651104298,
                      0.40756470047732835,
                      0.5728964162550122,
                      0.6905397968085248,
                      0.7684304900063436,
                      0.8148583542246781,
                      0.8363192618840865,
                      0.8363192618840865,
                      0.8148583542246781,
                      0.7684304900063438,
                      0.6905397968085248,
                      0.5728964162550122,
                      0.40756470047732796,
                      0.19031792651104298,
                      -0.07479369187759209,
                      -0.37023606016878247,
                      -0.660671240210799,
                      -0.8922085320286853,
                      -0.9987485113050988,
                      -0.9184849083778888,
                      -0.6206589204628743,
                      -0.13645656222622704
                    ],
                    [
                      -0.32132971166758456,
                      -0.757733268991495,
                      -0.9766950836349867,
                      -0.9712702646711981,
                      -0.7907065684241876,
                      -0.5067949902998572,
                      -0.18788998092341652,
                      0.11513023042509656,
                      0.372531778887441,
                      0.5728964162550122,
                      0.717554644571085,
                      0.8148583542246781,
                      0.8755797367265107,
                      0.9097720079076684,
                      0.9249045391211184,
                      0.9249045391211184,
                      0.9097720079076684,
                      0.8755797367265107,
                      0.8148583542246781,
                      0.717554644571085,
                      0.5728964162550118,
                      0.372531778887441,
                      0.115130230425097,
                      -0.18788998092341652,
                      -0.5067949902998572,
                      -0.7907065684241871,
                      -0.9712702646711981,
                      -0.9766950836349867,
                      -0.7577332689914955,
                      -0.32132971166758456
                    ],
                    [
                      -0.46118753113235134,
                      -0.8479109755643824,
                      -0.9979453477917158,
                      -0.9239616475809372,
                      -0.6887493001173617,
                      -0.37023606016878224,
                      -0.036805346618823016,
                      0.26440398676476456,
                      0.5089249490623624,
                      0.6905397968085248,
                      0.8148583542246781,
                      0.893322469531082,
                      0.9386981569665462,
                      0.9621907478508727,
                      0.971855712467654,
                      0.971855712467654,
                      0.9621907478508727,
                      0.9386981569665462,
                      0.893322469531082,
                      0.8148583542246781,
                      0.6905397968085246,
                      0.5089249490623624,
                      0.264403986764765,
                      -0.036805346618823016,
                      -0.37023606016878224,
                      -0.688749300117361,
                      -0.9239616475809372,
                      -0.9979453477917158,
                      -0.847910975564383,
                      -0.46118753113235134
                    ],
                    [
                      -0.5592517392712635,
                      -0.9027766503908669,
                      -0.9987485113050988,
                      -0.8743826337224939,
                      -0.6016879421052983,
                      -0.26201861588431247,
                      0.0772590936387566,
                      0.37253177888744077,
                      0.6036610106004938,
                      0.7684304900063436,
                      0.8755797367265107,
                      0.9386981569665462,
                      0.971855712467654,
                      0.9869530441642548,
                      0.9923635559948296,
                      0.9923635559948296,
                      0.9869530441642548,
                      0.971855712467654,
                      0.9386981569665462,
                      0.8755797367265107,
                      0.7684304900063434,
                      0.6036610106004938,
                      0.3725317788874412,
                      0.0772590936387566,
                      -0.26201861588431247,
                      -0.6016879421052976,
                      -0.8743826337224939,
                      -0.9987485113050988,
                      -0.9027766503908672,
                      -0.5592517392712635
                    ],
                    [
                      -0.6206589204628736,
                      -0.9328635462039776,
                      -0.9920555393030482,
                      -0.8349611446231123,
                      -0.5392218349497397,
                      -0.18788998092341608,
                      0.15283470200647742,
                      0.4420076219074999,
                      0.6625253075413651,
                      0.8148583542246781,
                      0.9097720079076684,
                      0.9621907478508727,
                      0.9869530441642548,
                      0.9963374992122566,
                      0.9988691210437116,
                      0.9988691210437116,
                      0.9963374992122566,
                      0.9869530441642549,
                      0.9621907478508727,
                      0.9097720079076684,
                      0.8148583542246779,
                      0.6625253075413651,
                      0.4420076219075003,
                      0.15283470200647742,
                      -0.18788998092341608,
                      -0.5392218349497391,
                      -0.8349611446231123,
                      -0.9920555393030482,
                      -0.9328635462039779,
                      -0.6206589204628736
                    ],
                    [
                      -0.6500367048930533,
                      -0.9458917490178871,
                      -0.9865519251227948,
                      -0.8134226212963586,
                      -0.5067949902998576,
                      -0.15039072704493123,
                      0.19031792651104276,
                      0.47581068280211636,
                      0.6905397968085247,
                      0.8363192618840865,
                      0.9249045391211184,
                      0.971855712467654,
                      0.9923635559948296,
                      0.9988691210437116,
                      0.9999547566544258,
                      0.9999547566544258,
                      0.9988691210437116,
                      0.9923635559948296,
                      0.971855712467654,
                      0.9249045391211184,
                      0.8363192618840862,
                      0.6905397968085247,
                      0.47581068280211675,
                      0.19031792651104276,
                      -0.15039072704493123,
                      -0.5067949902998569,
                      -0.8134226212963586,
                      -0.9865519251227948,
                      -0.9458917490178873,
                      -0.6500367048930533
                    ],
                    [
                      -0.6500367048930533,
                      -0.9458917490178871,
                      -0.9865519251227948,
                      -0.8134226212963586,
                      -0.5067949902998576,
                      -0.15039072704493123,
                      0.19031792651104276,
                      0.47581068280211636,
                      0.6905397968085247,
                      0.8363192618840865,
                      0.9249045391211184,
                      0.971855712467654,
                      0.9923635559948296,
                      0.9988691210437116,
                      0.9999547566544258,
                      0.9999547566544258,
                      0.9988691210437116,
                      0.9923635559948296,
                      0.971855712467654,
                      0.9249045391211184,
                      0.8363192618840862,
                      0.6905397968085247,
                      0.47581068280211675,
                      0.19031792651104276,
                      -0.15039072704493123,
                      -0.5067949902998569,
                      -0.8134226212963586,
                      -0.9865519251227948,
                      -0.9458917490178873,
                      -0.6500367048930533
                    ],
                    [
                      -0.6206589204628736,
                      -0.9328635462039776,
                      -0.9920555393030482,
                      -0.8349611446231123,
                      -0.5392218349497397,
                      -0.18788998092341608,
                      0.15283470200647742,
                      0.4420076219074999,
                      0.6625253075413651,
                      0.8148583542246781,
                      0.9097720079076684,
                      0.9621907478508727,
                      0.9869530441642548,
                      0.9963374992122566,
                      0.9988691210437116,
                      0.9988691210437116,
                      0.9963374992122566,
                      0.9869530441642549,
                      0.9621907478508727,
                      0.9097720079076684,
                      0.8148583542246779,
                      0.6625253075413651,
                      0.4420076219075003,
                      0.15283470200647742,
                      -0.18788998092341608,
                      -0.5392218349497391,
                      -0.8349611446231123,
                      -0.9920555393030482,
                      -0.9328635462039779,
                      -0.6206589204628736
                    ],
                    [
                      -0.5592517392712635,
                      -0.9027766503908669,
                      -0.9987485113050988,
                      -0.8743826337224939,
                      -0.6016879421052983,
                      -0.26201861588431224,
                      0.07725909363875683,
                      0.372531778887441,
                      0.6036610106004938,
                      0.7684304900063438,
                      0.8755797367265107,
                      0.9386981569665462,
                      0.971855712467654,
                      0.9869530441642549,
                      0.9923635559948296,
                      0.9923635559948296,
                      0.9869530441642549,
                      0.971855712467654,
                      0.9386981569665462,
                      0.8755797367265107,
                      0.7684304900063436,
                      0.6036610106004938,
                      0.37253177888744143,
                      0.07725909363875683,
                      -0.26201861588431224,
                      -0.6016879421052976,
                      -0.8743826337224939,
                      -0.9987485113050988,
                      -0.9027766503908672,
                      -0.5592517392712635
                    ],
                    [
                      -0.46118753113235134,
                      -0.8479109755643824,
                      -0.9979453477917158,
                      -0.9239616475809372,
                      -0.6887493001173617,
                      -0.37023606016878224,
                      -0.036805346618823016,
                      0.26440398676476456,
                      0.5089249490623624,
                      0.6905397968085248,
                      0.8148583542246781,
                      0.893322469531082,
                      0.9386981569665462,
                      0.9621907478508727,
                      0.971855712467654,
                      0.971855712467654,
                      0.9621907478508727,
                      0.9386981569665462,
                      0.893322469531082,
                      0.8148583542246781,
                      0.6905397968085246,
                      0.5089249490623624,
                      0.264403986764765,
                      -0.036805346618823016,
                      -0.37023606016878224,
                      -0.688749300117361,
                      -0.9239616475809372,
                      -0.9979453477917158,
                      -0.847910975564383,
                      -0.46118753113235134
                    ],
                    [
                      -0.32132971166758456,
                      -0.757733268991495,
                      -0.9766950836349867,
                      -0.9712702646711981,
                      -0.7907065684241876,
                      -0.5067949902998572,
                      -0.18788998092341652,
                      0.11513023042509656,
                      0.372531778887441,
                      0.5728964162550122,
                      0.717554644571085,
                      0.8148583542246781,
                      0.8755797367265107,
                      0.9097720079076684,
                      0.9249045391211184,
                      0.9249045391211184,
                      0.9097720079076684,
                      0.8755797367265107,
                      0.8148583542246781,
                      0.717554644571085,
                      0.5728964162550118,
                      0.372531778887441,
                      0.115130230425097,
                      -0.18788998092341652,
                      -0.5067949902998572,
                      -0.7907065684241871,
                      -0.9712702646711981,
                      -0.9766950836349867,
                      -0.7577332689914955,
                      -0.32132971166758456
                    ],
                    [
                      -0.13645656222622704,
                      -0.620658920462873,
                      -0.9184849083778888,
                      -0.9987485113050988,
                      -0.8922085320286859,
                      -0.6606712402107994,
                      -0.37023606016878263,
                      -0.07479369187759276,
                      0.19031792651104276,
                      0.40756470047732796,
                      0.5728964162550118,
                      0.6905397968085246,
                      0.7684304900063434,
                      0.8148583542246779,
                      0.8363192618840862,
                      0.8363192618840862,
                      0.8148583542246779,
                      0.7684304900063436,
                      0.6905397968085246,
                      0.5728964162550118,
                      0.40756470047732773,
                      0.19031792651104276,
                      -0.07479369187759231,
                      -0.37023606016878263,
                      -0.6606712402107994,
                      -0.8922085320286854,
                      -0.9987485113050988,
                      -0.9184849083778888,
                      -0.6206589204628736,
                      -0.13645656222622704
                    ],
                    [
                      0.0912887413038582,
                      -0.4271000498005775,
                      -0.8051523933753714,
                      -0.984152888590357,
                      -0.9712702646711981,
                      -0.8134226212963582,
                      -0.5708680895034488,
                      -0.2985406866270032,
                      -0.036805346618822794,
                      0.19031792651104298,
                      0.372531778887441,
                      0.5089249490623624,
                      0.6036610106004938,
                      0.6625253075413651,
                      0.6905397968085247,
                      0.6905397968085247,
                      0.6625253075413651,
                      0.6036610106004938,
                      0.5089249490623624,
                      0.372531778887441,
                      0.19031792651104276,
                      -0.036805346618822794,
                      -0.29854068662700284,
                      -0.5708680895034488,
                      -0.8134226212963582,
                      -0.9712702646711979,
                      -0.984152888590357,
                      -0.8051523933753714,
                      -0.4271000498005783,
                      0.0912887413038582
                    ],
                    [
                      0.35018218543763296,
                      -0.1740427219818453,
                      -0.6206589204628736,
                      -0.9027766503908669,
                      -0.9996603298046648,
                      -0.9378428982768378,
                      -0.7668458702941918,
                      -0.5392218349497394,
                      -0.29854068662700284,
                      -0.07479369187759209,
                      0.115130230425097,
                      0.264403986764765,
                      0.3725317788874412,
                      0.4420076219075003,
                      0.47581068280211675,
                      0.47581068280211675,
                      0.4420076219075003,
                      0.37253177888744143,
                      0.264403986764765,
                      0.115130230425097,
                      -0.07479369187759231,
                      -0.29854068662700284,
                      -0.5392218349497391,
                      -0.7668458702941918,
                      -0.9378428982768378,
                      -0.9996603298046648,
                      -0.9027766503908669,
                      -0.6206589204628736,
                      -0.17404272198184617,
                      0.35018218543763296
                    ],
                    [
                      0.6148258430286723,
                      0.1291045847107738,
                      -0.3571204880458734,
                      -0.7323607673335443,
                      -0.9458917490178869,
                      -0.9987485113050988,
                      -0.9239616475809374,
                      -0.766845870294192,
                      -0.5708680895034488,
                      -0.37023606016878247,
                      -0.18788998092341652,
                      -0.036805346618823016,
                      0.0772590936387566,
                      0.15283470200647742,
                      0.19031792651104276,
                      0.19031792651104276,
                      0.15283470200647742,
                      0.07725909363875683,
                      -0.036805346618823016,
                      -0.18788998092341652,
                      -0.37023606016878263,
                      -0.5708680895034488,
                      -0.7668458702941918,
                      -0.9239616475809374,
                      -0.9987485113050988,
                      -0.9458917490178872,
                      -0.7323607673335443,
                      -0.3571204880458734,
                      0.1291045847107729,
                      0.6148258430286723
                    ],
                    [
                      0.8439552885475596,
                      0.45459318051713765,
                      -0.022731849784232684,
                      -0.46118753113235134,
                      -0.7820088583084029,
                      -0.9575506568895692,
                      -0.9987485113050988,
                      -0.9378428982768381,
                      -0.8134226212963582,
                      -0.660671240210799,
                      -0.5067949902998572,
                      -0.37023606016878224,
                      -0.26201861588431247,
                      -0.18788998092341608,
                      -0.15039072704493123,
                      -0.15039072704493123,
                      -0.18788998092341608,
                      -0.26201861588431224,
                      -0.37023606016878224,
                      -0.5067949902998572,
                      -0.6606712402107994,
                      -0.8134226212963582,
                      -0.9378428982768378,
                      -0.9987485113050988,
                      -0.9575506568895692,
                      -0.7820088583084035,
                      -0.46118753113235134,
                      -0.022731849784232684,
                      0.4545931805171369,
                      0.8439552885475596
                    ],
                    [
                      0.9828105087509206,
                      0.7528719566348794,
                      0.35018218543763296,
                      -0.09867286477067294,
                      -0.49460738664494075,
                      -0.7820088583084035,
                      -0.9458917490178872,
                      -0.9996603298046648,
                      -0.9712702646711979,
                      -0.8922085320286853,
                      -0.7907065684241871,
                      -0.688749300117361,
                      -0.6016879421052976,
                      -0.5392218349497391,
                      -0.5067949902998569,
                      -0.5067949902998569,
                      -0.5392218349497391,
                      -0.6016879421052976,
                      -0.688749300117361,
                      -0.7907065684241871,
                      -0.8922085320286854,
                      -0.9712702646711979,
                      -0.9996603298046648,
                      -0.9458917490178872,
                      -0.7820088583084035,
                      -0.4946073866449415,
                      -0.09867286477067294,
                      0.35018218543763296,
                      0.7528719566348788,
                      0.9828105087509206
                    ],
                    [
                      0.9730087800748581,
                      0.9553860769123755,
                      0.7006548934506924,
                      0.31429663941102653,
                      -0.09867286477067207,
                      -0.46118753113235134,
                      -0.7323607673335443,
                      -0.9027766503908666,
                      -0.984152888590357,
                      -0.9987485113050988,
                      -0.9712702646711981,
                      -0.9239616475809372,
                      -0.8743826337224939,
                      -0.8349611446231123,
                      -0.8134226212963586,
                      -0.8134226212963586,
                      -0.8349611446231123,
                      -0.8743826337224939,
                      -0.9239616475809372,
                      -0.9712702646711981,
                      -0.9987485113050988,
                      -0.984152888590357,
                      -0.9027766503908669,
                      -0.7323607673335443,
                      -0.46118753113235134,
                      -0.09867286477067294,
                      0.31429663941102653,
                      0.7006548934506924,
                      0.9553860769123753,
                      0.9730087800748581
                    ],
                    [
                      0.7715856262749327,
                      0.9877371784944078,
                      0.9434588440390105,
                      0.7006548934506924,
                      0.35018218543763296,
                      -0.022731849784232684,
                      -0.3571204880458734,
                      -0.6206589204628736,
                      -0.8051523933753714,
                      -0.9184849083778888,
                      -0.9766950836349867,
                      -0.9979453477917158,
                      -0.9987485113050988,
                      -0.9920555393030482,
                      -0.9865519251227948,
                      -0.9865519251227948,
                      -0.9920555393030482,
                      -0.9987485113050988,
                      -0.9979453477917158,
                      -0.9766950836349867,
                      -0.9184849083778888,
                      -0.8051523933753714,
                      -0.6206589204628736,
                      -0.3571204880458734,
                      -0.022731849784232684,
                      0.35018218543763296,
                      0.7006548934506924,
                      0.9434588440390105,
                      0.987737178494408,
                      0.7715856262749327
                    ],
                    [
                      0.3771163698374025,
                      0.7952258400285508,
                      0.987737178494408,
                      0.9553860769123753,
                      0.7528719566348794,
                      0.4545931805171369,
                      0.1291045847107729,
                      -0.17404272198184617,
                      -0.4271000498005783,
                      -0.6206589204628743,
                      -0.7577332689914955,
                      -0.847910975564383,
                      -0.9027766503908672,
                      -0.9328635462039779,
                      -0.9458917490178873,
                      -0.9458917490178873,
                      -0.9328635462039779,
                      -0.9027766503908672,
                      -0.847910975564383,
                      -0.7577332689914955,
                      -0.6206589204628736,
                      -0.4271000498005783,
                      -0.17404272198184617,
                      0.1291045847107729,
                      0.4545931805171369,
                      0.7528719566348788,
                      0.9553860769123753,
                      0.987737178494408,
                      0.7952258400285513,
                      0.3771163698374025
                    ],
                    [
                      -0.14550003380861354,
                      0.3771163698374025,
                      0.7715856262749327,
                      0.9730087800748581,
                      0.9828105087509209,
                      0.8439552885475596,
                      0.6148258430286723,
                      0.3501821854376338,
                      0.0912887413038582,
                      -0.13645656222622704,
                      -0.32132971166758456,
                      -0.46118753113235134,
                      -0.5592517392712635,
                      -0.6206589204628736,
                      -0.6500367048930533,
                      -0.6500367048930533,
                      -0.6206589204628736,
                      -0.5592517392712635,
                      -0.46118753113235134,
                      -0.32132971166758456,
                      -0.13645656222622704,
                      0.0912887413038582,
                      0.35018218543763296,
                      0.6148258430286723,
                      0.8439552885475596,
                      0.9828105087509206,
                      0.9730087800748581,
                      0.7715856262749327,
                      0.3771163698374025,
                      -0.14550003380861354
                    ]
                  ],
                  "type": "surface",
                  "contours": {
                    "z": {
                      "project": {
                        "z": true
                      },
                      "highlightcolor": "limegreen",
                      "usecolormap": true,
                      "show": true
                    }
                  }
                }
              ],
              "config": {
                "plotlyServerURL": "https://plot.ly"
              },
              "layout": {
                "template": {
                  "layout": {
                    "shapedefaults": {
                      "line": {
                        "color": "#2a3f5f"
                      }
                    },
                    "polar": {
                      "radialaxis": {
                        "ticks": "",
                        "gridcolor": "white",
                        "linecolor": "white"
                      },
                      "bgcolor": "#E5ECF6",
                      "angularaxis": {
                        "ticks": "",
                        "gridcolor": "white",
                        "linecolor": "white"
                      }
                    },
                    "colorway": [
                      "#636efa",
                      "#EF553B",
                      "#00cc96",
                      "#ab63fa",
                      "#FFA15A",
                      "#19d3f3",
                      "#FF6692",
                      "#B6E880",
                      "#FF97FF",
                      "#FECB52"
                    ],
                    "xaxis": {
                      "automargin": true,
                      "title": {
                        "standoff": 15
                      },
                      "zerolinewidth": 2,
                      "ticks": "",
                      "zerolinecolor": "white",
                      "gridcolor": "white",
                      "linecolor": "white"
                    },
                    "colorscale": {
                      "diverging": [
                        [
                          0,
                          "#8e0152"
                        ],
                        [
                          0.1,
                          "#c51b7d"
                        ],
                        [
                          0.2,
                          "#de77ae"
                        ],
                        [
                          0.3,
                          "#f1b6da"
                        ],
                        [
                          0.4,
                          "#fde0ef"
                        ],
                        [
                          0.5,
                          "#f7f7f7"
                        ],
                        [
                          0.6,
                          "#e6f5d0"
                        ],
                        [
                          0.7,
                          "#b8e186"
                        ],
                        [
                          0.8,
                          "#7fbc41"
                        ],
                        [
                          0.9,
                          "#4d9221"
                        ],
                        [
                          1,
                          "#276419"
                        ]
                      ],
                      "sequential": [
                        [
                          0,
                          "#0d0887"
                        ],
                        [
                          0.1111111111111111,
                          "#46039f"
                        ],
                        [
                          0.2222222222222222,
                          "#7201a8"
                        ],
                        [
                          0.3333333333333333,
                          "#9c179e"
                        ],
                        [
                          0.4444444444444444,
                          "#bd3786"
                        ],
                        [
                          0.5555555555555556,
                          "#d8576b"
                        ],
                        [
                          0.6666666666666666,
                          "#ed7953"
                        ],
                        [
                          0.7777777777777778,
                          "#fb9f3a"
                        ],
                        [
                          0.8888888888888888,
                          "#fdca26"
                        ],
                        [
                          1,
                          "#f0f921"
                        ]
                      ],
                      "sequentialminus": [
                        [
                          0,
                          "#0d0887"
                        ],
                        [
                          0.1111111111111111,
                          "#46039f"
                        ],
                        [
                          0.2222222222222222,
                          "#7201a8"
                        ],
                        [
                          0.3333333333333333,
                          "#9c179e"
                        ],
                        [
                          0.4444444444444444,
                          "#bd3786"
                        ],
                        [
                          0.5555555555555556,
                          "#d8576b"
                        ],
                        [
                          0.6666666666666666,
                          "#ed7953"
                        ],
                        [
                          0.7777777777777778,
                          "#fb9f3a"
                        ],
                        [
                          0.8888888888888888,
                          "#fdca26"
                        ],
                        [
                          1,
                          "#f0f921"
                        ]
                      ]
                    },
                    "paper_bgcolor": "white",
                    "plot_bgcolor": "#E5ECF6",
                    "title": {
                      "x": 0.05
                    },
                    "scene": {
                      "zaxis": {
                        "backgroundcolor": "#E5ECF6",
                        "ticks": "",
                        "gridwidth": 2,
                        "showbackground": true,
                        "zerolinecolor": "white",
                        "gridcolor": "white",
                        "linecolor": "white"
                      },
                      "xaxis": {
                        "backgroundcolor": "#E5ECF6",
                        "ticks": "",
                        "gridwidth": 2,
                        "showbackground": true,
                        "zerolinecolor": "white",
                        "gridcolor": "white",
                        "linecolor": "white"
                      },
                      "yaxis": {
                        "backgroundcolor": "#E5ECF6",
                        "ticks": "",
                        "gridwidth": 2,
                        "showbackground": true,
                        "zerolinecolor": "white",
                        "gridcolor": "white",
                        "linecolor": "white"
                      }
                    },
                    "yaxis": {
                      "automargin": true,
                      "title": {
                        "standoff": 15
                      },
                      "zerolinewidth": 2,
                      "ticks": "",
                      "zerolinecolor": "white",
                      "gridcolor": "white",
                      "linecolor": "white"
                    },
                    "annotationdefaults": {
                      "arrowwidth": 1,
                      "arrowhead": 0,
                      "arrowcolor": "#2a3f5f"
                    },
                    "hoverlabel": {
                      "align": "left"
                    },
                    "ternary": {
                      "bgcolor": "#E5ECF6",
                      "baxis": {
                        "ticks": "",
                        "gridcolor": "white",
                        "linecolor": "white"
                      },
                      "caxis": {
                        "ticks": "",
                        "gridcolor": "white",
                        "linecolor": "white"
                      },
                      "aaxis": {
                        "ticks": "",
                        "gridcolor": "white",
                        "linecolor": "white"
                      }
                    },
                    "mapbox": {
                      "style": "light"
                    },
                    "hovermode": "closest",
                    "font": {
                      "color": "#2a3f5f"
                    },
                    "geo": {
                      "showland": true,
                      "landcolor": "#E5ECF6",
                      "showlakes": true,
                      "bgcolor": "white",
                      "subunitcolor": "white",
                      "lakecolor": "white"
                    },
                    "coloraxis": {
                      "colorbar": {
                        "outlinewidth": 0,
                        "ticks": ""
                      }
                    }
                  },
                  "data": {
                    "mesh3d": [
                      {
                        "colorbar": {
                          "outlinewidth": 0,
                          "ticks": ""
                        },
                        "type": "mesh3d"
                      }
                    ],
                    "scattercarpet": [
                      {
                        "marker": {
                          "colorbar": {
                            "outlinewidth": 0,
                            "ticks": ""
                          }
                        },
                        "type": "scattercarpet"
                      }
                    ],
                    "pie": [
                      {
                        "automargin": true,
                        "type": "pie"
                      }
                    ],
                    "surface": [
                      {
                        "colorbar": {
                          "outlinewidth": 0,
                          "ticks": ""
                        },
                        "type": "surface",
                        "colorscale": [
                          [
                            0,
                            "#0d0887"
                          ],
                          [
                            0.1111111111111111,
                            "#46039f"
                          ],
                          [
                            0.2222222222222222,
                            "#7201a8"
                          ],
                          [
                            0.3333333333333333,
                            "#9c179e"
                          ],
                          [
                            0.4444444444444444,
                            "#bd3786"
                          ],
                          [
                            0.5555555555555556,
                            "#d8576b"
                          ],
                          [
                            0.6666666666666666,
                            "#ed7953"
                          ],
                          [
                            0.7777777777777778,
                            "#fb9f3a"
                          ],
                          [
                            0.8888888888888888,
                            "#fdca26"
                          ],
                          [
                            1,
                            "#f0f921"
                          ]
                        ]
                      }
                    ],
                    "table": [
                      {
                        "header": {
                          "line": {
                            "color": "white"
                          },
                          "fill": {
                            "color": "#C8D4E3"
                          }
                        },
                        "cells": {
                          "line": {
                            "color": "white"
                          },
                          "fill": {
                            "color": "#EBF0F8"
                          }
                        },
                        "type": "table"
                      }
                    ],
                    "scatterpolargl": [
                      {
                        "marker": {
                          "colorbar": {
                            "outlinewidth": 0,
                            "ticks": ""
                          }
                        },
                        "type": "scatterpolargl"
                      }
                    ],
                    "contour": [
                      {
                        "colorbar": {
                          "outlinewidth": 0,
                          "ticks": ""
                        },
                        "type": "contour",
                        "colorscale": [
                          [
                            0,
                            "#0d0887"
                          ],
                          [
                            0.1111111111111111,
                            "#46039f"
                          ],
                          [
                            0.2222222222222222,
                            "#7201a8"
                          ],
                          [
                            0.3333333333333333,
                            "#9c179e"
                          ],
                          [
                            0.4444444444444444,
                            "#bd3786"
                          ],
                          [
                            0.5555555555555556,
                            "#d8576b"
                          ],
                          [
                            0.6666666666666666,
                            "#ed7953"
                          ],
                          [
                            0.7777777777777778,
                            "#fb9f3a"
                          ],
                          [
                            0.8888888888888888,
                            "#fdca26"
                          ],
                          [
                            1,
                            "#f0f921"
                          ]
                        ]
                      }
                    ],
                    "carpet": [
                      {
                        "type": "carpet",
                        "baxis": {
                          "minorgridcolor": "white",
                          "gridcolor": "white",
                          "linecolor": "white",
                          "endlinecolor": "#2a3f5f",
                          "startlinecolor": "#2a3f5f"
                        },
                        "aaxis": {
                          "minorgridcolor": "white",
                          "gridcolor": "white",
                          "linecolor": "white",
                          "endlinecolor": "#2a3f5f",
                          "startlinecolor": "#2a3f5f"
                        }
                      }
                    ],
                    "contourcarpet": [
                      {
                        "colorbar": {
                          "outlinewidth": 0,
                          "ticks": ""
                        },
                        "type": "contourcarpet"
                      }
                    ],
                    "heatmap": [
                      {
                        "colorbar": {
                          "outlinewidth": 0,
                          "ticks": ""
                        },
                        "type": "heatmap",
                        "colorscale": [
                          [
                            0,
                            "#0d0887"
                          ],
                          [
                            0.1111111111111111,
                            "#46039f"
                          ],
                          [
                            0.2222222222222222,
                            "#7201a8"
                          ],
                          [
                            0.3333333333333333,
                            "#9c179e"
                          ],
                          [
                            0.4444444444444444,
                            "#bd3786"
                          ],
                          [
                            0.5555555555555556,
                            "#d8576b"
                          ],
                          [
                            0.6666666666666666,
                            "#ed7953"
                          ],
                          [
                            0.7777777777777778,
                            "#fb9f3a"
                          ],
                          [
                            0.8888888888888888,
                            "#fdca26"
                          ],
                          [
                            1,
                            "#f0f921"
                          ]
                        ]
                      }
                    ],
                    "scattermapbox": [
                      {
                        "marker": {
                          "colorbar": {
                            "outlinewidth": 0,
                            "ticks": ""
                          }
                        },
                        "type": "scattermapbox"
                      }
                    ],
                    "scatter3d": [
                      {
                        "marker": {
                          "colorbar": {
                            "outlinewidth": 0,
                            "ticks": ""
                          }
                        },
                        "line": {
                          "colorbar": {
                            "outlinewidth": 0,
                            "ticks": ""
                          }
                        },
                        "type": "scatter3d"
                      }
                    ],
                    "scattergl": [
                      {
                        "marker": {
                          "colorbar": {
                            "outlinewidth": 0,
                            "ticks": ""
                          }
                        },
                        "type": "scattergl"
                      }
                    ],
                    "scatterternary": [
                      {
                        "marker": {
                          "colorbar": {
                            "outlinewidth": 0,
                            "ticks": ""
                          }
                        },
                        "type": "scatterternary"
                      }
                    ],
                    "histogram": [
                      {
                        "marker": {
                          "colorbar": {
                            "outlinewidth": 0,
                            "ticks": ""
                          }
                        },
                        "type": "histogram"
                      }
                    ],
                    "heatmapgl": [
                      {
                        "colorbar": {
                          "outlinewidth": 0,
                          "ticks": ""
                        },
                        "type": "heatmapgl",
                        "colorscale": [
                          [
                            0,
                            "#0d0887"
                          ],
                          [
                            0.1111111111111111,
                            "#46039f"
                          ],
                          [
                            0.2222222222222222,
                            "#7201a8"
                          ],
                          [
                            0.3333333333333333,
                            "#9c179e"
                          ],
                          [
                            0.4444444444444444,
                            "#bd3786"
                          ],
                          [
                            0.5555555555555556,
                            "#d8576b"
                          ],
                          [
                            0.6666666666666666,
                            "#ed7953"
                          ],
                          [
                            0.7777777777777778,
                            "#fb9f3a"
                          ],
                          [
                            0.8888888888888888,
                            "#fdca26"
                          ],
                          [
                            1,
                            "#f0f921"
                          ]
                        ]
                      }
                    ],
                    "scatterpolar": [
                      {
                        "marker": {
                          "colorbar": {
                            "outlinewidth": 0,
                            "ticks": ""
                          }
                        },
                        "type": "scatterpolar"
                      }
                    ],
                    "histogram2d": [
                      {
                        "colorbar": {
                          "outlinewidth": 0,
                          "ticks": ""
                        },
                        "type": "histogram2d",
                        "colorscale": [
                          [
                            0,
                            "#0d0887"
                          ],
                          [
                            0.1111111111111111,
                            "#46039f"
                          ],
                          [
                            0.2222222222222222,
                            "#7201a8"
                          ],
                          [
                            0.3333333333333333,
                            "#9c179e"
                          ],
                          [
                            0.4444444444444444,
                            "#bd3786"
                          ],
                          [
                            0.5555555555555556,
                            "#d8576b"
                          ],
                          [
                            0.6666666666666666,
                            "#ed7953"
                          ],
                          [
                            0.7777777777777778,
                            "#fb9f3a"
                          ],
                          [
                            0.8888888888888888,
                            "#fdca26"
                          ],
                          [
                            1,
                            "#f0f921"
                          ]
                        ]
                      }
                    ],
                    "scattergeo": [
                      {
                        "marker": {
                          "colorbar": {
                            "outlinewidth": 0,
                            "ticks": ""
                          }
                        },
                        "type": "scattergeo"
                      }
                    ],
                    "bar": [
                      {
                        "marker": {
                          "line": {
                            "color": "#E5ECF6",
                            "width": 0.5
                          }
                        },
                        "type": "bar",
                        "error_x": {
                          "color": "#2a3f5f"
                        },
                        "error_y": {
                          "color": "#2a3f5f"
                        }
                      }
                    ],
                    "choropleth": [
                      {
                        "colorbar": {
                          "outlinewidth": 0,
                          "ticks": ""
                        },
                        "type": "choropleth"
                      }
                    ],
                    "parcoords": [
                      {
                        "line": {
                          "colorbar": {
                            "outlinewidth": 0,
                            "ticks": ""
                          }
                        },
                        "type": "parcoords"
                      }
                    ],
                    "barpolar": [
                      {
                        "marker": {
                          "line": {
                            "color": "#E5ECF6",
                            "width": 0.5
                          }
                        },
                        "type": "barpolar"
                      }
                    ],
                    "histogram2dcontour": [
                      {
                        "colorbar": {
                          "outlinewidth": 0,
                          "ticks": ""
                        },
                        "type": "histogram2dcontour",
                        "colorscale": [
                          [
                            0,
                            "#0d0887"
                          ],
                          [
                            0.1111111111111111,
                            "#46039f"
                          ],
                          [
                            0.2222222222222222,
                            "#7201a8"
                          ],
                          [
                            0.3333333333333333,
                            "#9c179e"
                          ],
                          [
                            0.4444444444444444,
                            "#bd3786"
                          ],
                          [
                            0.5555555555555556,
                            "#d8576b"
                          ],
                          [
                            0.6666666666666666,
                            "#ed7953"
                          ],
                          [
                            0.7777777777777778,
                            "#fb9f3a"
                          ],
                          [
                            0.8888888888888888,
                            "#fdca26"
                          ],
                          [
                            1,
                            "#f0f921"
                          ]
                        ]
                      }
                    ],
                    "scatter": [
                      {
                        "marker": {
                          "colorbar": {
                            "outlinewidth": 0,
                            "ticks": ""
                          }
                        },
                        "type": "scatter"
                      }
                    ]
                  }
                }
              }
            }
          },
          "metadata": {}
        }
      ]
    },
    {
      "cell_type": "code",
      "metadata": {
        "scrolled": true,
        "id": "u40oCVMikbhc",
        "colab": {
          "base_uri": "https://localhost:8080/"
        },
        "outputId": "da200457-5ca7-49bf-8547-5ab4eba34ee1"
      },
      "source": [
        "data.std()"
      ],
      "execution_count": null,
      "outputs": [
        {
          "output_type": "execute_result",
          "data": {
            "text/plain": [
              "f1      488.195035\n",
              "f2    10403.417325\n",
              "f3        2.926662\n",
              "y         0.501255\n",
              "dtype: float64"
            ]
          },
          "metadata": {},
          "execution_count": 42
        }
      ]
    },
    {
      "cell_type": "code",
      "metadata": {
        "id": "yQIbNaHskbhe",
        "colab": {
          "base_uri": "https://localhost:8080/"
        },
        "outputId": "910805a2-af5b-481f-ef58-1a4af2538db2"
      },
      "source": [
        "X=data[['f1','f2','f3']].values\n",
        "y=data['y'].values\n",
        "print(X.shape)\n",
        "print(y.shape)"
      ],
      "execution_count": null,
      "outputs": [
        {
          "output_type": "stream",
          "name": "stdout",
          "text": [
            "(200, 3)\n",
            "(200,)\n"
          ]
        }
      ]
    },
    {
      "cell_type": "markdown",
      "metadata": {
        "id": "aUxp9-qEkbhh"
      },
      "source": [
        "# What if our features are with different variance \n",
        "\n",
        "<pre>\n",
        "* <b>As part of this task you will observe how linear models work in case of data having feautres with different variance</b>\n",
        "* <b>from the output of the above cells you can observe that var(F2)>>var(F1)>>Var(F3)</b>\n",
        "\n",
        "> <b>Task1</b>:\n",
        "    1. Apply Logistic regression(SGDClassifier with logloss) on 'data' and check the feature importance\n",
        "    2. Apply SVM(SGDClassifier with hinge) on 'data' and check the feature importance\n",
        "\n",
        "> <b>Task2</b>:\n",
        "    1. Apply Logistic regression(SGDClassifier with logloss) on 'data' after standardization \n",
        "       i.e standardization(data, column wise): (column-mean(column))/std(column) and check the feature importance\n",
        "    2. Apply SVM(SGDClassifier with hinge) on 'data' after standardization \n",
        "       i.e standardization(data, column wise): (column-mean(column))/std(column) and check the feature importance\n",
        "\n",
        "</pre>"
      ]
    },
    {
      "cell_type": "code",
      "metadata": {
        "id": "pE5tGDPTflew"
      },
      "source": [
        "def svm_clf_w_stand(X,y):\n",
        "  svm_clf = Pipeline([\n",
        "                  (\"scalar\",StandardScaler()),(\"clf\",SGDClassifier(loss = \"hinge\",random_state=42))\n",
        "  ])\n",
        "  svm_clf.fit(X,y)\n",
        "  return svm_clf[1].coef_\n",
        "\n",
        "def log_reg_w_stand(X,y):\n",
        "  log_reg_clf = Pipeline([\n",
        "                  (\"scalar\",StandardScaler()),(\"clf\",SGDClassifier(loss = \"log\",random_state=42))\n",
        "  ])\n",
        "  log_reg_clf.fit(X,y)\n",
        "  return log_reg_clf[1].coef\n",
        "\n",
        "def svm_clf_wo_stand(X,y):\n",
        "  svm_wo_std = SGDClassifier(loss = \"hinge\",random_state=42)\n",
        "  svm_wo_std.fit(X,y)\n",
        "  return svm_wo_std.coef_\n",
        "\n",
        "def log_reg_w_stand(X,y):\n",
        "  logreg_wo_std = SGDClassifier(loss = \"log\",random_state=42)\n",
        "  logreg_wo_std.fit(X,y)\n",
        "  return logreg_wo_std.coef_\n"
      ],
      "execution_count": null,
      "outputs": []
    },
    {
      "cell_type": "code",
      "metadata": {
        "id": "xKiKzVpsh-4n",
        "colab": {
          "base_uri": "https://localhost:8080/"
        },
        "outputId": "9634db9b-835a-4168-d72d-6d58541aa464"
      },
      "source": [
        "#Task1:\n",
        "svm_weights_wo=svm_clf_wo_stand(X,y)\n",
        "norm_svm_wts_wo=svm_weights_wo/(svm_weights_wo.sum()+1e-8)\n",
        "norm_svm_wts_wo\n",
        "#because f2 has so high variance(1000) inspite of low corr with y(-0.017) , and f3 has so low variance yet v.good predictor of y(corr with y being high{0.83})\n",
        "#the weight of f2 has also become equivalent to that of f3\n",
        "#this issue, you will find in the application with std in task 2 being addressed"
      ],
      "execution_count": null,
      "outputs": [
        {
          "output_type": "execute_result",
          "data": {
            "text/plain": [
              "array([[-0.62645192,  0.82536052,  0.8010914 ]])"
            ]
          },
          "metadata": {},
          "execution_count": 44
        }
      ]
    },
    {
      "cell_type": "code",
      "metadata": {
        "id": "FmQVTH_Gj3t3",
        "colab": {
          "base_uri": "https://localhost:8080/"
        },
        "outputId": "7d296e8b-6825-411b-a993-5e72a5cc23a1"
      },
      "source": [
        "#tak2 \n",
        "svm_weights_w = svm_clf_w_stand(X,y)\n",
        "norm_svm_wts_w=svm_weights_w/svm_weights_w.sum()\n",
        "norm_svm_wts_w"
      ],
      "execution_count": null,
      "outputs": [
        {
          "output_type": "execute_result",
          "data": {
            "text/plain": [
              "array([[-0.14032676,  0.17347245,  0.96685431]])"
            ]
          },
          "metadata": {},
          "execution_count": 47
        }
      ]
    },
    {
      "cell_type": "code",
      "metadata": {
        "colab": {
          "base_uri": "https://localhost:8080/"
        },
        "id": "JtwWLZbUG6IA",
        "outputId": "533aaff5-eedf-4dbc-a678-8c09d7f8d54d"
      },
      "source": [
        "data.corr()['y']"
      ],
      "execution_count": null,
      "outputs": [
        {
          "output_type": "execute_result",
          "data": {
            "text/plain": [
              "f1    0.067172\n",
              "f2   -0.017944\n",
              "f3    0.839060\n",
              "y     1.000000\n",
              "Name: y, dtype: float64"
            ]
          },
          "metadata": {},
          "execution_count": 17
        }
      ]
    },
    {
      "cell_type": "code",
      "metadata": {
        "id": "FUu92BuKQXK1",
        "colab": {
          "base_uri": "https://localhost:8080/"
        },
        "outputId": "097dabf1-eb44-4df3-c8ba-68632ac82b82"
      },
      "source": [
        "norm_svm_wts_wo - norm_svm_wts_w"
      ],
      "execution_count": null,
      "outputs": [
        {
          "output_type": "execute_result",
          "data": {
            "text/plain": [
              "array([[-0.48612517,  0.65188807, -0.16576291]])"
            ]
          },
          "metadata": {},
          "execution_count": 19
        }
      ]
    },
    {
      "cell_type": "code",
      "metadata": {
        "id": "u4VCUC0gR6Kk",
        "colab": {
          "base_uri": "https://localhost:8080/"
        },
        "outputId": "4b2aa7a5-5d19-405d-f760-a88ed32f506a"
      },
      "source": [
        "log_weights_w = log_reg_w_stand(X,y)\n",
        "norm_log_weights_w=log_weights_w/log_weights_w.sum()\n",
        "norm_log_weights_w"
      ],
      "execution_count": null,
      "outputs": [
        {
          "output_type": "execute_result",
          "data": {
            "text/plain": [
              "array([[ 0.95513528, -1.15505777,  1.19992249]])"
            ]
          },
          "metadata": {},
          "execution_count": 64
        }
      ]
    },
    {
      "cell_type": "code",
      "metadata": {
        "id": "54gDV191AYs-"
      },
      "source": [
        "#https://stats.stackexchange.com/questions/226381/what-is-the-effect-of-low-variance-features-on-machine-learning-models\n",
        "#the variance should not be decisive factor in surmising about its influence on prediction\n",
        "#reasons: 1. variaance can be arbitrary in the sense that it involves unit. \n",
        "#         2. low variance data can show high correlation with 'y' and can be a good predictor, which is the case here."
      ],
      "execution_count": null,
      "outputs": []
    },
    {
      "cell_type": "markdown",
      "metadata": {
        "id": "TbMnsrxakbhi"
      },
      "source": [
        "<h3><font color='blue'> Make sure you write the observations for each task, why a particular feautre got more importance than others</font></h3>"
      ]
    }
  ]
}