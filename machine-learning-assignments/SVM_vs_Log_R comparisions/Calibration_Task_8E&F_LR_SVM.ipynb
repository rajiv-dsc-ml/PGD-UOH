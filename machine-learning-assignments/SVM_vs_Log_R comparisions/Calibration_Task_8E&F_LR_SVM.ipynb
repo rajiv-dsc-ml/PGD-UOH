{
  "nbformat": 4,
  "nbformat_minor": 0,
  "metadata": {
    "kernelspec": {
      "display_name": "Python 3",
      "language": "python",
      "name": "python3"
    },
    "language_info": {
      "codemirror_mode": {
        "name": "ipython",
        "version": 3
      },
      "file_extension": ".py",
      "mimetype": "text/x-python",
      "name": "python",
      "nbconvert_exporter": "python",
      "pygments_lexer": "ipython3",
      "version": "3.6.8"
    },
    "colab": {
      "name": "Calibration Task:8E&F_LR_SVM.ipynb",
      "provenance": [],
      "collapsed_sections": []
    }
  },
  "cells": [
    {
      "cell_type": "markdown",
      "metadata": {
        "id": "5HExLQrE4ZxR"
      },
      "source": [
        "<h1><font color='blue'> 8E and 8F: Finding the Probability P(Y==1|X)</font></h1>"
      ]
    },
    {
      "cell_type": "markdown",
      "metadata": {
        "id": "4LuKrFzC4ZxV"
      },
      "source": [
        "<h2><font color='Geen'> 8E: Implementing Decision Function of SVM RBF Kernel</font></h2>"
      ]
    },
    {
      "cell_type": "markdown",
      "metadata": {
        "id": "1wES-wWN4ZxX"
      },
      "source": [
        "<font face=' Comic Sans MS' size=3>After we train a kernel SVM model, we will be getting support vectors and their corresponsing coefficients $\\alpha_{i}$\n",
        "\n",
        "Check the documentation for better understanding of these attributes: \n",
        "\n",
        "https://scikit-learn.org/stable/modules/generated/sklearn.svm.SVC.html\n",
        "<img src='https://i.imgur.com/K11msU4.png' width=500>\n",
        "\n",
        "As a part of this assignment you will be implementing the ```decision_function()``` of kernel SVM, here decision_function() means based on the value return by ```decision_function()``` model will classify the data point either as positive or negative\n",
        "\n",
        "Ex 1: In logistic regression After traning the models with the optimal weights $w$ we get, we will find the value $\\frac{1}{1+\\exp(-(wx+b))}$, if this value comes out to be < 0.5 we will mark it as negative class, else its positive class\n",
        "\n",
        "Ex 2: In Linear SVM After traning the models with the optimal weights $w$ we get, we will find the value of $sign(wx+b)$, if this value comes out to be -ve we will mark it as negative class, else its positive class.\n",
        "\n",
        "Similarly in Kernel SVM After traning the models with the coefficients $\\alpha_{i}$ we get, we will find the value of \n",
        "$sign(\\sum_{i=1}^{n}(y_{i}\\alpha_{i}K(x_{i},x_{q})) + intercept)$, here $K(x_{i},x_{q})$ is the RBF kernel. If this value comes out to be -ve we will mark $x_{q}$ as negative class, else its positive class.\n",
        "\n",
        "RBF kernel is defined as: $K(x_{i},x_{q})$ = $exp(-\\gamma ||x_{i} - x_{q}||^2)$\n",
        "\n",
        "For better understanding check this link: https://scikit-learn.org/stable/modules/svm.html#svm-mathematical-formulation\n",
        "</font>"
      ]
    },
    {
      "cell_type": "markdown",
      "metadata": {
        "id": "z830CfMk4Zxa"
      },
      "source": [
        "## Task E"
      ]
    },
    {
      "cell_type": "markdown",
      "metadata": {
        "id": "MuBxHiCQ4Zxc"
      },
      "source": [
        "> 1. Split the data into $X_{train}$(60), $X_{cv}$(20), $X_{test}$(20)\n",
        "\n",
        "> 2. Train $SVC(gamma=0.001, C=100.)$ on the ($X_{train}$, $y_{train}$)\n",
        "\n",
        "> 3. Get the decision boundry values $f_{cv}$ on the $X_{cv}$ data  i.e. ` `$f_{cv}$ ```= decision_function(```$X_{cv}$```)```  <font color='red'>you need to implement this decision_function()</font>"
      ]
    },
    {
      "cell_type": "code",
      "metadata": {
        "id": "fCgMNEvI4Zxf"
      },
      "source": [
        "import numpy as np\n",
        "import pandas as pd\n",
        "from sklearn.datasets import make_classification\n",
        "import numpy as np\n",
        "from sklearn.svm import SVC"
      ],
      "execution_count": null,
      "outputs": []
    },
    {
      "cell_type": "code",
      "metadata": {
        "id": "ANUNIqCe4Zxn",
        "colab": {
          "base_uri": "https://localhost:8080/",
          "height": 573
        },
        "outputId": "134da84a-a06c-48f1-c7a9-38c48e2155f8"
      },
      "source": [
        "X, y = make_classification(n_samples=5000, n_features=5, n_redundant=2,\n",
        "                           n_classes=2, weights=[0.7], class_sep=0.7, random_state=15)\n",
        "#from sklearn.model_selection import train_test_split\n",
        "\n",
        "#train, test = train_test_split(df, test_size=0.2)\n",
        "\n",
        "#np.vstack(X,y)\n",
        "#print(y.shape)\n",
        "y = np.reshape(y,(len(y),1))\n",
        "#print(y.shape)\n",
        "data=np.hstack((X,y))\n",
        "print(y.dtype)\n",
        "\n",
        "df = pd.DataFrame(data = data, columns=['f1','f2','f3','f4','f5','y'])\n",
        "\n",
        "print(df.dtypes)\n",
        "df['y'] = df['y'].apply(lambda y_ele: int(y_ele))\n",
        "print(df.dtypes)\n",
        "df['y'][df['y']==0]=-1\n",
        "df.head(5)\n"
      ],
      "execution_count": null,
      "outputs": [
        {
          "output_type": "stream",
          "name": "stdout",
          "text": [
            "int64\n",
            "f1    float64\n",
            "f2    float64\n",
            "f3    float64\n",
            "f4    float64\n",
            "f5    float64\n",
            "y     float64\n",
            "dtype: object\n",
            "f1    float64\n",
            "f2    float64\n",
            "f3    float64\n",
            "f4    float64\n",
            "f5    float64\n",
            "y       int64\n",
            "dtype: object\n"
          ]
        },
        {
          "output_type": "stream",
          "name": "stderr",
          "text": [
            "/usr/local/lib/python3.7/dist-packages/ipykernel_launcher.py:19: SettingWithCopyWarning: \n",
            "A value is trying to be set on a copy of a slice from a DataFrame\n",
            "\n",
            "See the caveats in the documentation: https://pandas.pydata.org/pandas-docs/stable/user_guide/indexing.html#returning-a-view-versus-a-copy\n"
          ]
        },
        {
          "output_type": "execute_result",
          "data": {
            "text/html": [
              "<div>\n",
              "<style scoped>\n",
              "    .dataframe tbody tr th:only-of-type {\n",
              "        vertical-align: middle;\n",
              "    }\n",
              "\n",
              "    .dataframe tbody tr th {\n",
              "        vertical-align: top;\n",
              "    }\n",
              "\n",
              "    .dataframe thead th {\n",
              "        text-align: right;\n",
              "    }\n",
              "</style>\n",
              "<table border=\"1\" class=\"dataframe\">\n",
              "  <thead>\n",
              "    <tr style=\"text-align: right;\">\n",
              "      <th></th>\n",
              "      <th>f1</th>\n",
              "      <th>f2</th>\n",
              "      <th>f3</th>\n",
              "      <th>f4</th>\n",
              "      <th>f5</th>\n",
              "      <th>y</th>\n",
              "    </tr>\n",
              "  </thead>\n",
              "  <tbody>\n",
              "    <tr>\n",
              "      <th>0</th>\n",
              "      <td>0.353756</td>\n",
              "      <td>0.289293</td>\n",
              "      <td>0.485230</td>\n",
              "      <td>0.622031</td>\n",
              "      <td>-1.249362</td>\n",
              "      <td>-1</td>\n",
              "    </tr>\n",
              "    <tr>\n",
              "      <th>1</th>\n",
              "      <td>0.204255</td>\n",
              "      <td>1.604311</td>\n",
              "      <td>-0.065753</td>\n",
              "      <td>-0.004749</td>\n",
              "      <td>1.548880</td>\n",
              "      <td>1</td>\n",
              "    </tr>\n",
              "    <tr>\n",
              "      <th>2</th>\n",
              "      <td>-1.297654</td>\n",
              "      <td>-0.534487</td>\n",
              "      <td>0.236149</td>\n",
              "      <td>0.270045</td>\n",
              "      <td>-1.174866</td>\n",
              "      <td>-1</td>\n",
              "    </tr>\n",
              "    <tr>\n",
              "      <th>3</th>\n",
              "      <td>-0.361043</td>\n",
              "      <td>-1.127174</td>\n",
              "      <td>-0.485456</td>\n",
              "      <td>-0.662865</td>\n",
              "      <td>0.546729</td>\n",
              "      <td>1</td>\n",
              "    </tr>\n",
              "    <tr>\n",
              "      <th>4</th>\n",
              "      <td>-1.305640</td>\n",
              "      <td>-0.838459</td>\n",
              "      <td>0.110520</td>\n",
              "      <td>0.097911</td>\n",
              "      <td>-1.043686</td>\n",
              "      <td>-1</td>\n",
              "    </tr>\n",
              "  </tbody>\n",
              "</table>\n",
              "</div>"
            ],
            "text/plain": [
              "         f1        f2        f3        f4        f5  y\n",
              "0  0.353756  0.289293  0.485230  0.622031 -1.249362 -1\n",
              "1  0.204255  1.604311 -0.065753 -0.004749  1.548880  1\n",
              "2 -1.297654 -0.534487  0.236149  0.270045 -1.174866 -1\n",
              "3 -0.361043 -1.127174 -0.485456 -0.662865  0.546729  1\n",
              "4 -1.305640 -0.838459  0.110520  0.097911 -1.043686 -1"
            ]
          },
          "metadata": {},
          "execution_count": 2
        }
      ]
    },
    {
      "cell_type": "code",
      "metadata": {
        "colab": {
          "base_uri": "https://localhost:8080/",
          "height": 297
        },
        "id": "3pE2l7dHk2Yu",
        "outputId": "5e2f9d4a-0e91-45b6-8686-b3930025f7c4"
      },
      "source": [
        "import seaborn as sns\n",
        "\n",
        "sns.histplot(data = df, x = 'y')"
      ],
      "execution_count": null,
      "outputs": [
        {
          "output_type": "execute_result",
          "data": {
            "text/plain": [
              "<matplotlib.axes._subplots.AxesSubplot at 0x7f7b79d13890>"
            ]
          },
          "metadata": {},
          "execution_count": 3
        },
        {
          "output_type": "display_data",
          "data": {
            "image/png": "[encoded data removed]",
            "text/plain": [
              "<Figure size 432x288 with 1 Axes>"
            ]
          },
          "metadata": {
            "needs_background": "light"
          }
        }
      ]
    },
    {
      "cell_type": "code",
      "metadata": {
        "colab": {
          "base_uri": "https://localhost:8080/",
          "height": 112
        },
        "id": "odkZzMMmp882",
        "outputId": "1c3bd8e4-eba0-424c-8996-12a35c15808b"
      },
      "source": [
        "df.groupby('y')['y'].count().reset_index(name ='count')"
      ],
      "execution_count": null,
      "outputs": [
        {
          "output_type": "execute_result",
          "data": {
            "text/html": [
              "<div>\n",
              "<style scoped>\n",
              "    .dataframe tbody tr th:only-of-type {\n",
              "        vertical-align: middle;\n",
              "    }\n",
              "\n",
              "    .dataframe tbody tr th {\n",
              "        vertical-align: top;\n",
              "    }\n",
              "\n",
              "    .dataframe thead th {\n",
              "        text-align: right;\n",
              "    }\n",
              "</style>\n",
              "<table border=\"1\" class=\"dataframe\">\n",
              "  <thead>\n",
              "    <tr style=\"text-align: right;\">\n",
              "      <th></th>\n",
              "      <th>y</th>\n",
              "      <th>count</th>\n",
              "    </tr>\n",
              "  </thead>\n",
              "  <tbody>\n",
              "    <tr>\n",
              "      <th>0</th>\n",
              "      <td>-1</td>\n",
              "      <td>3486</td>\n",
              "    </tr>\n",
              "    <tr>\n",
              "      <th>1</th>\n",
              "      <td>1</td>\n",
              "      <td>1514</td>\n",
              "    </tr>\n",
              "  </tbody>\n",
              "</table>\n",
              "</div>"
            ],
            "text/plain": [
              "   y  count\n",
              "0 -1   3486\n",
              "1  1   1514"
            ]
          },
          "metadata": {},
          "execution_count": 4
        }
      ]
    },
    {
      "cell_type": "markdown",
      "metadata": {
        "id": "tHie1zqH4Zxt"
      },
      "source": [
        "### Pseudo code\n",
        "\n",
        "clf = SVC(gamma=0.001, C=100.)<br>\n",
        "clf.fit(Xtrain, ytrain)\n",
        "\n",
        "<font color='green'>def</font> <font color='blue'>decision_function</font>(Xcv, ...): #use appropriate parameters <br>\n",
        "&nbsp;&nbsp;&nbsp;&nbsp;&nbsp;&nbsp;<font color='green'>for</font> a data point $x_q$ <font color='green'>in</font> Xcv: <br>\n",
        "&nbsp;&nbsp;&nbsp;&nbsp;&nbsp;&nbsp;&nbsp;&nbsp;&nbsp;&nbsp;&nbsp;&nbsp;<font color='grey'>#write code to implement $(\\sum_{i=1}^{\\text{all the support vectors}}(y_{i}\\alpha_{i}K(x_{i},x_{q})) + intercept)$, here the values $y_i$, $\\alpha_{i}$, and $intercept$ can be obtained from the trained model</font><br>\n",
        "   <font color='green'>return</font> <font color='grey'><i># the decision_function output for all the data points in the Xcv</i></font>\n",
        "    \n",
        "fcv = decision_function(Xcv, ...)  <i># based on your requirement you can pass any other parameters </i>\n",
        "\n",
        "<b>Note</b>: Make sure the values you get as fcv, should be equal to outputs of clf.decision_function(Xcv)\n"
      ]
    },
    {
      "cell_type": "code",
      "metadata": {
        "id": "h43kDT3M41u5"
      },
      "source": [
        "# you can write your code here\n",
        "\n",
        "from sklearn.model_selection import train_test_split\n",
        "\n",
        "train, test = train_test_split(df, test_size=0.2)\n",
        "train, cv = train_test_split(train, test_size = 0.25)\n",
        "\n",
        "assert(train.shape == (3000,6) and cv.shape == (1000,6) and test.shape == (1000,6))\n"
      ],
      "execution_count": null,
      "outputs": []
    },
    {
      "cell_type": "code",
      "metadata": {
        "id": "co7pMAqa1niW"
      },
      "source": [
        "#Xtrain, ytrain, Xcv, ycv, Xtest, ytest\n",
        "Xtrain = train.drop(['y'], axis=1).values\n",
        "ytrain = train['y'].values\n",
        "\n",
        "Xcv = cv.drop(['y'], axis=1).values\n",
        "ycv = cv['y'].values\n",
        "\n",
        "Xtest = test.drop(['y'], axis=1).values\n",
        "ytest = test['y'].values\n"
      ],
      "execution_count": null,
      "outputs": []
    },
    {
      "cell_type": "code",
      "metadata": {
        "colab": {
          "base_uri": "https://localhost:8080/"
        },
        "id": "iYJlMwpb2W-M",
        "outputId": "2736d012-b542-40e2-c5e7-ee12eb6e3d90"
      },
      "source": [
        "Xtrain.shape"
      ],
      "execution_count": null,
      "outputs": [
        {
          "output_type": "execute_result",
          "data": {
            "text/plain": [
              "(3000, 5)"
            ]
          },
          "metadata": {},
          "execution_count": 7
        }
      ]
    },
    {
      "cell_type": "code",
      "metadata": {
        "colab": {
          "base_uri": "https://localhost:8080/"
        },
        "id": "P6qvQNJ_7eeV",
        "outputId": "1ccaff06-fefe-46e5-97e0-9197c01124c5"
      },
      "source": [
        "from sklearn.preprocessing import StandardScaler\n",
        "from sklearn.pipeline import Pipeline\n",
        "\n",
        "rbf_svm = Pipeline([\n",
        "                    (\"scalar\", StandardScaler()), (\"svm_clf\", SVC(gamma=0.001,C=100))\n",
        "])\n",
        "\n",
        "rbf_svm.fit(Xtrain, ytrain)\n",
        "print(\"train_error\", np.count_nonzero(rbf_svm.predict(Xtrain) - ytrain)*100/len(ytrain), \"%\")\n",
        "\n",
        "print(\"cv_error\", np.count_nonzero(rbf_svm.predict(Xcv) - ycv)*100/len(ycv), \"%\")"
      ],
      "execution_count": null,
      "outputs": [
        {
          "output_type": "stream",
          "name": "stdout",
          "text": [
            "train_error 7.3 %\n",
            "cv_error 8.1 %\n"
          ]
        }
      ]
    },
    {
      "cell_type": "code",
      "metadata": {
        "id": "TCLUkj8X8qw-"
      },
      "source": [
        " #rbf_svm.decision_function(Xcv)"
      ],
      "execution_count": null,
      "outputs": []
    },
    {
      "cell_type": "code",
      "metadata": {
        "id": "igI11Ugr6ZJV"
      },
      "source": [
        "rbf_svm.predict(Xtrain)\n",
        "#(∑all the support vectorsi=1(yiαiK(xi,xq))+intercept)\n",
        "#how to extract alpha'is\n",
        "##https://stackoverflow.com/questions/33860938/how-to-get-all-alpha-values-of-scikit-learn-svm-classifier\n",
        "##alphas = np.abs(svm.dual_coef_), but why?\n",
        "## svm.dual_coef_ is the product of the Lagrange multiplier alpha and the label of a data point. \n",
        "##and sklearn.model.SVC internally works with label -1 and 1\n",
        "\n",
        "\n",
        "#retrieving support vectors and dual coefficients\n",
        "dual_cof = rbf_svm[1].dual_coef_\n",
        "dual_cof=np.reshape(dual_cof,(dual_cof.shape[1],))\n",
        "sup_vectors = rbf_svm[1].support_vectors_"
      ],
      "execution_count": null,
      "outputs": []
    },
    {
      "cell_type": "code",
      "metadata": {
        "id": "yfuAPMOzpvPL"
      },
      "source": [
        "def rbf_similarity(x1, x2, gamma= 0.001):\n",
        "  dist=((x1-x2)**2).sum(axis=1)*0.001\n",
        "  #print(dist)\n",
        "  return np.exp(-dist)"
      ],
      "execution_count": null,
      "outputs": []
    },
    {
      "cell_type": "code",
      "metadata": {
        "id": "HeqFgbyI6AIq"
      },
      "source": [
        "cv_class = list()\n",
        "for ele in Xcv:\n",
        "  similarity_mat = rbf_similarity(sup_vectors, ele)\n",
        "  #print(X)\n",
        "  #print(similarity_mat)\n",
        "  c = (dual_cof*similarity_mat).sum() + rbf_svm[1].intercept_[0]\n",
        "  cv_class.append(c)"
      ],
      "execution_count": null,
      "outputs": []
    },
    {
      "cell_type": "code",
      "metadata": {
        "colab": {
          "base_uri": "https://localhost:8080/"
        },
        "id": "VusBXPczdOtJ",
        "outputId": "cf78dfaa-dd58-4f9a-a828-746995db6bc4"
      },
      "source": [
        "rbf_svm[1].intercept_"
      ],
      "execution_count": null,
      "outputs": [
        {
          "output_type": "execute_result",
          "data": {
            "text/plain": [
              "array([4.47845689])"
            ]
          },
          "metadata": {},
          "execution_count": 13
        }
      ]
    },
    {
      "cell_type": "code",
      "metadata": {
        "id": "T-0zTXg5B9AI"
      },
      "source": [
        ""
      ],
      "execution_count": null,
      "outputs": []
    },
    {
      "cell_type": "code",
      "metadata": {
        "colab": {
          "base_uri": "https://localhost:8080/"
        },
        "id": "4gI6WW78TwqF",
        "outputId": "b38b9f39-26bd-4a2d-e04b-d8bac511d57f"
      },
      "source": [
        "np.count_nonzero(np.sign(rbf_svm[1].decision_function(Xcv)) == np.sign(np.array(cv_class)))/len(np.sign(rbf_svm[1].decision_function(Xcv)) == np.sign(np.array(cv_class)))\n",
        "\n",
        "(rbf_svm[1].decision_function(Xcv)) - (np.array(cv_class)) < 1e-7"
      ],
      "execution_count": null,
      "outputs": [
        {
          "output_type": "execute_result",
          "data": {
            "text/plain": [
              "1.0"
            ]
          },
          "metadata": {},
          "execution_count": 14
        }
      ]
    },
    {
      "cell_type": "code",
      "metadata": {
        "id": "ejAEe53ezMHE"
      },
      "source": [
        ""
      ],
      "execution_count": null,
      "outputs": []
    },
    {
      "cell_type": "markdown",
      "metadata": {
        "id": "c0bKCboN4Zxu"
      },
      "source": [
        "<h2><font color='Geen'> 8F: Implementing Platt Scaling to find P(Y==1|X)</font></h2>"
      ]
    },
    {
      "cell_type": "markdown",
      "metadata": {
        "id": "nMn7OEN94Zxw"
      },
      "source": [
        "Check this <a href='https://drive.google.com/open?id=133odBinMOIVb_rh_GQxxsyMRyW-Zts7a'>PDF</a>\n",
        "<img src='https://i.imgur.com/CAMnVnh.png'>\n"
      ]
    },
    {
      "cell_type": "markdown",
      "metadata": {
        "id": "e0n5EFkx4Zxz"
      },
      "source": [
        "## TASK F"
      ]
    },
    {
      "cell_type": "markdown",
      "metadata": {
        "id": "t0HOqVJq4Zx1"
      },
      "source": [
        "\n",
        "> 4. Apply SGD algorithm with ($f_{cv}$, $y_{cv}$) and find the weight $W$ intercept $b$ ```Note: here our data is of one dimensional so we will have a one dimensional weight vector i.e W.shape (1,)``` \n",
        "\n",
        "> Note1: Don't forget to change the values of $y_{cv}$ as mentioned in the above image. you will calculate y+, y- based on data points in train data\n",
        "\n",
        "> Note2: the Sklearn's SGD algorithm doesn't support the real valued outputs, you need to use the code that was done in the `'Logistic Regression with SGD and L2'` Assignment after modifying loss function, and use same parameters that used in that assignment.\n",
        "<img src='https://i.imgur.com/zKYE9Oc.png'>\n",
        "if Y[i] is 1, it will be replaced with y+ value else it will replaced with y- value\n",
        "\n",
        "> 5. For a given data point from $X_{test}$, $P(Y=1|X) = \\frac{1}{1+exp(-(W*f_{test}+ b))}$ where ` `$f_{test}$ ```= decision_function(```$X_{test}$```)```, W and b will be learned as metioned in the above step"
      ]
    },
    {
      "cell_type": "code",
      "metadata": {
        "colab": {
          "base_uri": "https://localhost:8080/"
        },
        "id": "b2BO5C37ucQN",
        "outputId": "66ef7a0d-78ea-4a33-8bfc-b9d79cfd9e50"
      },
      "source": [
        "from collections import Counter\n",
        "\n",
        "ytrain_count=Counter(ytrain)\n",
        "ycv_count = Counter(ycv)\n",
        "print(ytrain_count)\n",
        "print(ycv_count)"
      ],
      "execution_count": null,
      "outputs": [
        {
          "output_type": "stream",
          "name": "stdout",
          "text": [
            "Counter({-1: 2078, 1: 922})\n",
            "Counter({-1: 697, 1: 303})\n"
          ]
        }
      ]
    },
    {
      "cell_type": "code",
      "metadata": {
        "id": "ZLBE6HzszUVe"
      },
      "source": [
        "def sigmoid(z):\n",
        "    ''' In this function, we will return sigmoid of z'''\n",
        "    # compute sigmoid(z) and return\n",
        "    sig = 1/(1+np.exp(-z))\n",
        "    return sig"
      ],
      "execution_count": null,
      "outputs": []
    },
    {
      "cell_type": "code",
      "metadata": {
        "colab": {
          "base_uri": "https://localhost:8080/",
          "height": 35
        },
        "id": "tixUqm_Loo4x",
        "outputId": "1273356a-58cf-4f6f-d8ff-defd2b88d425"
      },
      "source": [
        "nplus = ycv_count[1]\n",
        "nminus= ycv_count[-1]\n",
        "\n",
        "#sum of yplus and yminus = 1 , they are kind of probabilities.\n",
        "yplus = (nplus + 1)/(nplus + 2) \n",
        "yminus = 1/(nminus+2)\n",
        "\n",
        "\"\"\"ycv_modified = ycv\n",
        "ycv_modified[ycv_modified == -1] = yminus\n",
        "ycv_modified[ycv_modified == 1] = yplus\"\"\""
      ],
      "execution_count": null,
      "outputs": [
        {
          "output_type": "execute_result",
          "data": {
            "application/vnd.google.colaboratory.intrinsic+json": {
              "type": "string"
            },
            "text/plain": [
              "'ycv_modified = ycv\\nycv_modified[ycv_modified == -1] = yminus\\nycv_modified[ycv_modified == 1] = yplus'"
            ]
          },
          "metadata": {},
          "execution_count": 17
        }
      ]
    },
    {
      "cell_type": "code",
      "metadata": {
        "id": "AulWZkNjyxFt"
      },
      "source": [
        "import copy\n",
        "\n",
        "ynew = copy.deepcopy(ycv) #making a deep copy of ycv. In this copy , we replace +1 with yplus and yminus\n",
        "ynew = ynew.astype('float') #how could an array with 'int' data-types ever take in a float value\n",
        "\n",
        "ynew[ynew==-1.0 ] = yminus\n",
        "ynew[ynew==1.0 ] = yplus\n",
        "\n",
        "fcv = np.array(cv_class)#cv_class is a list which was the answer of 8E. It is equivalent to clf.decision_function(Xcv)\n",
        "#fcv will act as training_X and ynew will be training_y for the model by which we wish to predict the calibrated probabilities, which we are interested in \n"
      ],
      "execution_count": null,
      "outputs": []
    },
    {
      "cell_type": "code",
      "metadata": {
        "id": "lDgkaKJt58i0"
      },
      "source": [
        "def gradient_dw(x,y,w,b,alpha,N):\n",
        "    '''In this function, we will compute the gardient w.r.to w '''\n",
        "    z = np.dot(w,x) + b\n",
        "    dw = x*(y-sigmoid(z)) - alpha*w/N\n",
        "    return dw"
      ],
      "execution_count": null,
      "outputs": []
    },
    {
      "cell_type": "code",
      "metadata": {
        "id": "F3B2hPmy4Pwt"
      },
      "source": [
        "def initialize_weights(dim):\n",
        "    ''' In this function, we will initialize our weights and bias'''\n",
        "    #initialize the weights to zeros array of (1,dim) dimensions\n",
        "    #you use zeros_like function to initialize zero, check this link https://docs.scipy.org/doc/numpy/reference/generated/numpy.zeros_like.html\n",
        "    #initialize bias to zero\n",
        "    w = np.zeros_like(dim)\n",
        "    b = 0.0\n",
        "\n",
        "    return w,b"
      ],
      "execution_count": null,
      "outputs": []
    },
    {
      "cell_type": "code",
      "metadata": {
        "id": "oNlHCNqQ6og7"
      },
      "source": [
        " def gradient_db(x,y,w,b):\n",
        "     '''In this function, we will compute gradient w.r.to b '''\n",
        "     z = np.dot(w,x) + b\n",
        "     db = y - sigmoid(z)\n",
        "     return db"
      ],
      "execution_count": null,
      "outputs": []
    },
    {
      "cell_type": "code",
      "metadata": {
        "id": "IL8Jt7mU4ZiX"
      },
      "source": [
        "#I have taken this logoss function from my earlier done assignment and modified it\n",
        "#the logic is for an epoch, after updating weight and calculating predicted probabilities, we send this list as y_pred and ynew will be sent as y_true\n",
        "# I have added yminus and yplus , so this algo can be used for other sets too\n",
        "def logloss(y_true,y_pred, yminus, yplus):\n",
        "    '''In this function, we will compute log loss '''\n",
        "    #y_pred is nothing but a bounded relative measure of distance from the supposed plane(of Log Regrn(ws and b)). \n",
        "    #where measure like 0.99 means a pt far away from the plane in the direction of label(1), 0.002 means a pt far away from the plane in the direction of label(0)\n",
        "    #and 0.5 means the pt is on the plane\n",
        "    #log-loss penalises on 2 bases: 1. the farther away is good, so distance-measure like 0.99 an 0.002 ought to be penalised less. It is like \n",
        "    #\"do you stay in north or south of equator?\" The farther away you are from the equator surer you are to be not confused.[think of visiting kenya]\n",
        "    #2. However, higher distance must be penalised when the device misclassified the one direction[South or North]\n",
        "    #another way to look at it is that the sigmoid is probability of a point being 1 . we know that log-loss fn respects the respective probabs according to their labels\n",
        "    #if a pt has probab of 0.03 for being classified as 1 , it is the same saying it is 0.97 probable to be classiffied as 0.\n",
        "    #i.e, log-loss only once look at the label-value to understand which language too respect\n",
        "\n",
        "    #we use this logic to make the code simpler as following\n",
        "\n",
        "    loss_list = []\n",
        "    for y, pred in zip(y_true, y_pred):\n",
        "      each_loss = -(y*np.log10(pred) + (1-y)*np.log10(1-pred))\n",
        "      loss_list.append(each_loss)\n",
        "      \n",
        "    loss = np.array(loss_list).mean()\n",
        "    return loss"
      ],
      "execution_count": null,
      "outputs": []
    },
    {
      "cell_type": "code",
      "metadata": {
        "id": "Ofyo2mJ_rAcg"
      },
      "source": [
        "def train(X_train,y_train,epochs,alpha,eta0,yminus, yplus, tol =1e-4):\n",
        "    ''' In this function, we will implement logistic regression'''\n",
        "    #Here eta0 is learning rate\n",
        "    #implement the code as follows\n",
        "    # initalize the weights (call the initialize_weights(X_train[0]) function)\n",
        "    # for every epoch\n",
        "        # for every data point(X_train,y_train)                => doubt : isn't it too methodical to be called stochastical? where is randomness? \n",
        "           #compute gradient w.r.to w (call the gradient_dw() function)\n",
        "           #compute gradient w.r.to b (call the gradient_db() function)\n",
        "           #update w, b\n",
        "        # predict the output of x_train[for all data points in X_train] using w,b\n",
        "        #compute the loss between predicted and actual values (call the loss function)=>doubt: \n",
        "        # store all the train loss values in a list\n",
        "        # predict the output of x_test[for all data points in X_test] using w,b\n",
        "        #compute the loss between predicted and actual values (call the loss function)\n",
        "        # store all the test loss values in a list\n",
        "        # you can also compare previous loss and current loss, if loss is not updating then stop the process and return w,b\n",
        "    \n",
        "    \n",
        "    train_loss_lst = []\n",
        "    \n",
        "    N = len(X_train)\n",
        "    dim = X_train[0]\n",
        "    w,b = initialize_weights(dim)\n",
        "    cond = True\n",
        "    #for iter in range(epochs):#if we assume that one epoch corresponds to one distinct training,(which makes sense, as we have seen all the training points,one by one) then only it is advisible to maintain a list of test losses\n",
        "    num_epoch = 0\n",
        "    while cond:\n",
        "      #print(num_epoch)\n",
        "      for  ind in range(N):\n",
        "      #ind = np.random.randint(low = 0,high = len(X_train),size=1)[0]\n",
        "        x = X_train[ind]\n",
        "        #print(x.shape)\n",
        "        y = y_train[ind]\n",
        "        #print(y.shape)\n",
        "        \n",
        "        dw = gradient_dw(x,y,w,b,alpha,N) #note : logloss + reg are being used for every point , indirectly, by calculating dL/dw and dL/db,\n",
        "        db = gradient_db(x,y,w,b)         #i.e we are taking care of finding the slope and use that to obtain new position and it is actually slope and not the exact value of the terrain_height which gives optimum value of the position we should take, no matter that optimity in first place is defined by the minimity of terrain_height only\n",
        "        w = w + eta0*dw\n",
        "        b = b + eta0*db\n",
        "        \n",
        "      preds = [ sigmoid(np.dot(w,x_row) + b) for x_row in X_train ]\n",
        "\n",
        "\n",
        "      #print(preds)\n",
        "      #print(len(preds[0])) \n",
        "      loss = logloss(y_train, preds,yminus,yplus)\n",
        "      train_loss_lst.append(loss)\n",
        "        \n",
        "      \n",
        "      num_epoch+=1\n",
        "      #cond = not( (len(test_loss_lst)>3 and (test_loss_lst[-2] - test_loss_lst[-1]) >0 and (test_loss_lst[-2] - test_loss_lst[-1]) < tol) or  num_epoch == epochs-1 )\n",
        "      cond = not( (len(train_loss_lst)>3 and (train_loss_lst[-2] - train_loss_lst[-1]) >0 and (train_loss_lst[-2] - train_loss_lst[-1]) < tol) or  num_epoch == epochs-1 )\n",
        "      #print(cond)\n",
        "\n",
        "    return w,b,train_loss_lst,preds"
      ],
      "execution_count": null,
      "outputs": []
    },
    {
      "cell_type": "code",
      "metadata": {
        "id": "11VxN9dNxDk2"
      },
      "source": [
        "alpha=0.0001\n",
        "eta0=0.0001\n",
        "\n",
        "epochs= 30\n",
        "w,b,train_loss_lst,preds=train(fcv,ynew,epochs,alpha,eta0,yminus,yplus)"
      ],
      "execution_count": null,
      "outputs": []
    },
    {
      "cell_type": "code",
      "metadata": {
        "colab": {
          "base_uri": "https://localhost:8080/",
          "height": 265
        },
        "id": "XIy3JN1V7SMl",
        "outputId": "74740199-d4bf-4aad-b867-572d9efc03e9"
      },
      "source": [
        "import matplotlib.pyplot as plt\n",
        "\n",
        "plt.scatter(fcv,preds)\n",
        "plt.show()"
      ],
      "execution_count": null,
      "outputs": [
        {
          "output_type": "display_data",
          "data": {
            "image/png": "[encoded data removed]",
            "text/plain": [
              "<Figure size 432x288 with 1 Axes>"
            ]
          },
          "metadata": {
            "needs_background": "light"
          }
        }
      ]
    },
    {
      "cell_type": "markdown",
      "metadata": {
        "id": "oTY7z2bd4Zx2"
      },
      "source": [
        "__Note: in the above algorithm, the steps 2, 4 might need hyper parameter tuning, To reduce the complexity of the assignment we are excluding the hyerparameter tuning part, but intrested students can try that__"
      ]
    },
    {
      "cell_type": "markdown",
      "metadata": {
        "id": "CM3odN1Z4Zx3"
      },
      "source": [
        "\n",
        "If any one wants to try other calibration algorithm istonic regression also please check these tutorials\n",
        "\n",
        "1. http://fa.bianp.net/blog/tag/scikit-learn.html#fn:1\n",
        "\n",
        "2. https://drive.google.com/open?id=1MzmA7QaP58RDzocB0RBmRiWfl7Co_VJ7\n",
        "\n",
        "3. https://drive.google.com/open?id=133odBinMOIVb_rh_GQxxsyMRyW-Zts7a\n",
        "\n",
        "4. https://stat.fandom.com/wiki/Isotonic_regression#Pool_Adjacent_Violators_Algorithm\n"
      ]
    }
  ]
}